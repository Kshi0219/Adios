{
 "cells": [
  {
   "cell_type": "markdown",
   "id": "1eb95cd1-4640-4a95-bbac-0e07ed899b4c",
   "metadata": {},
   "source": [
    "<h1>네이버 부동산 지도 크롤링"
   ]
  },
  {
   "cell_type": "markdown",
   "id": "49129c4a-9a44-4095-9c08-4dad1e189494",
   "metadata": {},
   "source": [
    "### 1. 용원동 크롤링 및 데이터 정제"
   ]
  },
  {
   "cell_type": "markdown",
   "id": "c9647046-4756-45b4-9616-4d15b330f0ef",
   "metadata": {},
   "source": [
    "<h4>1) 라이브러리 호출"
   ]
  },
  {
   "cell_type": "code",
   "execution_count": 1,
   "id": "8466a4ff-febf-44eb-a6b7-f215693e58a8",
   "metadata": {},
   "outputs": [],
   "source": [
    "from selenium import webdriver #Selenium의 웹 드라이버를 사용하기 위한 모듈을 임포트\n",
    "from selenium.webdriver.common.by import By #Selenium에서 사용하는 By 클래스를 임포트합. 웹 요소를 검색하는데 사용.\n",
    "from selenium.webdriver.common.keys import Keys #키보드 입력 제어를 위해 Keys 클래스 임포트\n",
    "from selenium.webdriver.chrome.service import Service #Chrome 드라이버 서비스를 사용하기 위한 모듈 임포트\n",
    "from selenium.webdriver.chrome.options import Options #Chrome 드라이버 옵션을 설정하기 위한 클래스 임포트\n",
    "from webdriver_manager.chrome import ChromeDriverManager #Chrome 드라이버를 자동으로 설치 및 관리하는데 사용되는 드라이버 매니저 임포트\n",
    "from bs4 import BeautifulSoup #Beautiful soup 크롤링을위해\n",
    "import pandas as pd\n",
    "import requests #request 사용을 위해\n",
    "import re #정규표현을  \n",
    "import time #timesleep을 위해 사용"
   ]
  },
  {
   "cell_type": "markdown",
   "id": "b73fa0b6-e915-48b9-9155-d01a704e2ad4",
   "metadata": {},
   "source": [
    "<h4>2) 셀레니움 옵션지정"
   ]
  },
  {
   "cell_type": "code",
   "execution_count": 2,
   "id": "fb6776ff-056c-4df7-bf9e-aea0af994795",
   "metadata": {},
   "outputs": [],
   "source": [
    "myOption = Options() #옵션객체 변수지정\n",
    "myOption.add_argument(\"--start-maximized\") #크롬 드라이버 창 최대화\n",
    "myOption.add_argument(\"--incognito\") #크롬 드라이버 시크릿모드로 진행\n",
    "myOption.add_experimental_option(\"excludeSwitches\", [\"enable-automation\"]) #드라이버 시작시 불필요문구 미표시되도록 설정\n",
    "myOption.add_experimental_option(\"excludeSwitches\", [\"enable-logging\"]) #터미널상의 불필요문구 미표시되도록 설정\n",
    "myOption.add_experimental_option(\"detach\", True) #드라이버 자동꺼짐 방지"
   ]
  },
  {
   "cell_type": "markdown",
   "id": "3515bba3-8bc8-4c1d-a861-3995a75476d8",
   "metadata": {},
   "source": [
    "<h4>3) 셀레니움 드라이버 실행 세팅"
   ]
  },
  {
   "cell_type": "code",
   "execution_count": 66,
   "id": "8c2d026b-17cf-45cf-9e44-6aff7405d991",
   "metadata": {},
   "outputs": [
    {
     "name": "stdout",
     "output_type": "stream",
     "text": [
      "https://new.land.naver.com/offices?ms=35.0920766,128.8153858,15&a=GJCG:TJ:SMS:SG&e=RETAIL&h=165 접속완료\n"
     ]
    }
   ],
   "source": [
    "#드라이버 세팅\n",
    "myService = Service(ChromeDriverManager().install()) #크롬드라이버 설치\n",
    "myDriver = webdriver.Chrome(service=myService, options=myOption) #드라이버 서비스 및 옵션 지정\n",
    "\n",
    "#부산신항 주변 → 경상남도 > 창원시 진해구 > 용원동\n",
    "targetUrl = \"https://new.land.naver.com/offices?ms=35.0920766,128.8153858,15&a=GJCG:TJ:SMS:SG&e=RETAIL&h=165\"\n",
    "myDriver.get(targetUrl) #타겟링크로부터 정보수신\n",
    "time.sleep(4)\n",
    "print(f\"{myDriver.current_url} 접속완료\")\n",
    "\n",
    "#데이터프레임 필드값으로 활용할 빈리스트 생성\n",
    "idx_list = list()  #데이터프레임 순번\n",
    "detailTitle_list = list() #판매제목 \n",
    "detailPrc_list = list()  #가격 리스트\n",
    "type_list = list()  #타입 리스트\n",
    "full_Addr_list = list() #풀 주소 리스트\n",
    "area_list = list() #면적\n",
    "\n",
    "number_idx = 1\n",
    "#좌측바 메뉴 개수를 세어보니 20개임. 따라서 반복문 지정을 20까지로 설정\n",
    "for i in range(2,21):\n",
    "    number_idx +=1  #순번\n",
    "    idx_list.append(number_idx)\n",
    "    leftMenu = myDriver.find_element(By.XPATH, value ='''//*[@id=\"listContents1\"]/div/div/div[1]/div['''+ str(i) +''']''').click() #좌측바 메뉴별 XPATH\n",
    "    time.sleep(4)\n",
    "    #BeautifulSoup4 \n",
    "    webCurrentStatus = myDriver.page_source   #좌측바 메뉴 클릭후 생성된 사이드 바가 표시된 상태 자체를 변수로 지정\n",
    "    myParser = BeautifulSoup(webCurrentStatus, \"html.parser\") #위 코드상태를 html로 파싱\n",
    "    side_Menu = myParser.select(\"div.detail_contents.is-article\") #크롤링 영역 지정 \n",
    "    for i in side_Menu: #위 코드에서 Select을 사용하였기에 출력이 리스트 타입이므로 반복문 진행\n",
    "        #↓추출하고자하는 데이터별 태그+클래스네임을 활용하여 데이터 추출\n",
    "        detailTitle = i.select_one(\"div.detail_fixed > div.main_info_area > div.info_title_wrap\").text\n",
    "        detailType = i.select_one(\"div.detail_fixed > div.main_info_area > div.info_article_price > span.type\").text\n",
    "        detailPrc= i.select_one(\"div.detail_fixed > div.main_info_area > div.info_article_price > span.price\").text\n",
    "        detailAddr = i.select_one(\"div.detail_box--summary > table.info_table_wrap > tbody > tr.info_table_item > td.table_td\").text\n",
    "        detailArea = i.select_one(\"div.main_info_area > div.info_article_feature\").text\n",
    "        full_Addr = detailAddr + \" \" + detailTitle #주소 + 매물명 합침\n",
    "        #↓위에서 추출한 데이터를 빈리스트에 추가\n",
    "        area_list.append(detailArea)\n",
    "        detailTitle_list.append(detailTitle)\n",
    "        type_list.append(detailType)\n",
    "        detailPrc_list.append(detailPrc)\n",
    "        full_Addr_list.append(full_Addr)"
   ]
  },
  {
   "cell_type": "markdown",
   "id": "55edccd8-bca4-46de-82f6-1f9c3ddda112",
   "metadata": {},
   "source": [
    "<h4> 4) 데이터프레임 전처리(1)"
   ]
  },
  {
   "cell_type": "code",
   "execution_count": 65,
   "id": "5fcd77e9-4cef-4f26-808d-fb94e41e9dda",
   "metadata": {},
   "outputs": [
    {
     "ename": "ValueError",
     "evalue": "All arrays must be of the same length",
     "output_type": "error",
     "traceback": [
      "\u001b[1;31m---------------------------------------------------------------------------\u001b[0m",
      "\u001b[1;31mValueError\u001b[0m                                Traceback (most recent call last)",
      "Cell \u001b[1;32mIn[65], line 2\u001b[0m\n\u001b[0;32m      1\u001b[0m \u001b[38;5;66;03m#데이터프레임 생성\u001b[39;00m\n\u001b[1;32m----> 2\u001b[0m storagePlace \u001b[38;5;241m=\u001b[39m pd\u001b[38;5;241m.\u001b[39mDataFrame(\n\u001b[0;32m      3\u001b[0m     {\n\u001b[0;32m      4\u001b[0m      \u001b[38;5;124m\"\u001b[39m\u001b[38;5;124m순번\u001b[39m\u001b[38;5;124m\"\u001b[39m : idx_list,\n\u001b[0;32m      5\u001b[0m      \u001b[38;5;124m\"\u001b[39m\u001b[38;5;124m명칭\u001b[39m\u001b[38;5;124m\"\u001b[39m : detailTitle_list,\n\u001b[0;32m      6\u001b[0m      \u001b[38;5;124m\"\u001b[39m\u001b[38;5;124m타입\u001b[39m\u001b[38;5;124m\"\u001b[39m : type_list,\n\u001b[0;32m      7\u001b[0m      \u001b[38;5;124m\"\u001b[39m\u001b[38;5;124m가격\u001b[39m\u001b[38;5;124m\"\u001b[39m : detailPrc_list,\n\u001b[0;32m      8\u001b[0m      \u001b[38;5;124m\"\u001b[39m\u001b[38;5;124m주소\u001b[39m\u001b[38;5;124m\"\u001b[39m : full_Addr_list,\n\u001b[0;32m      9\u001b[0m      \u001b[38;5;124m\"\u001b[39m\u001b[38;5;124m면적(㎡)\u001b[39m\u001b[38;5;124m\"\u001b[39m : area_list\n\u001b[0;32m     10\u001b[0m     } \n\u001b[0;32m     11\u001b[0m )\n\u001b[0;32m     13\u001b[0m \u001b[38;5;66;03m#전처리를 위해 빈리스트 생성\u001b[39;00m\n\u001b[0;32m     14\u001b[0m deposit_list \u001b[38;5;241m=\u001b[39m \u001b[38;5;28mlist\u001b[39m()\n",
      "File \u001b[1;32m~\\anaconda3\\Lib\\site-packages\\pandas\\core\\frame.py:733\u001b[0m, in \u001b[0;36mDataFrame.__init__\u001b[1;34m(self, data, index, columns, dtype, copy)\u001b[0m\n\u001b[0;32m    727\u001b[0m     mgr \u001b[38;5;241m=\u001b[39m \u001b[38;5;28mself\u001b[39m\u001b[38;5;241m.\u001b[39m_init_mgr(\n\u001b[0;32m    728\u001b[0m         data, axes\u001b[38;5;241m=\u001b[39m{\u001b[38;5;124m\"\u001b[39m\u001b[38;5;124mindex\u001b[39m\u001b[38;5;124m\"\u001b[39m: index, \u001b[38;5;124m\"\u001b[39m\u001b[38;5;124mcolumns\u001b[39m\u001b[38;5;124m\"\u001b[39m: columns}, dtype\u001b[38;5;241m=\u001b[39mdtype, copy\u001b[38;5;241m=\u001b[39mcopy\n\u001b[0;32m    729\u001b[0m     )\n\u001b[0;32m    731\u001b[0m \u001b[38;5;28;01melif\u001b[39;00m \u001b[38;5;28misinstance\u001b[39m(data, \u001b[38;5;28mdict\u001b[39m):\n\u001b[0;32m    732\u001b[0m     \u001b[38;5;66;03m# GH#38939 de facto copy defaults to False only in non-dict cases\u001b[39;00m\n\u001b[1;32m--> 733\u001b[0m     mgr \u001b[38;5;241m=\u001b[39m dict_to_mgr(data, index, columns, dtype\u001b[38;5;241m=\u001b[39mdtype, copy\u001b[38;5;241m=\u001b[39mcopy, typ\u001b[38;5;241m=\u001b[39mmanager)\n\u001b[0;32m    734\u001b[0m \u001b[38;5;28;01melif\u001b[39;00m \u001b[38;5;28misinstance\u001b[39m(data, ma\u001b[38;5;241m.\u001b[39mMaskedArray):\n\u001b[0;32m    735\u001b[0m     \u001b[38;5;28;01mfrom\u001b[39;00m \u001b[38;5;21;01mnumpy\u001b[39;00m\u001b[38;5;21;01m.\u001b[39;00m\u001b[38;5;21;01mma\u001b[39;00m \u001b[38;5;28;01mimport\u001b[39;00m mrecords\n",
      "File \u001b[1;32m~\\anaconda3\\Lib\\site-packages\\pandas\\core\\internals\\construction.py:503\u001b[0m, in \u001b[0;36mdict_to_mgr\u001b[1;34m(data, index, columns, dtype, typ, copy)\u001b[0m\n\u001b[0;32m    499\u001b[0m     \u001b[38;5;28;01melse\u001b[39;00m:\n\u001b[0;32m    500\u001b[0m         \u001b[38;5;66;03m# dtype check to exclude e.g. range objects, scalars\u001b[39;00m\n\u001b[0;32m    501\u001b[0m         arrays \u001b[38;5;241m=\u001b[39m [x\u001b[38;5;241m.\u001b[39mcopy() \u001b[38;5;28;01mif\u001b[39;00m \u001b[38;5;28mhasattr\u001b[39m(x, \u001b[38;5;124m\"\u001b[39m\u001b[38;5;124mdtype\u001b[39m\u001b[38;5;124m\"\u001b[39m) \u001b[38;5;28;01melse\u001b[39;00m x \u001b[38;5;28;01mfor\u001b[39;00m x \u001b[38;5;129;01min\u001b[39;00m arrays]\n\u001b[1;32m--> 503\u001b[0m \u001b[38;5;28;01mreturn\u001b[39;00m arrays_to_mgr(arrays, columns, index, dtype\u001b[38;5;241m=\u001b[39mdtype, typ\u001b[38;5;241m=\u001b[39mtyp, consolidate\u001b[38;5;241m=\u001b[39mcopy)\n",
      "File \u001b[1;32m~\\anaconda3\\Lib\\site-packages\\pandas\\core\\internals\\construction.py:114\u001b[0m, in \u001b[0;36marrays_to_mgr\u001b[1;34m(arrays, columns, index, dtype, verify_integrity, typ, consolidate)\u001b[0m\n\u001b[0;32m    111\u001b[0m \u001b[38;5;28;01mif\u001b[39;00m verify_integrity:\n\u001b[0;32m    112\u001b[0m     \u001b[38;5;66;03m# figure out the index, if necessary\u001b[39;00m\n\u001b[0;32m    113\u001b[0m     \u001b[38;5;28;01mif\u001b[39;00m index \u001b[38;5;129;01mis\u001b[39;00m \u001b[38;5;28;01mNone\u001b[39;00m:\n\u001b[1;32m--> 114\u001b[0m         index \u001b[38;5;241m=\u001b[39m _extract_index(arrays)\n\u001b[0;32m    115\u001b[0m     \u001b[38;5;28;01melse\u001b[39;00m:\n\u001b[0;32m    116\u001b[0m         index \u001b[38;5;241m=\u001b[39m ensure_index(index)\n",
      "File \u001b[1;32m~\\anaconda3\\Lib\\site-packages\\pandas\\core\\internals\\construction.py:677\u001b[0m, in \u001b[0;36m_extract_index\u001b[1;34m(data)\u001b[0m\n\u001b[0;32m    675\u001b[0m lengths \u001b[38;5;241m=\u001b[39m \u001b[38;5;28mlist\u001b[39m(\u001b[38;5;28mset\u001b[39m(raw_lengths))\n\u001b[0;32m    676\u001b[0m \u001b[38;5;28;01mif\u001b[39;00m \u001b[38;5;28mlen\u001b[39m(lengths) \u001b[38;5;241m>\u001b[39m \u001b[38;5;241m1\u001b[39m:\n\u001b[1;32m--> 677\u001b[0m     \u001b[38;5;28;01mraise\u001b[39;00m \u001b[38;5;167;01mValueError\u001b[39;00m(\u001b[38;5;124m\"\u001b[39m\u001b[38;5;124mAll arrays must be of the same length\u001b[39m\u001b[38;5;124m\"\u001b[39m)\n\u001b[0;32m    679\u001b[0m \u001b[38;5;28;01mif\u001b[39;00m have_dicts:\n\u001b[0;32m    680\u001b[0m     \u001b[38;5;28;01mraise\u001b[39;00m \u001b[38;5;167;01mValueError\u001b[39;00m(\n\u001b[0;32m    681\u001b[0m         \u001b[38;5;124m\"\u001b[39m\u001b[38;5;124mMixing dicts with non-Series may lead to ambiguous ordering.\u001b[39m\u001b[38;5;124m\"\u001b[39m\n\u001b[0;32m    682\u001b[0m     )\n",
      "\u001b[1;31mValueError\u001b[0m: All arrays must be of the same length"
     ]
    }
   ],
   "source": [
    "#데이터프레임 생성\n",
    "storagePlace = pd.DataFrame(\n",
    "    {\n",
    "     \"순번\" : idx_list,\n",
    "     \"명칭\" : detailTitle_list,\n",
    "     \"타입\" : type_list,\n",
    "     \"가격\" : detailPrc_list,\n",
    "     \"주소\" : full_Addr_list,\n",
    "     \"면적(㎡)\" : area_list\n",
    "    } \n",
    ")\n",
    "\n",
    "#전처리를 위해 빈리스트 생성\n",
    "deposit_list = list()\n",
    "monthly_fee_list = list()\n",
    "\n",
    "storagePlace[\"보증금\"] = \" \" #신규 필드 생성\n",
    "storagePlace[\"월세\"] = \" \" #신규 필드 생성\n",
    "storagePlace[\"계약면적(㎡)\"] = \" \" #신규 필드 생성\n",
    "storagePlace[\"전용면적(㎡)\"] = \" \" #신규 필드 생성\n",
    "storagePlace[\"대지면적(㎡)\"] = \" \" #신규 필드 생성\n",
    "storagePlace = storagePlace[['순번', '명칭', '타입', '면적(㎡)', '계약면적(㎡)', '전용면적(㎡)', '대지면적(㎡)','가격', '보증금', '월세', '주소']]  #필드순번지정\n",
    "\n",
    "storagePlace\n",
    "\n",
    "for i in range(0,19):\n",
    "    if \"/\" in storagePlace.loc[i,\"가격\"]:\n",
    "        storagePlace.loc[i,\"보증금\"] = storagePlace.loc[i,\"가격\"].split('/')[0].replace(',','').replace('억','')\n",
    "        storagePlace.loc[i,\"월세\"] = storagePlace.loc[i,\"가격\"].split('/')[1].replace(',','').replace('억','')\n",
    "    else:\n",
    "        storagePlace.loc[i,\"보증금\"] = 0\n",
    "        storagePlace.loc[i,\"월세\"] = 0\n",
    "    \n",
    "    if storagePlace.loc[i,\"주소\"][-1] == \"층\":\n",
    "        storagePlace.loc[i,\"주소\"] = storagePlace.loc[i,\"주소\"][:-2]\n",
    "    elif storagePlace.loc[i,\"주소\"][-1] == \"대\":\n",
    "        storagePlace.loc[i,\"주소\"] = storagePlace.loc[i,\"주소\"][:-2]\n",
    "    \n",
    "    if storagePlace.loc[i,\"면적(㎡)\"].split(\":\"):\n",
    "       storagePlace.loc[i,\"면적(㎡)\"] = storagePlace.loc[i,\"면적(㎡)\"].split(\":\")[2]\n",
    "    \n",
    "    if \"/\" in storagePlace.loc[i,\"면적(㎡)\"]: \n",
    "        storagePlace.loc[i,\"계약면적(㎡)\"] = storagePlace.loc[i,\"면적(㎡)\"].split('/')[0].replace(\"㎡\",\"\")\n",
    "        storagePlace.loc[i,\"전용면적(㎡)\"] = storagePlace.loc[i,\"면적(㎡)\"].split('/')[1].replace(\"㎡\",\"\")\n",
    "        storagePlace.loc[i,\"대지면적(㎡)\"] = \"-\"\n",
    "    else:\n",
    "        storagePlace.loc[i,\"계약면적(㎡)\"] = \"-\"\n",
    "        storagePlace.loc[i,\"전용면적(㎡)\"] = \"-\"\n",
    "        storagePlace.loc[i,\"대지면적(㎡)\"] = storagePlace.loc[i,\"면적(㎡)\"].replace(\"㎡\",\"\")\n",
    "\n",
    "\n",
    "storagePlace['보증금'] = storagePlace['보증금'].astype(int)\n",
    "storagePlace['월세'] = storagePlace['월세'].astype(int)\n",
    "storagePlace['월세'] = storagePlace['월세'] * 10000\n",
    "\n",
    "storagePlace.head(2)       "
   ]
  },
  {
   "cell_type": "code",
   "execution_count": 10,
   "id": "e196efd7-7e25-4741-9fdd-8f9d0f24a8ac",
   "metadata": {},
   "outputs": [],
   "source": [
    "storagePlace.to_csv('../data/storagePlaceYong0.1.csv')"
   ]
  },
  {
   "cell_type": "markdown",
   "id": "316e281b-f250-4137-99f9-d92a76de0ab1",
   "metadata": {},
   "source": [
    "<h4> 5) 용원동데이터프레임 전처리(2) - 구분 추가, 값 이상한 행 삭제 등 "
   ]
  },
  {
   "cell_type": "code",
   "execution_count": 38,
   "id": "d24df207-f690-4c77-94f8-2464d7be323b",
   "metadata": {
    "scrolled": true
   },
   "outputs": [
    {
     "data": {
      "text/html": [
       "<div>\n",
       "<style scoped>\n",
       "    .dataframe tbody tr th:only-of-type {\n",
       "        vertical-align: middle;\n",
       "    }\n",
       "\n",
       "    .dataframe tbody tr th {\n",
       "        vertical-align: top;\n",
       "    }\n",
       "\n",
       "    .dataframe thead th {\n",
       "        text-align: right;\n",
       "    }\n",
       "</style>\n",
       "<table border=\"1\" class=\"dataframe\">\n",
       "  <thead>\n",
       "    <tr style=\"text-align: right;\">\n",
       "      <th></th>\n",
       "      <th>Unnamed: 0</th>\n",
       "      <th>순번</th>\n",
       "      <th>명칭</th>\n",
       "      <th>타입</th>\n",
       "      <th>면적(㎡)</th>\n",
       "      <th>계약면적(㎡)</th>\n",
       "      <th>전용면적(㎡)</th>\n",
       "      <th>대지면적(㎡)</th>\n",
       "      <th>가격</th>\n",
       "      <th>보증금</th>\n",
       "      <th>월세</th>\n",
       "      <th>주소</th>\n",
       "    </tr>\n",
       "  </thead>\n",
       "  <tbody>\n",
       "    <tr>\n",
       "      <th>0</th>\n",
       "      <td>0</td>\n",
       "      <td>2</td>\n",
       "      <td>단지내상가 신한주상가4층</td>\n",
       "      <td>월세</td>\n",
       "      <td>256.68㎡/153.05㎡</td>\n",
       "      <td>256.68</td>\n",
       "      <td>153.05</td>\n",
       "      <td>-</td>\n",
       "      <td>1,000/160</td>\n",
       "      <td>1000</td>\n",
       "      <td>1600000</td>\n",
       "      <td>경상남도 창원시 진해구 용원동 단지내상가 신한주상가</td>\n",
       "    </tr>\n",
       "    <tr>\n",
       "      <th>1</th>\n",
       "      <td>1</td>\n",
       "      <td>3</td>\n",
       "      <td>단지내상가 신한주상가4층</td>\n",
       "      <td>월세</td>\n",
       "      <td>256.68㎡/153.05㎡</td>\n",
       "      <td>256.68</td>\n",
       "      <td>153.05</td>\n",
       "      <td>-</td>\n",
       "      <td>1,000/160</td>\n",
       "      <td>1000</td>\n",
       "      <td>1600000</td>\n",
       "      <td>경상남도 창원시 진해구 용원동 단지내상가 신한주상가</td>\n",
       "    </tr>\n",
       "  </tbody>\n",
       "</table>\n",
       "</div>"
      ],
      "text/plain": [
       "   Unnamed: 0  순번             명칭  타입            면적(㎡) 계약면적(㎡) 전용면적(㎡) 대지면적(㎡)  \\\n",
       "0           0   2  단지내상가 신한주상가4층  월세  256.68㎡/153.05㎡  256.68  153.05       -   \n",
       "1           1   3  단지내상가 신한주상가4층  월세  256.68㎡/153.05㎡  256.68  153.05       -   \n",
       "\n",
       "          가격   보증금       월세                            주소  \n",
       "0  1,000/160  1000  1600000  경상남도 창원시 진해구 용원동 단지내상가 신한주상가  \n",
       "1  1,000/160  1000  1600000  경상남도 창원시 진해구 용원동 단지내상가 신한주상가  "
      ]
     },
     "execution_count": 38,
     "metadata": {},
     "output_type": "execute_result"
    }
   ],
   "source": [
    "# 용원동 크롤링 저장한 파일 불러오기\n",
    "storagePlaceYong= pd.read_csv('../data/storagePlaceYong0.1.csv')\n",
    "storagePlaceYong.head(2)"
   ]
  },
  {
   "cell_type": "code",
   "execution_count": 39,
   "id": "51cdea12-556f-4102-81b8-185a739893c3",
   "metadata": {},
   "outputs": [
    {
     "data": {
      "text/html": [
       "<div>\n",
       "<style scoped>\n",
       "    .dataframe tbody tr th:only-of-type {\n",
       "        vertical-align: middle;\n",
       "    }\n",
       "\n",
       "    .dataframe tbody tr th {\n",
       "        vertical-align: top;\n",
       "    }\n",
       "\n",
       "    .dataframe thead th {\n",
       "        text-align: right;\n",
       "    }\n",
       "</style>\n",
       "<table border=\"1\" class=\"dataframe\">\n",
       "  <thead>\n",
       "    <tr style=\"text-align: right;\">\n",
       "      <th></th>\n",
       "      <th>Unnamed: 0</th>\n",
       "      <th>순번</th>\n",
       "      <th>명칭</th>\n",
       "      <th>타입</th>\n",
       "      <th>면적(㎡)</th>\n",
       "      <th>계약면적(㎡)</th>\n",
       "      <th>전용면적(㎡)</th>\n",
       "      <th>대지면적(㎡)</th>\n",
       "      <th>가격</th>\n",
       "      <th>보증금</th>\n",
       "      <th>월세</th>\n",
       "      <th>주소</th>\n",
       "      <th>매매가</th>\n",
       "    </tr>\n",
       "  </thead>\n",
       "  <tbody>\n",
       "    <tr>\n",
       "      <th>0</th>\n",
       "      <td>0</td>\n",
       "      <td>2</td>\n",
       "      <td>단지내상가 신한주상가4층</td>\n",
       "      <td>월세</td>\n",
       "      <td>256.68㎡/153.05㎡</td>\n",
       "      <td>256.68</td>\n",
       "      <td>153.05</td>\n",
       "      <td>-</td>\n",
       "      <td>1,000/160</td>\n",
       "      <td>1000</td>\n",
       "      <td>1600000</td>\n",
       "      <td>경상남도 창원시 진해구 용원동 단지내상가 신한주상가</td>\n",
       "      <td>-</td>\n",
       "    </tr>\n",
       "    <tr>\n",
       "      <th>1</th>\n",
       "      <td>1</td>\n",
       "      <td>3</td>\n",
       "      <td>단지내상가 신한주상가4층</td>\n",
       "      <td>월세</td>\n",
       "      <td>256.68㎡/153.05㎡</td>\n",
       "      <td>256.68</td>\n",
       "      <td>153.05</td>\n",
       "      <td>-</td>\n",
       "      <td>1,000/160</td>\n",
       "      <td>1000</td>\n",
       "      <td>1600000</td>\n",
       "      <td>경상남도 창원시 진해구 용원동 단지내상가 신한주상가</td>\n",
       "      <td>-</td>\n",
       "    </tr>\n",
       "  </tbody>\n",
       "</table>\n",
       "</div>"
      ],
      "text/plain": [
       "   Unnamed: 0  순번             명칭  타입            면적(㎡) 계약면적(㎡) 전용면적(㎡) 대지면적(㎡)  \\\n",
       "0           0   2  단지내상가 신한주상가4층  월세  256.68㎡/153.05㎡  256.68  153.05       -   \n",
       "1           1   3  단지내상가 신한주상가4층  월세  256.68㎡/153.05㎡  256.68  153.05       -   \n",
       "\n",
       "          가격   보증금       월세                            주소 매매가  \n",
       "0  1,000/160  1000  1600000  경상남도 창원시 진해구 용원동 단지내상가 신한주상가   -  \n",
       "1  1,000/160  1000  1600000  경상남도 창원시 진해구 용원동 단지내상가 신한주상가   -  "
      ]
     },
     "execution_count": 39,
     "metadata": {},
     "output_type": "execute_result"
    }
   ],
   "source": [
    "# 매매 타입 유형의 값을 매매가라는 새로운 칼럼에 기입 및 값 변경\n",
    "sell = storagePlaceYong[storagePlaceYong['타입'] == '매매']\n",
    "storagePlaceYong.loc[sell.index, '매매가'] = sell['가격']\n",
    "storagePlaceYong['매매가'].fillna('-', inplace=True)\n",
    "storagePlaceYong.head(2)"
   ]
  },
  {
   "cell_type": "code",
   "execution_count": 40,
   "id": "d1d59426-1e1e-425a-8547-f0ba8b9e99ce",
   "metadata": {},
   "outputs": [],
   "source": [
    "# 보증금, 월세 값 0 대신 -으로 변경\n",
    "storagePlaceYong['보증금'] = storagePlaceYong['보증금'].replace(0, '-')\n",
    "storagePlaceYong['월세'] = storagePlaceYong['월세'].replace(0, '-')"
   ]
  },
  {
   "cell_type": "code",
   "execution_count": 41,
   "id": "946426cf-f002-4682-bb23-9b0048885d82",
   "metadata": {},
   "outputs": [
    {
     "data": {
      "text/html": [
       "<div>\n",
       "<style scoped>\n",
       "    .dataframe tbody tr th:only-of-type {\n",
       "        vertical-align: middle;\n",
       "    }\n",
       "\n",
       "    .dataframe tbody tr th {\n",
       "        vertical-align: top;\n",
       "    }\n",
       "\n",
       "    .dataframe thead th {\n",
       "        text-align: right;\n",
       "    }\n",
       "</style>\n",
       "<table border=\"1\" class=\"dataframe\">\n",
       "  <thead>\n",
       "    <tr style=\"text-align: right;\">\n",
       "      <th></th>\n",
       "      <th>Unnamed: 0</th>\n",
       "      <th>순번</th>\n",
       "      <th>명칭</th>\n",
       "      <th>타입</th>\n",
       "      <th>면적(㎡)</th>\n",
       "      <th>계약면적(㎡)</th>\n",
       "      <th>전용면적(㎡)</th>\n",
       "      <th>대지면적(㎡)</th>\n",
       "      <th>가격</th>\n",
       "      <th>보증금</th>\n",
       "      <th>월세</th>\n",
       "      <th>주소</th>\n",
       "      <th>매매가</th>\n",
       "    </tr>\n",
       "  </thead>\n",
       "  <tbody>\n",
       "    <tr>\n",
       "      <th>0</th>\n",
       "      <td>0</td>\n",
       "      <td>2</td>\n",
       "      <td>단지내상가 신한주상가4층</td>\n",
       "      <td>월세</td>\n",
       "      <td>256.68㎡/153.05㎡</td>\n",
       "      <td>256.68</td>\n",
       "      <td>153.05</td>\n",
       "      <td>-</td>\n",
       "      <td>1,000/160</td>\n",
       "      <td>1000</td>\n",
       "      <td>1600000</td>\n",
       "      <td>경상남도 창원시 진해구 용원동 단지내상가 신한주상가</td>\n",
       "      <td>-</td>\n",
       "    </tr>\n",
       "    <tr>\n",
       "      <th>1</th>\n",
       "      <td>1</td>\n",
       "      <td>3</td>\n",
       "      <td>단지내상가 신한주상가4층</td>\n",
       "      <td>월세</td>\n",
       "      <td>256.68㎡/153.05㎡</td>\n",
       "      <td>256.68</td>\n",
       "      <td>153.05</td>\n",
       "      <td>-</td>\n",
       "      <td>1,000/160</td>\n",
       "      <td>1000</td>\n",
       "      <td>1600000</td>\n",
       "      <td>경상남도 창원시 진해구 용원동 단지내상가 신한주상가</td>\n",
       "      <td>-</td>\n",
       "    </tr>\n",
       "  </tbody>\n",
       "</table>\n",
       "</div>"
      ],
      "text/plain": [
       "   Unnamed: 0  순번             명칭  타입            면적(㎡) 계약면적(㎡) 전용면적(㎡) 대지면적(㎡)  \\\n",
       "0           0   2  단지내상가 신한주상가4층  월세  256.68㎡/153.05㎡  256.68  153.05       -   \n",
       "1           1   3  단지내상가 신한주상가4층  월세  256.68㎡/153.05㎡  256.68  153.05       -   \n",
       "\n",
       "          가격   보증금       월세                            주소 매매가  \n",
       "0  1,000/160  1000  1600000  경상남도 창원시 진해구 용원동 단지내상가 신한주상가   -  \n",
       "1  1,000/160  1000  1600000  경상남도 창원시 진해구 용원동 단지내상가 신한주상가   -  "
      ]
     },
     "execution_count": 41,
     "metadata": {},
     "output_type": "execute_result"
    }
   ],
   "source": [
    "storagePlaceYong.head(2)"
   ]
  },
  {
   "cell_type": "code",
   "execution_count": 42,
   "id": "f6f5f0a0-dcba-4b8d-bc5b-5ba300ea84ab",
   "metadata": {},
   "outputs": [
    {
     "data": {
      "text/html": [
       "<div>\n",
       "<style scoped>\n",
       "    .dataframe tbody tr th:only-of-type {\n",
       "        vertical-align: middle;\n",
       "    }\n",
       "\n",
       "    .dataframe tbody tr th {\n",
       "        vertical-align: top;\n",
       "    }\n",
       "\n",
       "    .dataframe thead th {\n",
       "        text-align: right;\n",
       "    }\n",
       "</style>\n",
       "<table border=\"1\" class=\"dataframe\">\n",
       "  <thead>\n",
       "    <tr style=\"text-align: right;\">\n",
       "      <th></th>\n",
       "      <th>Unnamed: 0</th>\n",
       "      <th>순번</th>\n",
       "      <th>명칭</th>\n",
       "      <th>타입</th>\n",
       "      <th>면적(㎡)</th>\n",
       "      <th>계약면적(㎡)</th>\n",
       "      <th>전용면적(㎡)</th>\n",
       "      <th>대지면적(㎡)</th>\n",
       "      <th>가격</th>\n",
       "      <th>보증금</th>\n",
       "      <th>월세</th>\n",
       "      <th>주소</th>\n",
       "      <th>매매가</th>\n",
       "      <th>구분</th>\n",
       "    </tr>\n",
       "  </thead>\n",
       "  <tbody>\n",
       "    <tr>\n",
       "      <th>0</th>\n",
       "      <td>0</td>\n",
       "      <td>2</td>\n",
       "      <td>단지내상가 신한주상가4층</td>\n",
       "      <td>월세</td>\n",
       "      <td>256.68㎡/153.05㎡</td>\n",
       "      <td>256.68</td>\n",
       "      <td>153.05</td>\n",
       "      <td>-</td>\n",
       "      <td>1,000/160</td>\n",
       "      <td>1000</td>\n",
       "      <td>1600000</td>\n",
       "      <td>경상남도 창원시 진해구 용원동 단지내상가 신한주상가</td>\n",
       "      <td>-</td>\n",
       "      <td>용원동</td>\n",
       "    </tr>\n",
       "    <tr>\n",
       "      <th>1</th>\n",
       "      <td>1</td>\n",
       "      <td>3</td>\n",
       "      <td>단지내상가 신한주상가4층</td>\n",
       "      <td>월세</td>\n",
       "      <td>256.68㎡/153.05㎡</td>\n",
       "      <td>256.68</td>\n",
       "      <td>153.05</td>\n",
       "      <td>-</td>\n",
       "      <td>1,000/160</td>\n",
       "      <td>1000</td>\n",
       "      <td>1600000</td>\n",
       "      <td>경상남도 창원시 진해구 용원동 단지내상가 신한주상가</td>\n",
       "      <td>-</td>\n",
       "      <td>용원동</td>\n",
       "    </tr>\n",
       "  </tbody>\n",
       "</table>\n",
       "</div>"
      ],
      "text/plain": [
       "   Unnamed: 0  순번             명칭  타입            면적(㎡) 계약면적(㎡) 전용면적(㎡) 대지면적(㎡)  \\\n",
       "0           0   2  단지내상가 신한주상가4층  월세  256.68㎡/153.05㎡  256.68  153.05       -   \n",
       "1           1   3  단지내상가 신한주상가4층  월세  256.68㎡/153.05㎡  256.68  153.05       -   \n",
       "\n",
       "          가격   보증금       월세                            주소 매매가   구분  \n",
       "0  1,000/160  1000  1600000  경상남도 창원시 진해구 용원동 단지내상가 신한주상가   -  용원동  \n",
       "1  1,000/160  1000  1600000  경상남도 창원시 진해구 용원동 단지내상가 신한주상가   -  용원동  "
      ]
     },
     "execution_count": 42,
     "metadata": {},
     "output_type": "execute_result"
    }
   ],
   "source": [
    "# 구분 컬럼 추가\n",
    "storagePlaceYong['구분']='용원동'\n",
    "storagePlaceYong.head(2)"
   ]
  },
  {
   "cell_type": "code",
   "execution_count": 43,
   "id": "eeb8213f-a248-46bd-ab2f-20aa2490c75e",
   "metadata": {},
   "outputs": [
    {
     "data": {
      "text/html": [
       "<div>\n",
       "<style scoped>\n",
       "    .dataframe tbody tr th:only-of-type {\n",
       "        vertical-align: middle;\n",
       "    }\n",
       "\n",
       "    .dataframe tbody tr th {\n",
       "        vertical-align: top;\n",
       "    }\n",
       "\n",
       "    .dataframe thead th {\n",
       "        text-align: right;\n",
       "    }\n",
       "</style>\n",
       "<table border=\"1\" class=\"dataframe\">\n",
       "  <thead>\n",
       "    <tr style=\"text-align: right;\">\n",
       "      <th></th>\n",
       "      <th>순번</th>\n",
       "      <th>구분</th>\n",
       "      <th>타입</th>\n",
       "      <th>계약면적(㎡)</th>\n",
       "      <th>전용면적(㎡)</th>\n",
       "      <th>대지면적(㎡)</th>\n",
       "      <th>매매가</th>\n",
       "      <th>보증금</th>\n",
       "      <th>월세</th>\n",
       "      <th>주소</th>\n",
       "      <th>명칭</th>\n",
       "    </tr>\n",
       "  </thead>\n",
       "  <tbody>\n",
       "    <tr>\n",
       "      <th>0</th>\n",
       "      <td>2</td>\n",
       "      <td>용원동</td>\n",
       "      <td>월세</td>\n",
       "      <td>256.68</td>\n",
       "      <td>153.05</td>\n",
       "      <td>-</td>\n",
       "      <td>-</td>\n",
       "      <td>1000</td>\n",
       "      <td>1600000</td>\n",
       "      <td>경상남도 창원시 진해구 용원동 단지내상가 신한주상가</td>\n",
       "      <td>단지내상가 신한주상가4층</td>\n",
       "    </tr>\n",
       "    <tr>\n",
       "      <th>1</th>\n",
       "      <td>3</td>\n",
       "      <td>용원동</td>\n",
       "      <td>월세</td>\n",
       "      <td>256.68</td>\n",
       "      <td>153.05</td>\n",
       "      <td>-</td>\n",
       "      <td>-</td>\n",
       "      <td>1000</td>\n",
       "      <td>1600000</td>\n",
       "      <td>경상남도 창원시 진해구 용원동 단지내상가 신한주상가</td>\n",
       "      <td>단지내상가 신한주상가4층</td>\n",
       "    </tr>\n",
       "  </tbody>\n",
       "</table>\n",
       "</div>"
      ],
      "text/plain": [
       "   순번   구분  타입 계약면적(㎡) 전용면적(㎡) 대지면적(㎡) 매매가   보증금       월세  \\\n",
       "0   2  용원동  월세  256.68  153.05       -   -  1000  1600000   \n",
       "1   3  용원동  월세  256.68  153.05       -   -  1000  1600000   \n",
       "\n",
       "                             주소             명칭  \n",
       "0  경상남도 창원시 진해구 용원동 단지내상가 신한주상가  단지내상가 신한주상가4층  \n",
       "1  경상남도 창원시 진해구 용원동 단지내상가 신한주상가  단지내상가 신한주상가4층  "
      ]
     },
     "execution_count": 43,
     "metadata": {},
     "output_type": "execute_result"
    }
   ],
   "source": [
    "# 필요 칼럼만 불러오기\n",
    "storagePlaceYong = storagePlaceYong[['순번','구분','타입','계약면적(㎡)','전용면적(㎡)','대지면적(㎡)','매매가','보증금','월세','주소','명칭']]\n",
    "storagePlaceYong.head(2)"
   ]
  },
  {
   "cell_type": "code",
   "execution_count": 44,
   "id": "e105efcb-68c4-4804-bbaf-9122bd04c4fd",
   "metadata": {},
   "outputs": [
    {
     "data": {
      "text/html": [
       "<div>\n",
       "<style scoped>\n",
       "    .dataframe tbody tr th:only-of-type {\n",
       "        vertical-align: middle;\n",
       "    }\n",
       "\n",
       "    .dataframe tbody tr th {\n",
       "        vertical-align: top;\n",
       "    }\n",
       "\n",
       "    .dataframe thead th {\n",
       "        text-align: right;\n",
       "    }\n",
       "</style>\n",
       "<table border=\"1\" class=\"dataframe\">\n",
       "  <thead>\n",
       "    <tr style=\"text-align: right;\">\n",
       "      <th></th>\n",
       "      <th>순번</th>\n",
       "      <th>구분</th>\n",
       "      <th>타입</th>\n",
       "      <th>계약면적(㎡)</th>\n",
       "      <th>전용면적(㎡)</th>\n",
       "      <th>대지면적(㎡)</th>\n",
       "      <th>매매가</th>\n",
       "      <th>보증금 (단위: 만원)</th>\n",
       "      <th>월세(단위:만원)</th>\n",
       "      <th>주소</th>\n",
       "      <th>기타(세부주소)</th>\n",
       "    </tr>\n",
       "  </thead>\n",
       "  <tbody>\n",
       "    <tr>\n",
       "      <th>0</th>\n",
       "      <td>2</td>\n",
       "      <td>용원동</td>\n",
       "      <td>월세</td>\n",
       "      <td>256.68</td>\n",
       "      <td>153.05</td>\n",
       "      <td>-</td>\n",
       "      <td>-</td>\n",
       "      <td>1000</td>\n",
       "      <td>1600000</td>\n",
       "      <td>경상남도 창원시 진해구 용원동 단지내상가 신한주상가</td>\n",
       "      <td>단지내상가 신한주상가4층</td>\n",
       "    </tr>\n",
       "    <tr>\n",
       "      <th>1</th>\n",
       "      <td>3</td>\n",
       "      <td>용원동</td>\n",
       "      <td>월세</td>\n",
       "      <td>256.68</td>\n",
       "      <td>153.05</td>\n",
       "      <td>-</td>\n",
       "      <td>-</td>\n",
       "      <td>1000</td>\n",
       "      <td>1600000</td>\n",
       "      <td>경상남도 창원시 진해구 용원동 단지내상가 신한주상가</td>\n",
       "      <td>단지내상가 신한주상가4층</td>\n",
       "    </tr>\n",
       "  </tbody>\n",
       "</table>\n",
       "</div>"
      ],
      "text/plain": [
       "   순번   구분  타입 계약면적(㎡) 전용면적(㎡) 대지면적(㎡) 매매가 보증금 (단위: 만원) 월세(단위:만원)  \\\n",
       "0   2  용원동  월세  256.68  153.05       -   -         1000   1600000   \n",
       "1   3  용원동  월세  256.68  153.05       -   -         1000   1600000   \n",
       "\n",
       "                             주소       기타(세부주소)  \n",
       "0  경상남도 창원시 진해구 용원동 단지내상가 신한주상가  단지내상가 신한주상가4층  \n",
       "1  경상남도 창원시 진해구 용원동 단지내상가 신한주상가  단지내상가 신한주상가4층  "
      ]
     },
     "execution_count": 44,
     "metadata": {},
     "output_type": "execute_result"
    }
   ],
   "source": [
    "# 칼럼 이름 변경\n",
    "storagePlaceYong = storagePlaceYong.rename(columns={'명칭': '기타(세부주소)'})\n",
    "storagePlaceYong = storagePlaceYong.rename(columns={'보증금': '보증금 (단위: 만원)'})\n",
    "storagePlaceYong = storagePlaceYong.rename(columns={'월세': '월세(단위:만원)'})\n",
    "storagePlaceYong.head(2)"
   ]
  },
  {
   "cell_type": "code",
   "execution_count": 45,
   "id": "6fcd8f27-260d-4cfd-bc71-f3c09295833d",
   "metadata": {},
   "outputs": [
    {
     "data": {
      "text/html": [
       "<div>\n",
       "<style scoped>\n",
       "    .dataframe tbody tr th:only-of-type {\n",
       "        vertical-align: middle;\n",
       "    }\n",
       "\n",
       "    .dataframe tbody tr th {\n",
       "        vertical-align: top;\n",
       "    }\n",
       "\n",
       "    .dataframe thead th {\n",
       "        text-align: right;\n",
       "    }\n",
       "</style>\n",
       "<table border=\"1\" class=\"dataframe\">\n",
       "  <thead>\n",
       "    <tr style=\"text-align: right;\">\n",
       "      <th></th>\n",
       "      <th>순번</th>\n",
       "      <th>구분</th>\n",
       "      <th>타입</th>\n",
       "      <th>계약면적(㎡)</th>\n",
       "      <th>전용면적(㎡)</th>\n",
       "      <th>대지면적(㎡)</th>\n",
       "      <th>매매가</th>\n",
       "      <th>보증금 (단위: 만원)</th>\n",
       "      <th>월세(단위:만원)</th>\n",
       "      <th>주소</th>\n",
       "      <th>기타(세부주소)</th>\n",
       "    </tr>\n",
       "  </thead>\n",
       "  <tbody>\n",
       "    <tr>\n",
       "      <th>0</th>\n",
       "      <td>2</td>\n",
       "      <td>용원동</td>\n",
       "      <td>월세</td>\n",
       "      <td>256.68</td>\n",
       "      <td>153.05</td>\n",
       "      <td>-</td>\n",
       "      <td>-</td>\n",
       "      <td>1000</td>\n",
       "      <td>1600000</td>\n",
       "      <td>경상남도 창원시 진해구 용원동 단지내상가 신한주상가</td>\n",
       "      <td>단지내상가 신한주상가4층</td>\n",
       "    </tr>\n",
       "    <tr>\n",
       "      <th>2</th>\n",
       "      <td>4</td>\n",
       "      <td>용원동</td>\n",
       "      <td>월세</td>\n",
       "      <td>256.68</td>\n",
       "      <td>153.05</td>\n",
       "      <td>-</td>\n",
       "      <td>-</td>\n",
       "      <td>1000</td>\n",
       "      <td>1600000</td>\n",
       "      <td>경상남도 창원시 진해구 용원동 단지내상가 신한주상가</td>\n",
       "      <td>단지내상가 신한주상가4층</td>\n",
       "    </tr>\n",
       "  </tbody>\n",
       "</table>\n",
       "</div>"
      ],
      "text/plain": [
       "   순번   구분  타입 계약면적(㎡) 전용면적(㎡) 대지면적(㎡) 매매가 보증금 (단위: 만원) 월세(단위:만원)  \\\n",
       "0   2  용원동  월세  256.68  153.05       -   -         1000   1600000   \n",
       "2   4  용원동  월세  256.68  153.05       -   -         1000   1600000   \n",
       "\n",
       "                             주소       기타(세부주소)  \n",
       "0  경상남도 창원시 진해구 용원동 단지내상가 신한주상가  단지내상가 신한주상가4층  \n",
       "2  경상남도 창원시 진해구 용원동 단지내상가 신한주상가  단지내상가 신한주상가4층  "
      ]
     },
     "execution_count": 45,
     "metadata": {},
     "output_type": "execute_result"
    }
   ],
   "source": [
    "# 타입별로 분류하기\n",
    "storagePlaceYong = storagePlaceYong.sort_values(by='타입', ascending=False)\n",
    "storagePlaceYong.head(2)"
   ]
  },
  {
   "cell_type": "code",
   "execution_count": 46,
   "id": "d120e382-a026-4fda-adcb-b68d9974609c",
   "metadata": {},
   "outputs": [
    {
     "data": {
      "text/html": [
       "<div>\n",
       "<style scoped>\n",
       "    .dataframe tbody tr th:only-of-type {\n",
       "        vertical-align: middle;\n",
       "    }\n",
       "\n",
       "    .dataframe tbody tr th {\n",
       "        vertical-align: top;\n",
       "    }\n",
       "\n",
       "    .dataframe thead th {\n",
       "        text-align: right;\n",
       "    }\n",
       "</style>\n",
       "<table border=\"1\" class=\"dataframe\">\n",
       "  <thead>\n",
       "    <tr style=\"text-align: right;\">\n",
       "      <th></th>\n",
       "      <th>순번</th>\n",
       "      <th>구분</th>\n",
       "      <th>타입</th>\n",
       "      <th>계약면적(㎡)</th>\n",
       "      <th>전용면적(㎡)</th>\n",
       "      <th>대지면적(㎡)</th>\n",
       "      <th>매매가</th>\n",
       "      <th>보증금 (단위: 만원)</th>\n",
       "      <th>월세(단위:만원)</th>\n",
       "      <th>주소</th>\n",
       "      <th>기타(세부주소)</th>\n",
       "    </tr>\n",
       "  </thead>\n",
       "  <tbody>\n",
       "    <tr>\n",
       "      <th>0</th>\n",
       "      <td>1</td>\n",
       "      <td>용원동</td>\n",
       "      <td>월세</td>\n",
       "      <td>256.68</td>\n",
       "      <td>153.05</td>\n",
       "      <td>-</td>\n",
       "      <td>-</td>\n",
       "      <td>1000</td>\n",
       "      <td>1600000</td>\n",
       "      <td>경상남도 창원시 진해구 용원동 단지내상가 신한주상가</td>\n",
       "      <td>단지내상가 신한주상가4층</td>\n",
       "    </tr>\n",
       "    <tr>\n",
       "      <th>1</th>\n",
       "      <td>2</td>\n",
       "      <td>용원동</td>\n",
       "      <td>월세</td>\n",
       "      <td>256.68</td>\n",
       "      <td>153.05</td>\n",
       "      <td>-</td>\n",
       "      <td>-</td>\n",
       "      <td>1000</td>\n",
       "      <td>1600000</td>\n",
       "      <td>경상남도 창원시 진해구 용원동 단지내상가 신한주상가</td>\n",
       "      <td>단지내상가 신한주상가4층</td>\n",
       "    </tr>\n",
       "  </tbody>\n",
       "</table>\n",
       "</div>"
      ],
      "text/plain": [
       "   순번   구분  타입 계약면적(㎡) 전용면적(㎡) 대지면적(㎡) 매매가 보증금 (단위: 만원) 월세(단위:만원)  \\\n",
       "0   1  용원동  월세  256.68  153.05       -   -         1000   1600000   \n",
       "1   2  용원동  월세  256.68  153.05       -   -         1000   1600000   \n",
       "\n",
       "                             주소       기타(세부주소)  \n",
       "0  경상남도 창원시 진해구 용원동 단지내상가 신한주상가  단지내상가 신한주상가4층  \n",
       "1  경상남도 창원시 진해구 용원동 단지내상가 신한주상가  단지내상가 신한주상가4층  "
      ]
     },
     "execution_count": 46,
     "metadata": {},
     "output_type": "execute_result"
    }
   ],
   "source": [
    "# 순번 열 자동화\n",
    "storagePlaceYong.reset_index(drop=True, inplace=True)\n",
    "storagePlaceYong['순번'] = storagePlaceYong.index + 1\n",
    "storagePlaceYong.head(2)"
   ]
  },
  {
   "cell_type": "code",
   "execution_count": 47,
   "id": "ff4ab08e-92fd-4cb6-a713-0fbac736c612",
   "metadata": {},
   "outputs": [],
   "source": [
    "# 전처리 끝난 용원동 파일 저장하기\n",
    "storagePlaceYong.to_csv('../data/yongwondong0.1')"
   ]
  },
  {
   "cell_type": "markdown",
   "id": "9318736a-6195-4697-9dd0-04d696a3ff2c",
   "metadata": {},
   "source": [
    "### 2. 천성동 웹크롤링 및 데이터 정제"
   ]
  },
  {
   "cell_type": "code",
   "execution_count": 48,
   "id": "4c247c19-b0eb-49b4-9fda-f4979eb5718b",
   "metadata": {},
   "outputs": [],
   "source": [
    "# 라이브러리 로드\n",
    "from selenium import webdriver #Selenium의 웹 드라이버를 사용하기 위한 모듈을 임포트\n",
    "from selenium.webdriver.common.by import By #Selenium에서 사용하는 By 클래스를 임포트합. 웹 요소를 검색하는데 사용.\n",
    "from selenium.webdriver.common.keys import Keys #키보드 입력 제어를 위해 Keys 클래스 임포트\n",
    "from selenium.webdriver.chrome.service import Service #Chrome 드라이버 서비스를 사용하기 위한 모듈 임포트\n",
    "from selenium.webdriver.chrome.options import Options #Chrome 드라이버 옵션을 설정하기 위한 클래스 임포트\n",
    "from webdriver_manager.chrome import ChromeDriverManager #Chrome 드라이버를 자동으로 설치 및 관리하는데 사용되는 드라이버 매니저 임포트\n",
    "from bs4 import BeautifulSoup #Beautiful soup 크롤링을위해\n",
    "import pandas as pd\n",
    "import requests #request 사용을 위해\n",
    "import re #정규표현을  \n",
    "import time #timesleep을 위해 사용\n",
    "import numpy as np\n",
    "# 셀레니움 옵션 지정\n",
    "myOption = Options() #옵션객체 변수지정\n",
    "myOption.add_argument(\"--start-maximized\") #크롬 드라이버 창 최대화\n",
    "myOption.add_argument(\"--incognito\") #크롬 드라이버 시크릿모드로 진행\n",
    "myOption.add_experimental_option(\"excludeSwitches\", [\"enable-automation\"]) #드라이버 시작시 불필요문구 미표시되도록 설정\n",
    "myOption.add_experimental_option(\"excludeSwitches\", [\"enable-logging\"]) #터미널상의 불필요문구 미표시되도록 설정\n",
    "myOption.add_experimental_option(\"detach\", True) #드라이버 자동꺼짐 방지\n",
    "#드라이버 세팅\n",
    "myService = Service(ChromeDriverManager().install()) #크롬드라이버 설치\n",
    "myDriver = webdriver.Chrome(service=myService, options=myOption) #드라이버 서비스 및 옵션 지정"
   ]
  },
  {
   "cell_type": "code",
   "execution_count": 49,
   "id": "c8fbaed2-b6c1-4576-9e77-e9e6692c0222",
   "metadata": {},
   "outputs": [
    {
     "name": "stdout",
     "output_type": "stream",
     "text": [
      "https://new.land.naver.com/offices?ms=35.0361166,128.8267131,15&a=GJCG:TJ:SMS:SG&e=RETAIL&h=165 접속완료\n"
     ]
    }
   ],
   "source": [
    "#천성동\n",
    "targetUrl = \"https://new.land.naver.com/offices?ms=35.0361166,128.8267131,15&a=GJCG:TJ:SMS:SG&e=RETAIL&h=165\"\n",
    "myDriver.get(targetUrl) #타겟링크로부터 정보수신\n",
    "time.sleep(4)\n",
    "print(f\"{myDriver.current_url} 접속완료\")"
   ]
  },
  {
   "cell_type": "code",
   "execution_count": 50,
   "id": "9befa2b3-7bf0-46a0-a06d-26a3c9d257b3",
   "metadata": {},
   "outputs": [
    {
     "data": {
      "text/plain": [
       "12"
      ]
     },
     "execution_count": 50,
     "metadata": {},
     "output_type": "execute_result"
    }
   ],
   "source": [
    "# 천성동 리스트 길이 확인\n",
    "total_items = len(myDriver.find_elements(By.XPATH, '//*[@id=\"listContents1\"]/div/div/div[1]/div'))\n",
    "total_items"
   ]
  },
  {
   "cell_type": "code",
   "execution_count": 51,
   "id": "aa64fa8b-edb7-4808-bb5b-8cf7e071e911",
   "metadata": {},
   "outputs": [],
   "source": [
    "#데이터프레임 필드값으로 활용할 빈리스트 생성\n",
    "idx_list = list()  #데이터프레임 순번\n",
    "detailTitle_list = list() #판매제목 \n",
    "detailPrc_list = list()  #가격 리스트\n",
    "type_list = list()  #타입 리스트\n",
    "full_Addr_list = list() #풀 주소 리스트\n",
    "area_list = list() #면적"
   ]
  },
  {
   "cell_type": "code",
   "execution_count": 55,
   "id": "cf3eecc9-117a-4601-b98a-a77ebeb387d5",
   "metadata": {
    "scrolled": true
   },
   "outputs": [
    {
     "ename": "NoSuchWindowException",
     "evalue": "Message: no such window: target window already closed\nfrom unknown error: web view not found\n  (Session info: chrome=122.0.6261.95)\nStacktrace:\n\tGetHandleVerifier [0x00528C93+51395]\n\t(No symbol) [0x00495EF1]\n\t(No symbol) [0x0034E13A]\n\t(No symbol) [0x003325F2]\n\t(No symbol) [0x003A9B2B]\n\t(No symbol) [0x003B9E66]\n\t(No symbol) [0x003A3C26]\n\t(No symbol) [0x0037C629]\n\t(No symbol) [0x0037D40D]\n\tGetHandleVerifier [0x008A6453+3711107]\n\tGetHandleVerifier [0x008E583A+3970154]\n\tGetHandleVerifier [0x008E0B28+3950424]\n\tGetHandleVerifier [0x005D9C99+776393]\n\t(No symbol) [0x004A16C4]\n\t(No symbol) [0x0049C5A8]\n\t(No symbol) [0x0049C759]\n\t(No symbol) [0x0048DD80]\n\tBaseThreadInitThunk [0x757800C9+25]\n\tRtlGetAppContainerNamedObjectPath [0x77407B1E+286]\n\tRtlGetAppContainerNamedObjectPath [0x77407AEE+238]\n",
     "output_type": "error",
     "traceback": [
      "\u001b[1;31m---------------------------------------------------------------------------\u001b[0m",
      "\u001b[1;31mNoSuchWindowException\u001b[0m                     Traceback (most recent call last)",
      "Cell \u001b[1;32mIn[55], line 13\u001b[0m\n\u001b[0;32m     10\u001b[0m element_xpath \u001b[38;5;241m=\u001b[39m \u001b[38;5;124mf\u001b[39m\u001b[38;5;124m'\u001b[39m\u001b[38;5;124m//*[@id=\u001b[39m\u001b[38;5;124m\"\u001b[39m\u001b[38;5;124mlistContents1\u001b[39m\u001b[38;5;124m\"\u001b[39m\u001b[38;5;124m]/div/div/div[1]/div[\u001b[39m\u001b[38;5;132;01m{\u001b[39;00mi\u001b[38;5;132;01m}\u001b[39;00m\u001b[38;5;124m]\u001b[39m\u001b[38;5;124m'\u001b[39m\n\u001b[0;32m     12\u001b[0m \u001b[38;5;66;03m# 좌측바 메뉴 클릭\u001b[39;00m\n\u001b[1;32m---> 13\u001b[0m leftMenu \u001b[38;5;241m=\u001b[39m myDriver\u001b[38;5;241m.\u001b[39mfind_element(By\u001b[38;5;241m.\u001b[39mXPATH, value\u001b[38;5;241m=\u001b[39melement_xpath)\u001b[38;5;241m.\u001b[39mclick()\n\u001b[0;32m     14\u001b[0m time\u001b[38;5;241m.\u001b[39msleep(\u001b[38;5;241m4\u001b[39m)\n\u001b[0;32m     16\u001b[0m \u001b[38;5;66;03m# 나머지 코드\u001b[39;00m\n",
      "File \u001b[1;32m~\\anaconda3\\Lib\\site-packages\\selenium\\webdriver\\remote\\webdriver.py:741\u001b[0m, in \u001b[0;36mWebDriver.find_element\u001b[1;34m(self, by, value)\u001b[0m\n\u001b[0;32m    738\u001b[0m     by \u001b[38;5;241m=\u001b[39m By\u001b[38;5;241m.\u001b[39mCSS_SELECTOR\n\u001b[0;32m    739\u001b[0m     value \u001b[38;5;241m=\u001b[39m \u001b[38;5;124mf\u001b[39m\u001b[38;5;124m'\u001b[39m\u001b[38;5;124m[name=\u001b[39m\u001b[38;5;124m\"\u001b[39m\u001b[38;5;132;01m{\u001b[39;00mvalue\u001b[38;5;132;01m}\u001b[39;00m\u001b[38;5;124m\"\u001b[39m\u001b[38;5;124m]\u001b[39m\u001b[38;5;124m'\u001b[39m\n\u001b[1;32m--> 741\u001b[0m \u001b[38;5;28;01mreturn\u001b[39;00m \u001b[38;5;28mself\u001b[39m\u001b[38;5;241m.\u001b[39mexecute(Command\u001b[38;5;241m.\u001b[39mFIND_ELEMENT, {\u001b[38;5;124m\"\u001b[39m\u001b[38;5;124musing\u001b[39m\u001b[38;5;124m\"\u001b[39m: by, \u001b[38;5;124m\"\u001b[39m\u001b[38;5;124mvalue\u001b[39m\u001b[38;5;124m\"\u001b[39m: value})[\u001b[38;5;124m\"\u001b[39m\u001b[38;5;124mvalue\u001b[39m\u001b[38;5;124m\"\u001b[39m]\n",
      "File \u001b[1;32m~\\anaconda3\\Lib\\site-packages\\selenium\\webdriver\\remote\\webdriver.py:347\u001b[0m, in \u001b[0;36mWebDriver.execute\u001b[1;34m(self, driver_command, params)\u001b[0m\n\u001b[0;32m    345\u001b[0m response \u001b[38;5;241m=\u001b[39m \u001b[38;5;28mself\u001b[39m\u001b[38;5;241m.\u001b[39mcommand_executor\u001b[38;5;241m.\u001b[39mexecute(driver_command, params)\n\u001b[0;32m    346\u001b[0m \u001b[38;5;28;01mif\u001b[39;00m response:\n\u001b[1;32m--> 347\u001b[0m     \u001b[38;5;28mself\u001b[39m\u001b[38;5;241m.\u001b[39merror_handler\u001b[38;5;241m.\u001b[39mcheck_response(response)\n\u001b[0;32m    348\u001b[0m     response[\u001b[38;5;124m\"\u001b[39m\u001b[38;5;124mvalue\u001b[39m\u001b[38;5;124m\"\u001b[39m] \u001b[38;5;241m=\u001b[39m \u001b[38;5;28mself\u001b[39m\u001b[38;5;241m.\u001b[39m_unwrap_value(response\u001b[38;5;241m.\u001b[39mget(\u001b[38;5;124m\"\u001b[39m\u001b[38;5;124mvalue\u001b[39m\u001b[38;5;124m\"\u001b[39m, \u001b[38;5;28;01mNone\u001b[39;00m))\n\u001b[0;32m    349\u001b[0m     \u001b[38;5;28;01mreturn\u001b[39;00m response\n",
      "File \u001b[1;32m~\\anaconda3\\Lib\\site-packages\\selenium\\webdriver\\remote\\errorhandler.py:229\u001b[0m, in \u001b[0;36mErrorHandler.check_response\u001b[1;34m(self, response)\u001b[0m\n\u001b[0;32m    227\u001b[0m         alert_text \u001b[38;5;241m=\u001b[39m value[\u001b[38;5;124m\"\u001b[39m\u001b[38;5;124malert\u001b[39m\u001b[38;5;124m\"\u001b[39m]\u001b[38;5;241m.\u001b[39mget(\u001b[38;5;124m\"\u001b[39m\u001b[38;5;124mtext\u001b[39m\u001b[38;5;124m\"\u001b[39m)\n\u001b[0;32m    228\u001b[0m     \u001b[38;5;28;01mraise\u001b[39;00m exception_class(message, screen, stacktrace, alert_text)  \u001b[38;5;66;03m# type: ignore[call-arg]  # mypy is not smart enough here\u001b[39;00m\n\u001b[1;32m--> 229\u001b[0m \u001b[38;5;28;01mraise\u001b[39;00m exception_class(message, screen, stacktrace)\n",
      "\u001b[1;31mNoSuchWindowException\u001b[0m: Message: no such window: target window already closed\nfrom unknown error: web view not found\n  (Session info: chrome=122.0.6261.95)\nStacktrace:\n\tGetHandleVerifier [0x00528C93+51395]\n\t(No symbol) [0x00495EF1]\n\t(No symbol) [0x0034E13A]\n\t(No symbol) [0x003325F2]\n\t(No symbol) [0x003A9B2B]\n\t(No symbol) [0x003B9E66]\n\t(No symbol) [0x003A3C26]\n\t(No symbol) [0x0037C629]\n\t(No symbol) [0x0037D40D]\n\tGetHandleVerifier [0x008A6453+3711107]\n\tGetHandleVerifier [0x008E583A+3970154]\n\tGetHandleVerifier [0x008E0B28+3950424]\n\tGetHandleVerifier [0x005D9C99+776393]\n\t(No symbol) [0x004A16C4]\n\t(No symbol) [0x0049C5A8]\n\t(No symbol) [0x0049C759]\n\t(No symbol) [0x0048DD80]\n\tBaseThreadInitThunk [0x757800C9+25]\n\tRtlGetAppContainerNamedObjectPath [0x77407B1E+286]\n\tRtlGetAppContainerNamedObjectPath [0x77407AEE+238]\n"
     ]
    }
   ],
   "source": [
    "number_idx = 0\n",
    "\n",
    "# Iterate through all items\n",
    "for i in range(1, total_items + 1):\n",
    "    # 순번\n",
    "    number_idx += 1  \n",
    "    idx_list.append(number_idx)\n",
    "\n",
    "    # 동적으로 XPath를 생성\n",
    "    element_xpath = f'//*[@id=\"listContents1\"]/div/div/div[1]/div[{i}]'\n",
    "    \n",
    "    # 좌측바 메뉴 클릭\n",
    "    leftMenu = myDriver.find_element(By.XPATH, value=element_xpath).click()\n",
    "    time.sleep(4)\n",
    "    \n",
    "    # 나머지 코드\n",
    "    webCurrentStatus = myDriver.page_source\n",
    "    myParser = BeautifulSoup(webCurrentStatus, \"html.parser\")\n",
    "    side_Menu = myParser.select(\"div.detail_contents.is-article\")\n",
    "    \n",
    "    for i in side_Menu:\n",
    "        # ↓ try 블록 내에서 데이터를 추출하는 코드\n",
    "        detailTitle = i.select_one(\"div.detail_fixed > div.main_info_area > div.info_title_wrap\").text\n",
    "        detailType = i.select_one(\"div.detail_fixed > div.main_info_area > div.info_article_price > span.type\").text\n",
    "        detailPrc = i.select_one(\"div.detail_fixed > div.main_info_area > div.info_article_price > span.price\").text\n",
    "        detailAddr = i.select_one(\"div.detail_box--summary > table.info_table_wrap > tbody > tr.info_table_item > td.table_td\").text\n",
    "        detailArea = i.select_one(\"div.main_info_area > div.info_article_feature\").text\n",
    "        full_Addr = detailAddr + \" \" + detailTitle  # 주소 + 매물명 합침\n",
    "        \n",
    "        # ↓ 위에서 추출한 데이터를 빈리스트에 추가\n",
    "        area_list.append(detailArea)\n",
    "        detailTitle_list.append(detailTitle)\n",
    "        type_list.append(detailType)\n",
    "        detailPrc_list.append(detailPrc)\n",
    "        full_Addr_list.append(full_Addr)"
   ]
  },
  {
   "cell_type": "code",
   "execution_count": 54,
   "id": "ee44c5fa-5de7-49cf-a1b4-a9818afba456",
   "metadata": {
    "scrolled": true
   },
   "outputs": [
    {
     "ename": "ValueError",
     "evalue": "All arrays must be of the same length",
     "output_type": "error",
     "traceback": [
      "\u001b[1;31m---------------------------------------------------------------------------\u001b[0m",
      "\u001b[1;31mValueError\u001b[0m                                Traceback (most recent call last)",
      "Cell \u001b[1;32mIn[54], line 2\u001b[0m\n\u001b[0;32m      1\u001b[0m \u001b[38;5;66;03m# 데이터프레임 생성\u001b[39;00m\n\u001b[1;32m----> 2\u001b[0m storagePlace \u001b[38;5;241m=\u001b[39m pd\u001b[38;5;241m.\u001b[39mDataFrame(\n\u001b[0;32m      3\u001b[0m     {\n\u001b[0;32m      4\u001b[0m      \u001b[38;5;124m\"\u001b[39m\u001b[38;5;124m순번\u001b[39m\u001b[38;5;124m\"\u001b[39m : idx_list,\n\u001b[0;32m      5\u001b[0m      \u001b[38;5;124m\"\u001b[39m\u001b[38;5;124m명칭\u001b[39m\u001b[38;5;124m\"\u001b[39m : detailTitle_list,\n\u001b[0;32m      6\u001b[0m      \u001b[38;5;124m\"\u001b[39m\u001b[38;5;124m타입\u001b[39m\u001b[38;5;124m\"\u001b[39m : type_list,\n\u001b[0;32m      7\u001b[0m      \u001b[38;5;124m\"\u001b[39m\u001b[38;5;124m가격\u001b[39m\u001b[38;5;124m\"\u001b[39m : detailPrc_list,\n\u001b[0;32m      8\u001b[0m      \u001b[38;5;124m\"\u001b[39m\u001b[38;5;124m주소\u001b[39m\u001b[38;5;124m\"\u001b[39m : full_Addr_list,\n\u001b[0;32m      9\u001b[0m      \u001b[38;5;124m\"\u001b[39m\u001b[38;5;124m면적(㎡)\u001b[39m\u001b[38;5;124m\"\u001b[39m : area_list\n\u001b[0;32m     10\u001b[0m     } \n\u001b[0;32m     11\u001b[0m )\n\u001b[0;32m     13\u001b[0m \u001b[38;5;66;03m#전처리를 위해 빈리스트 생성\u001b[39;00m\n\u001b[0;32m     14\u001b[0m deposit_list \u001b[38;5;241m=\u001b[39m \u001b[38;5;28mlist\u001b[39m()\n",
      "File \u001b[1;32m~\\anaconda3\\Lib\\site-packages\\pandas\\core\\frame.py:733\u001b[0m, in \u001b[0;36mDataFrame.__init__\u001b[1;34m(self, data, index, columns, dtype, copy)\u001b[0m\n\u001b[0;32m    727\u001b[0m     mgr \u001b[38;5;241m=\u001b[39m \u001b[38;5;28mself\u001b[39m\u001b[38;5;241m.\u001b[39m_init_mgr(\n\u001b[0;32m    728\u001b[0m         data, axes\u001b[38;5;241m=\u001b[39m{\u001b[38;5;124m\"\u001b[39m\u001b[38;5;124mindex\u001b[39m\u001b[38;5;124m\"\u001b[39m: index, \u001b[38;5;124m\"\u001b[39m\u001b[38;5;124mcolumns\u001b[39m\u001b[38;5;124m\"\u001b[39m: columns}, dtype\u001b[38;5;241m=\u001b[39mdtype, copy\u001b[38;5;241m=\u001b[39mcopy\n\u001b[0;32m    729\u001b[0m     )\n\u001b[0;32m    731\u001b[0m \u001b[38;5;28;01melif\u001b[39;00m \u001b[38;5;28misinstance\u001b[39m(data, \u001b[38;5;28mdict\u001b[39m):\n\u001b[0;32m    732\u001b[0m     \u001b[38;5;66;03m# GH#38939 de facto copy defaults to False only in non-dict cases\u001b[39;00m\n\u001b[1;32m--> 733\u001b[0m     mgr \u001b[38;5;241m=\u001b[39m dict_to_mgr(data, index, columns, dtype\u001b[38;5;241m=\u001b[39mdtype, copy\u001b[38;5;241m=\u001b[39mcopy, typ\u001b[38;5;241m=\u001b[39mmanager)\n\u001b[0;32m    734\u001b[0m \u001b[38;5;28;01melif\u001b[39;00m \u001b[38;5;28misinstance\u001b[39m(data, ma\u001b[38;5;241m.\u001b[39mMaskedArray):\n\u001b[0;32m    735\u001b[0m     \u001b[38;5;28;01mfrom\u001b[39;00m \u001b[38;5;21;01mnumpy\u001b[39;00m\u001b[38;5;21;01m.\u001b[39;00m\u001b[38;5;21;01mma\u001b[39;00m \u001b[38;5;28;01mimport\u001b[39;00m mrecords\n",
      "File \u001b[1;32m~\\anaconda3\\Lib\\site-packages\\pandas\\core\\internals\\construction.py:503\u001b[0m, in \u001b[0;36mdict_to_mgr\u001b[1;34m(data, index, columns, dtype, typ, copy)\u001b[0m\n\u001b[0;32m    499\u001b[0m     \u001b[38;5;28;01melse\u001b[39;00m:\n\u001b[0;32m    500\u001b[0m         \u001b[38;5;66;03m# dtype check to exclude e.g. range objects, scalars\u001b[39;00m\n\u001b[0;32m    501\u001b[0m         arrays \u001b[38;5;241m=\u001b[39m [x\u001b[38;5;241m.\u001b[39mcopy() \u001b[38;5;28;01mif\u001b[39;00m \u001b[38;5;28mhasattr\u001b[39m(x, \u001b[38;5;124m\"\u001b[39m\u001b[38;5;124mdtype\u001b[39m\u001b[38;5;124m\"\u001b[39m) \u001b[38;5;28;01melse\u001b[39;00m x \u001b[38;5;28;01mfor\u001b[39;00m x \u001b[38;5;129;01min\u001b[39;00m arrays]\n\u001b[1;32m--> 503\u001b[0m \u001b[38;5;28;01mreturn\u001b[39;00m arrays_to_mgr(arrays, columns, index, dtype\u001b[38;5;241m=\u001b[39mdtype, typ\u001b[38;5;241m=\u001b[39mtyp, consolidate\u001b[38;5;241m=\u001b[39mcopy)\n",
      "File \u001b[1;32m~\\anaconda3\\Lib\\site-packages\\pandas\\core\\internals\\construction.py:114\u001b[0m, in \u001b[0;36marrays_to_mgr\u001b[1;34m(arrays, columns, index, dtype, verify_integrity, typ, consolidate)\u001b[0m\n\u001b[0;32m    111\u001b[0m \u001b[38;5;28;01mif\u001b[39;00m verify_integrity:\n\u001b[0;32m    112\u001b[0m     \u001b[38;5;66;03m# figure out the index, if necessary\u001b[39;00m\n\u001b[0;32m    113\u001b[0m     \u001b[38;5;28;01mif\u001b[39;00m index \u001b[38;5;129;01mis\u001b[39;00m \u001b[38;5;28;01mNone\u001b[39;00m:\n\u001b[1;32m--> 114\u001b[0m         index \u001b[38;5;241m=\u001b[39m _extract_index(arrays)\n\u001b[0;32m    115\u001b[0m     \u001b[38;5;28;01melse\u001b[39;00m:\n\u001b[0;32m    116\u001b[0m         index \u001b[38;5;241m=\u001b[39m ensure_index(index)\n",
      "File \u001b[1;32m~\\anaconda3\\Lib\\site-packages\\pandas\\core\\internals\\construction.py:677\u001b[0m, in \u001b[0;36m_extract_index\u001b[1;34m(data)\u001b[0m\n\u001b[0;32m    675\u001b[0m lengths \u001b[38;5;241m=\u001b[39m \u001b[38;5;28mlist\u001b[39m(\u001b[38;5;28mset\u001b[39m(raw_lengths))\n\u001b[0;32m    676\u001b[0m \u001b[38;5;28;01mif\u001b[39;00m \u001b[38;5;28mlen\u001b[39m(lengths) \u001b[38;5;241m>\u001b[39m \u001b[38;5;241m1\u001b[39m:\n\u001b[1;32m--> 677\u001b[0m     \u001b[38;5;28;01mraise\u001b[39;00m \u001b[38;5;167;01mValueError\u001b[39;00m(\u001b[38;5;124m\"\u001b[39m\u001b[38;5;124mAll arrays must be of the same length\u001b[39m\u001b[38;5;124m\"\u001b[39m)\n\u001b[0;32m    679\u001b[0m \u001b[38;5;28;01mif\u001b[39;00m have_dicts:\n\u001b[0;32m    680\u001b[0m     \u001b[38;5;28;01mraise\u001b[39;00m \u001b[38;5;167;01mValueError\u001b[39;00m(\n\u001b[0;32m    681\u001b[0m         \u001b[38;5;124m\"\u001b[39m\u001b[38;5;124mMixing dicts with non-Series may lead to ambiguous ordering.\u001b[39m\u001b[38;5;124m\"\u001b[39m\n\u001b[0;32m    682\u001b[0m     )\n",
      "\u001b[1;31mValueError\u001b[0m: All arrays must be of the same length"
     ]
    }
   ],
   "source": [
    "# 데이터프레임 생성\n",
    "storagePlace = pd.DataFrame(\n",
    "    {\n",
    "     \"순번\" : idx_list,\n",
    "     \"명칭\" : detailTitle_list,\n",
    "     \"타입\" : type_list,\n",
    "     \"가격\" : detailPrc_list,\n",
    "     \"주소\" : full_Addr_list,\n",
    "     \"면적(㎡)\" : area_list\n",
    "    } \n",
    ")\n",
    "\n",
    "#전처리를 위해 빈리스트 생성\n",
    "deposit_list = list()\n",
    "monthly_fee_list = list()\n",
    "\n",
    "storagePlace[\"보증금\"] = \" \" #신규 필드 생성\n",
    "storagePlace[\"월세\"] = \" \" #신규 필드 생성\n",
    "storagePlace[\"계약면적(㎡)\"] = \" \" #신규 필드 생성\n",
    "storagePlace[\"전용면적(㎡)\"] = \" \" #신규 필드 생성\n",
    "storagePlace[\"대지면적(㎡)\"] = \" \" #신규 필드 생성\n",
    "storagePlace = storagePlace[['순번', '명칭', '타입', '면적(㎡)', '계약면적(㎡)', '전용면적(㎡)', '대지면적(㎡)','가격', '보증금', '월세', '주소']]  #필드순번지정\n",
    "\n",
    "for i in range(len(storagePlace)):\n",
    "    if \"/\" in storagePlace.loc[i,\"가격\"]:\n",
    "        storagePlace.loc[i,\"보증금\"] = storagePlace.loc[i,\"가격\"].split('/')[0].replace(',','').replace('억','')\n",
    "        storagePlace.loc[i,\"월세\"] = storagePlace.loc[i,\"가격\"].split('/')[1].replace(',','').replace('억','')\n",
    "    else:\n",
    "        storagePlace.loc[i,\"보증금\"] = 0\n",
    "        storagePlace.loc[i,\"월세\"] = 0\n",
    "    \n",
    "    if storagePlace.loc[i,\"주소\"][-1] == \"층\":\n",
    "        storagePlace.loc[i,\"주소\"] = storagePlace.loc[i,\"주소\"][:-2]\n",
    "    elif storagePlace.loc[i,\"주소\"][-1] == \"대\":\n",
    "        storagePlace.loc[i,\"주소\"] = storagePlace.loc[i,\"주소\"][:-2]\n",
    "        \n",
    "    if \":\" in storagePlace.loc[i, \"면적(㎡)\"]:\n",
    "        storagePlace.loc[i, \"면적(㎡)\"] = storagePlace.loc[i, \"면적(㎡)\"].split(\":\")[2]\n",
    "    else:\n",
    "        storagePlace.loc[i, \"면적(㎡)\"] = \"\"  # Handle the case where \":\" is not present\n",
    "\n",
    "    if \"/\" in storagePlace.loc[i,\"면적(㎡)\"]: \n",
    "        storagePlace.loc[i,\"계약면적(㎡)\"] = storagePlace.loc[i,\"면적(㎡)\"].split('/')[0].replace(\"㎡\",\"\")\n",
    "        storagePlace.loc[i,\"전용면적(㎡)\"] = storagePlace.loc[i,\"면적(㎡)\"].split('/')[1].replace(\"㎡\",\"\")\n",
    "        storagePlace.loc[i,\"대지면적(㎡)\"] = \"-\"\n",
    "    else:\n",
    "        storagePlace.loc[i,\"계약면적(㎡)\"] = \"-\"\n",
    "        storagePlace.loc[i,\"전용면적(㎡)\"] = \"-\"\n",
    "        storagePlace.loc[i,\"대지면적(㎡)\"] = storagePlace.loc[i,\"면적(㎡)\"].replace(\"㎡\",\"\")\n",
    "\n",
    "    storagePlace.loc[i, \"보증금\"] = pd.to_numeric(storagePlace.loc[i, \"보증금\"], errors='coerce')\n",
    "    storagePlace.loc[i, \"월세\"] = pd.to_numeric(storagePlace.loc[i, \"월세\"], errors='coerce')\n",
    "\n",
    "storagePlace.head(2)"
   ]
  },
  {
   "cell_type": "code",
   "execution_count": null,
   "id": "ac4eb894-3dc3-41b1-ae12-eead806edce0",
   "metadata": {},
   "outputs": [],
   "source": [
    "# 천성동 웹크롤링 파일 저장\n",
    "storagePlace.to_csv('../data/Chunsundong.csv')"
   ]
  },
  {
   "cell_type": "code",
   "execution_count": 57,
   "id": "b21edb30-6c7d-4714-b8eb-2f03dd90d8c7",
   "metadata": {},
   "outputs": [
    {
     "data": {
      "text/html": [
       "<div>\n",
       "<style scoped>\n",
       "    .dataframe tbody tr th:only-of-type {\n",
       "        vertical-align: middle;\n",
       "    }\n",
       "\n",
       "    .dataframe tbody tr th {\n",
       "        vertical-align: top;\n",
       "    }\n",
       "\n",
       "    .dataframe thead th {\n",
       "        text-align: right;\n",
       "    }\n",
       "</style>\n",
       "<table border=\"1\" class=\"dataframe\">\n",
       "  <thead>\n",
       "    <tr style=\"text-align: right;\">\n",
       "      <th></th>\n",
       "      <th>Unnamed: 0</th>\n",
       "      <th>순번</th>\n",
       "      <th>명칭</th>\n",
       "      <th>타입</th>\n",
       "      <th>면적(㎡)</th>\n",
       "      <th>계약면적(㎡)</th>\n",
       "      <th>전용면적(㎡)</th>\n",
       "      <th>대지면적(㎡)</th>\n",
       "      <th>가격</th>\n",
       "      <th>보증금</th>\n",
       "      <th>월세</th>\n",
       "      <th>주소</th>\n",
       "    </tr>\n",
       "  </thead>\n",
       "  <tbody>\n",
       "    <tr>\n",
       "      <th>0</th>\n",
       "      <td>0</td>\n",
       "      <td>1</td>\n",
       "      <td>전</td>\n",
       "      <td>매매</td>\n",
       "      <td>721㎡</td>\n",
       "      <td>-</td>\n",
       "      <td>-</td>\n",
       "      <td>721</td>\n",
       "      <td>10억</td>\n",
       "      <td>0</td>\n",
       "      <td>0</td>\n",
       "      <td>부산시 강서구 천성동 전</td>\n",
       "    </tr>\n",
       "    <tr>\n",
       "      <th>1</th>\n",
       "      <td>1</td>\n",
       "      <td>2</td>\n",
       "      <td>전</td>\n",
       "      <td>매매</td>\n",
       "      <td>721㎡</td>\n",
       "      <td>-</td>\n",
       "      <td>-</td>\n",
       "      <td>721</td>\n",
       "      <td>10억</td>\n",
       "      <td>0</td>\n",
       "      <td>0</td>\n",
       "      <td>부산시 강서구 천성동 전</td>\n",
       "    </tr>\n",
       "  </tbody>\n",
       "</table>\n",
       "</div>"
      ],
      "text/plain": [
       "   Unnamed: 0  순번 명칭  타입 면적(㎡) 계약면적(㎡) 전용면적(㎡)  대지면적(㎡)   가격  보증금  월세  \\\n",
       "0           0   1  전  매매  721㎡       -       -      721  10억    0   0   \n",
       "1           1   2  전  매매  721㎡       -       -      721  10억    0   0   \n",
       "\n",
       "              주소  \n",
       "0  부산시 강서구 천성동 전  \n",
       "1  부산시 강서구 천성동 전  "
      ]
     },
     "execution_count": 57,
     "metadata": {},
     "output_type": "execute_result"
    }
   ],
   "source": [
    "# 천성동 저장한 파일 불러오기\n",
    "Chunsundong = pd.read_csv('../data/Chunsundong.csv')\n",
    "Chunsundong.head(2)"
   ]
  },
  {
   "cell_type": "code",
   "execution_count": 58,
   "id": "5bc838c3-186a-4fd5-a26c-2eb41427fed7",
   "metadata": {},
   "outputs": [],
   "source": [
    "# 매매 타입 유형은 가격값을 매매가라는 새로운 칼럼에 기입 및 값 변경\n",
    "sell = Chunsundong[Chunsundong['타입'] == '매매']\n",
    "Chunsundong.loc[sell.index, '매매가'] = sell['가격']\n",
    "Chunsundong['매매가'].fillna('-', inplace=True)"
   ]
  },
  {
   "cell_type": "code",
   "execution_count": 59,
   "id": "417459b2-2783-4fbf-b768-ae6a2d4f23b3",
   "metadata": {},
   "outputs": [],
   "source": [
    "# 구분에 천성동 값 기입\n",
    "Chunsundong['구분']='천성동'"
   ]
  },
  {
   "cell_type": "code",
   "execution_count": 60,
   "id": "d31e6da0-ec0b-45cb-ad5a-126fff22c33d",
   "metadata": {},
   "outputs": [
    {
     "data": {
      "text/html": [
       "<div>\n",
       "<style scoped>\n",
       "    .dataframe tbody tr th:only-of-type {\n",
       "        vertical-align: middle;\n",
       "    }\n",
       "\n",
       "    .dataframe tbody tr th {\n",
       "        vertical-align: top;\n",
       "    }\n",
       "\n",
       "    .dataframe thead th {\n",
       "        text-align: right;\n",
       "    }\n",
       "</style>\n",
       "<table border=\"1\" class=\"dataframe\">\n",
       "  <thead>\n",
       "    <tr style=\"text-align: right;\">\n",
       "      <th></th>\n",
       "      <th>순번</th>\n",
       "      <th>구분</th>\n",
       "      <th>타입</th>\n",
       "      <th>계약면적(㎡)</th>\n",
       "      <th>전용면적(㎡)</th>\n",
       "      <th>대지면적(㎡)</th>\n",
       "      <th>매매가</th>\n",
       "      <th>보증금</th>\n",
       "      <th>월세</th>\n",
       "      <th>주소</th>\n",
       "      <th>명칭</th>\n",
       "    </tr>\n",
       "  </thead>\n",
       "  <tbody>\n",
       "    <tr>\n",
       "      <th>0</th>\n",
       "      <td>1</td>\n",
       "      <td>천성동</td>\n",
       "      <td>매매</td>\n",
       "      <td>-</td>\n",
       "      <td>-</td>\n",
       "      <td>721</td>\n",
       "      <td>10억</td>\n",
       "      <td>0</td>\n",
       "      <td>0</td>\n",
       "      <td>부산시 강서구 천성동 전</td>\n",
       "      <td>전</td>\n",
       "    </tr>\n",
       "    <tr>\n",
       "      <th>1</th>\n",
       "      <td>2</td>\n",
       "      <td>천성동</td>\n",
       "      <td>매매</td>\n",
       "      <td>-</td>\n",
       "      <td>-</td>\n",
       "      <td>721</td>\n",
       "      <td>10억</td>\n",
       "      <td>0</td>\n",
       "      <td>0</td>\n",
       "      <td>부산시 강서구 천성동 전</td>\n",
       "      <td>전</td>\n",
       "    </tr>\n",
       "  </tbody>\n",
       "</table>\n",
       "</div>"
      ],
      "text/plain": [
       "   순번   구분  타입 계약면적(㎡) 전용면적(㎡)  대지면적(㎡)  매매가  보증금  월세             주소 명칭\n",
       "0   1  천성동  매매       -       -      721  10억    0   0  부산시 강서구 천성동 전  전\n",
       "1   2  천성동  매매       -       -      721  10억    0   0  부산시 강서구 천성동 전  전"
      ]
     },
     "execution_count": 60,
     "metadata": {},
     "output_type": "execute_result"
    }
   ],
   "source": [
    "# 필요 컬럼만 불러오기\n",
    "Chunsundong = Chunsundong[['순번','구분','타입','계약면적(㎡)','전용면적(㎡)','대지면적(㎡)','매매가','보증금','월세','주소','명칭']]\n",
    "Chunsundong.head(2)"
   ]
  },
  {
   "cell_type": "code",
   "execution_count": 61,
   "id": "0e8dfe75-50e4-4166-91e6-306372cfcbbe",
   "metadata": {},
   "outputs": [
    {
     "data": {
      "text/html": [
       "<div>\n",
       "<style scoped>\n",
       "    .dataframe tbody tr th:only-of-type {\n",
       "        vertical-align: middle;\n",
       "    }\n",
       "\n",
       "    .dataframe tbody tr th {\n",
       "        vertical-align: top;\n",
       "    }\n",
       "\n",
       "    .dataframe thead th {\n",
       "        text-align: right;\n",
       "    }\n",
       "</style>\n",
       "<table border=\"1\" class=\"dataframe\">\n",
       "  <thead>\n",
       "    <tr style=\"text-align: right;\">\n",
       "      <th></th>\n",
       "      <th>순번</th>\n",
       "      <th>구분</th>\n",
       "      <th>타입</th>\n",
       "      <th>계약면적(㎡)</th>\n",
       "      <th>전용면적(㎡)</th>\n",
       "      <th>대지면적(㎡)</th>\n",
       "      <th>매매가</th>\n",
       "      <th>보증금 (단위: 만원)</th>\n",
       "      <th>월세(단위:만원)</th>\n",
       "      <th>주소</th>\n",
       "      <th>기타(세부주소)</th>\n",
       "    </tr>\n",
       "  </thead>\n",
       "  <tbody>\n",
       "    <tr>\n",
       "      <th>0</th>\n",
       "      <td>1</td>\n",
       "      <td>천성동</td>\n",
       "      <td>매매</td>\n",
       "      <td>-</td>\n",
       "      <td>-</td>\n",
       "      <td>721</td>\n",
       "      <td>10억</td>\n",
       "      <td>0</td>\n",
       "      <td>0</td>\n",
       "      <td>부산시 강서구 천성동 전</td>\n",
       "      <td>전</td>\n",
       "    </tr>\n",
       "    <tr>\n",
       "      <th>1</th>\n",
       "      <td>2</td>\n",
       "      <td>천성동</td>\n",
       "      <td>매매</td>\n",
       "      <td>-</td>\n",
       "      <td>-</td>\n",
       "      <td>721</td>\n",
       "      <td>10억</td>\n",
       "      <td>0</td>\n",
       "      <td>0</td>\n",
       "      <td>부산시 강서구 천성동 전</td>\n",
       "      <td>전</td>\n",
       "    </tr>\n",
       "  </tbody>\n",
       "</table>\n",
       "</div>"
      ],
      "text/plain": [
       "   순번   구분  타입 계약면적(㎡) 전용면적(㎡)  대지면적(㎡)  매매가  보증금 (단위: 만원)  월세(단위:만원)  \\\n",
       "0   1  천성동  매매       -       -      721  10억             0          0   \n",
       "1   2  천성동  매매       -       -      721  10억             0          0   \n",
       "\n",
       "              주소 기타(세부주소)  \n",
       "0  부산시 강서구 천성동 전        전  \n",
       "1  부산시 강서구 천성동 전        전  "
      ]
     },
     "execution_count": 61,
     "metadata": {},
     "output_type": "execute_result"
    }
   ],
   "source": [
    "# 칼럼값 명칭 변경하기\n",
    "Chunsundong = Chunsundong.rename(columns={'명칭': '기타(세부주소)'})\n",
    "Chunsundong = Chunsundong.rename(columns={'보증금': '보증금 (단위: 만원)'})\n",
    "Chunsundong = Chunsundong.rename(columns={'월세': '월세(단위:만원)'})\n",
    "Chunsundong.head(2)"
   ]
  },
  {
   "cell_type": "code",
   "execution_count": 62,
   "id": "9ef7f4e8-1c85-4959-9a75-5edc1f0eb979",
   "metadata": {},
   "outputs": [],
   "source": [
    "# 정제 파일 저장\n",
    "Chunsundong.to_csv('../data/chunsundong0.1.csv')"
   ]
  },
  {
   "cell_type": "markdown",
   "id": "d81ad073-74c3-45ad-b99c-a63f8ee52cdb",
   "metadata": {},
   "source": [
    "### 3. 명지동 웹크롤링 및 데이터 정제"
   ]
  },
  {
   "cell_type": "markdown",
   "id": "b5468c8f-51c4-4a5c-95b4-7fd510d23761",
   "metadata": {},
   "source": [
    "* 웹크롤링 부분 위와 반복"
   ]
  },
  {
   "cell_type": "code",
   "execution_count": 64,
   "id": "48295110-a1b5-4be9-b062-a151368f2d7d",
   "metadata": {},
   "outputs": [],
   "source": [
    "from selenium import webdriver #Selenium의 웹 드라이버를 사용하기 위한 모듈을 임포트\n",
    "from selenium.webdriver.common.by import By #Selenium에서 사용하는 By 클래스를 임포트합. 웹 요소를 검색하는데 사용.\n",
    "from selenium.webdriver.common.keys import Keys #키보드 입력 제어를 위해 Keys 클래스 임포트\n",
    "from selenium.webdriver.chrome.service import Service #Chrome 드라이버 서비스를 사용하기 위한 모듈 임포트\n",
    "from selenium.webdriver.chrome.options import Options #Chrome 드라이버 옵션을 설정하기 위한 클래스 임포트\n",
    "from webdriver_manager.chrome import ChromeDriverManager #Chrome 드라이버를 자동으로 설치 및 관리하는데 사용되는 드라이버 매니저 임포트\n",
    "from bs4 import BeautifulSoup #Beautiful soup 크롤링을위해\n",
    "import pandas as pd\n",
    "import requests #request 사용을 위해\n",
    "import re #정규표현을  \n",
    "import time #timesleep을 위해 사용\n",
    "import numpy as np\n",
    "myOption = Options() #옵션객체 변수지정\n",
    "myOption.add_argument(\"--start-maximized\") #크롬 드라이버 창 최대화\n",
    "myOption.add_argument(\"--incognito\") #크롬 드라이버 시크릿모드로 진행\n",
    "myOption.add_experimental_option(\"excludeSwitches\", [\"enable-automation\"]) #드라이버 시작시 불필요문구 미표시되도록 설정\n",
    "myOption.add_experimental_option(\"excludeSwitches\", [\"enable-logging\"]) #터미널상의 불필요문구 미표시되도록 설정\n",
    "myOption.add_experimental_option(\"detach\", True) #드라이버 자동꺼짐 방지\n",
    "#드라이버 세팅\n",
    "myService = Service(ChromeDriverManager().install()) #크롬드라이버 설치\n",
    "myDriver = webdriver.Chrome(service=myService, options=myOption) #드라이버 서비스 및 옵션 지정"
   ]
  },
  {
   "cell_type": "code",
   "execution_count": null,
   "id": "f0abce0a-3b2b-4f8f-8a65-78f991bed737",
   "metadata": {},
   "outputs": [],
   "source": [
    "#명지동\n",
    "targetUrl = \"https://new.land.naver.com/offices?ms=35.108082,128.92635,16&a=GJCG:TJ:SMS:SG&e=RETAIL&h=165\"\n",
    "myDriver.get(targetUrl) #타겟링크로부터 정보수신\n",
    "time.sleep(4)\n",
    "print(f\"{myDriver.current_url} 접속완료\")"
   ]
  },
  {
   "cell_type": "code",
   "execution_count": null,
   "id": "b11b058c-adf9-4020-9e74-a65fc8d01105",
   "metadata": {},
   "outputs": [],
   "source": [
    "total_items = len(myDriver.find_elements(By.XPATH, '//*[@id=\"listContents1\"]/div/div/div[1]/div'))\n",
    "total_items"
   ]
  },
  {
   "cell_type": "code",
   "execution_count": null,
   "id": "416ccc59-7180-4c81-970d-f7478da40b7a",
   "metadata": {},
   "outputs": [],
   "source": [
    "#데이터프레임 필드값으로 활용할 빈리스트 생성\n",
    "idx_list = list()  #데이터프레임 순번\n",
    "detailTitle_list = list() #판매제목 \n",
    "detailPrc_list = list()  #가격 리스트\n",
    "type_list = list()  #타입 리스트\n",
    "full_Addr_list = list() #풀 주소 리스트\n",
    "area_list = list() #면적"
   ]
  },
  {
   "cell_type": "code",
   "execution_count": null,
   "id": "342ebdb9-5e71-4180-826f-9f0d389f20d3",
   "metadata": {},
   "outputs": [],
   "source": [
    "number_idx = 0\n",
    "\n",
    "# Iterate through all items\n",
    "for i in range(1, total_items + 1):\n",
    "    # 순번\n",
    "    number_idx += 1  \n",
    "    idx_list.append(number_idx)\n",
    "\n",
    "    # 동적으로 XPath를 생성\n",
    "    element_xpath = f'//*[@id=\"listContents1\"]/div/div/div[1]/div[{i}]'\n",
    "    \n",
    "    # 좌측바 메뉴 클릭\n",
    "    leftMenu = myDriver.find_element(By.XPATH, value=element_xpath).click()\n",
    "    time.sleep(4)\n",
    "    \n",
    "    # 나머지 코드\n",
    "    webCurrentStatus = myDriver.page_source\n",
    "    myParser = BeautifulSoup(webCurrentStatus, \"html.parser\")\n",
    "    side_Menu = myParser.select(\"div.detail_contents.is-article\")\n",
    "    \n",
    "    for i in side_Menu:\n",
    "        # ↓ try 블록 내에서 데이터를 추출하는 코드\n",
    "        detailTitle = i.select_one(\"div.detail_fixed > div.main_info_area > div.info_title_wrap\").text\n",
    "        detailType = i.select_one(\"div.detail_fixed > div.main_info_area > div.info_article_price > span.type\").text\n",
    "        detailPrc = i.select_one(\"div.detail_fixed > div.main_info_area > div.info_article_price > span.price\").text\n",
    "        detailAddr = i.select_one(\"div.detail_box--summary > table.info_table_wrap > tbody > tr.info_table_item > td.table_td\").text\n",
    "        detailArea = i.select_one(\"div.main_info_area > div.info_article_feature\").text\n",
    "        full_Addr = detailAddr + \" \" + detailTitle  # 주소 + 매물명 합침\n",
    "        \n",
    "        # ↓ 위에서 추출한 데이터를 빈리스트에 추가\n",
    "        area_list.append(detailArea)\n",
    "        detailTitle_list.append(detailTitle)\n",
    "        type_list.append(detailType)\n",
    "        detailPrc_list.append(detailPrc)\n",
    "        full_Addr_list.append(full_Addr)"
   ]
  },
  {
   "cell_type": "code",
   "execution_count": null,
   "id": "34367f2d-fe7b-40c3-9336-5e45c64673fe",
   "metadata": {},
   "outputs": [],
   "source": [
    "# 데이터프레임 생성\n",
    "storagePlace = pd.DataFrame(\n",
    "    {\n",
    "     \"순번\" : idx_list,\n",
    "     \"명칭\" : detailTitle_list,\n",
    "     \"타입\" : type_list,\n",
    "     \"가격\" : detailPrc_list,\n",
    "     \"주소\" : full_Addr_list,\n",
    "     \"면적(㎡)\" : area_list\n",
    "    } \n",
    ")"
   ]
  },
  {
   "cell_type": "code",
   "execution_count": null,
   "id": "36dbe5b5-f031-402d-ab5b-94d80b248c3d",
   "metadata": {},
   "outputs": [],
   "source": [
    "#전처리를 위해 빈리스트 생성\n",
    "deposit_list = list()\n",
    "monthly_fee_list = list()\n",
    "\n",
    "storagePlace[\"보증금\"] = \" \" #신규 필드 생성\n",
    "storagePlace[\"월세\"] = \" \" #신규 필드 생성\n",
    "storagePlace[\"계약면적(㎡)\"] = \" \" #신규 필드 생성\n",
    "storagePlace[\"전용면적(㎡)\"] = \" \" #신규 필드 생성\n",
    "storagePlace[\"대지면적(㎡)\"] = \" \" #신규 필드 생성\n",
    "storagePlace = storagePlace[['순번', '명칭', '타입', '면적(㎡)', '계약면적(㎡)', '전용면적(㎡)', '대지면적(㎡)','가격', '보증금', '월세', '주소']]  #필드순번지정\n",
    "\n",
    "storagePlace"
   ]
  },
  {
   "cell_type": "code",
   "execution_count": null,
   "id": "9b52f2ae-7613-4473-ad0d-d8021addf2db",
   "metadata": {},
   "outputs": [],
   "source": [
    "for i in range(len(storagePlace)):\n",
    "    if \"/\" in storagePlace.loc[i,\"가격\"]:\n",
    "        storagePlace.loc[i,\"보증금\"] = storagePlace.loc[i,\"가격\"].split('/')[0].replace(',','').replace('억','')\n",
    "        storagePlace.loc[i,\"월세\"] = storagePlace.loc[i,\"가격\"].split('/')[1].replace(',','').replace('억','')\n",
    "    else:\n",
    "        storagePlace.loc[i,\"보증금\"] = 0\n",
    "        storagePlace.loc[i,\"월세\"] = 0\n",
    "    \n",
    "    if storagePlace.loc[i,\"주소\"][-1] == \"층\":\n",
    "        storagePlace.loc[i,\"주소\"] = storagePlace.loc[i,\"주소\"][:-2]\n",
    "    elif storagePlace.loc[i,\"주소\"][-1] == \"대\":\n",
    "        storagePlace.loc[i,\"주소\"] = storagePlace.loc[i,\"주소\"][:-2]\n",
    "        \n",
    "    if \":\" in storagePlace.loc[i, \"면적(㎡)\"]:\n",
    "        storagePlace.loc[i, \"면적(㎡)\"] = storagePlace.loc[i, \"면적(㎡)\"].split(\":\")[2]\n",
    "    else:\n",
    "        storagePlace.loc[i, \"면적(㎡)\"] = \"\"  # Handle the case where \":\" is not present\n",
    "\n",
    "    if \"/\" in storagePlace.loc[i,\"면적(㎡)\"]: \n",
    "        storagePlace.loc[i,\"계약면적(㎡)\"] = storagePlace.loc[i,\"면적(㎡)\"].split('/')[0].replace(\"㎡\",\"\")\n",
    "        storagePlace.loc[i,\"전용면적(㎡)\"] = storagePlace.loc[i,\"면적(㎡)\"].split('/')[1].replace(\"㎡\",\"\")\n",
    "        storagePlace.loc[i,\"대지면적(㎡)\"] = \"-\"\n",
    "    else:\n",
    "        storagePlace.loc[i,\"계약면적(㎡)\"] = \"-\"\n",
    "        storagePlace.loc[i,\"전용면적(㎡)\"] = \"-\"\n",
    "        storagePlace.loc[i,\"대지면적(㎡)\"] = storagePlace.loc[i,\"면적(㎡)\"].replace(\"㎡\",\"\")\n",
    "\n",
    "    storagePlace.loc[i, \"보증금\"] = pd.to_numeric(storagePlace.loc[i, \"보증금\"], errors='coerce')\n",
    "    storagePlace.loc[i, \"월세\"] = pd.to_numeric(storagePlace.loc[i, \"월세\"], errors='coerce')\n",
    "\n",
    "storagePlace['보증금'].fillna(0, inplace=True)\n",
    "\n",
    "# Convert columns to integers\n",
    "storagePlace['보증금'] = storagePlace['보증금'].astype(int)\n",
    "storagePlace['월세'] = storagePlace['월세'].astype(int)\n",
    "#storagePlace['월세'] = storagePlace['월세'] * 10000"
   ]
  },
  {
   "cell_type": "code",
   "execution_count": null,
   "id": "725bf17b-20e8-46ea-8ddd-3a0d7685ce17",
   "metadata": {},
   "outputs": [],
   "source": [
    "# 크롤링 파일 저장\n",
    "storagePlace\n",
    "storagePlace.to_csv('../jupyter/명지동0.3.csv')"
   ]
  },
  {
   "cell_type": "code",
   "execution_count": 67,
   "id": "1b7fdf45-97c9-40e4-91af-aa024deac2aa",
   "metadata": {},
   "outputs": [
    {
     "data": {
      "text/html": [
       "<div>\n",
       "<style scoped>\n",
       "    .dataframe tbody tr th:only-of-type {\n",
       "        vertical-align: middle;\n",
       "    }\n",
       "\n",
       "    .dataframe tbody tr th {\n",
       "        vertical-align: top;\n",
       "    }\n",
       "\n",
       "    .dataframe thead th {\n",
       "        text-align: right;\n",
       "    }\n",
       "</style>\n",
       "<table border=\"1\" class=\"dataframe\">\n",
       "  <thead>\n",
       "    <tr style=\"text-align: right;\">\n",
       "      <th></th>\n",
       "      <th>Unnamed: 0.1</th>\n",
       "      <th>Unnamed: 0</th>\n",
       "      <th>순번</th>\n",
       "      <th>명칭</th>\n",
       "      <th>타입</th>\n",
       "      <th>면적(㎡)</th>\n",
       "      <th>계약면적(㎡)</th>\n",
       "      <th>전용면적(㎡)</th>\n",
       "      <th>대지면적(㎡)</th>\n",
       "      <th>가격</th>\n",
       "      <th>보증금</th>\n",
       "      <th>월세</th>\n",
       "      <th>주소</th>\n",
       "    </tr>\n",
       "  </thead>\n",
       "  <tbody>\n",
       "    <tr>\n",
       "      <th>0</th>\n",
       "      <td>0</td>\n",
       "      <td>0</td>\n",
       "      <td>1</td>\n",
       "      <td>일반상가 에코팰리스8층</td>\n",
       "      <td>월세</td>\n",
       "      <td>NaN</td>\n",
       "      <td>-</td>\n",
       "      <td>-</td>\n",
       "      <td>NaN</td>\n",
       "      <td>2,000/80</td>\n",
       "      <td>2000</td>\n",
       "      <td>80</td>\n",
       "      <td>부산시 강서구 명지동 일반상가 에코팰리스</td>\n",
       "    </tr>\n",
       "    <tr>\n",
       "      <th>1</th>\n",
       "      <td>1</td>\n",
       "      <td>1</td>\n",
       "      <td>2</td>\n",
       "      <td>일반상가2층</td>\n",
       "      <td>월세</td>\n",
       "      <td>224.7㎡/139.8㎡</td>\n",
       "      <td>224.7</td>\n",
       "      <td>139.8</td>\n",
       "      <td>-</td>\n",
       "      <td>3,000/180</td>\n",
       "      <td>3000</td>\n",
       "      <td>180</td>\n",
       "      <td>부산시 강서구 명지동 일반상가</td>\n",
       "    </tr>\n",
       "  </tbody>\n",
       "</table>\n",
       "</div>"
      ],
      "text/plain": [
       "   Unnamed: 0.1  Unnamed: 0  순번            명칭  타입          면적(㎡) 계약면적(㎡)  \\\n",
       "0             0           0   1  일반상가 에코팰리스8층  월세            NaN       -   \n",
       "1             1           1   2        일반상가2층  월세  224.7㎡/139.8㎡   224.7   \n",
       "\n",
       "  전용면적(㎡) 대지면적(㎡)         가격   보증금   월세                      주소  \n",
       "0       -     NaN   2,000/80  2000   80  부산시 강서구 명지동 일반상가 에코팰리스  \n",
       "1   139.8       -  3,000/180  3000  180        부산시 강서구 명지동 일반상가  "
      ]
     },
     "execution_count": 67,
     "metadata": {},
     "output_type": "execute_result"
    }
   ],
   "source": [
    "# 저장한 크롤링 파일 불러오기\n",
    "myungjidong = pd.read_csv('../data/명지동0.3.csv')\n",
    "myungjidong.head(2)"
   ]
  },
  {
   "cell_type": "code",
   "execution_count": null,
   "id": "fe3ce364-676b-450d-b779-e534f15972dc",
   "metadata": {},
   "outputs": [],
   "source": [
    "# 컬럼 데이터 오류 값 삭제\n",
    "for i in range(len(myungjidong)):\n",
    "    if pd.isna(myungjidong.loc[i, '면적(㎡)']):\n",
    "        myungjidong = myungjidong.drop(i)\n",
    "    elif pd.isna(myungjidong.loc[i, '대지면적(㎡)']):\n",
    "        myungjidong = myungjidong.drop(i)\n",
    "    elif myungjidong.loc[i, '전용면적(㎡)'] == '연 면적':\n",
    "        myungjidong = myungjidong.drop(i)\n",
    "    elif myungjidong.loc[i, '가격'] == '-':\n",
    "        myungjidong = myungjidong.drop(i)\n",
    "       \n",
    "myungjidong = myungjidong.reset_index(drop=True)\n",
    "myungjidong.head(2)"
   ]
  },
  {
   "cell_type": "code",
   "execution_count": null,
   "id": "3f5efa86-6a53-4ce8-b801-57ede142dad5",
   "metadata": {},
   "outputs": [],
   "source": [
    "# 매매가 칼럼 추가하고 매매 타입 유형에 대해 가격 칼럼 값을 매매가에 기입\n",
    "sell = myungjidong[myungjidong['타입'] == '매매']\n",
    "\n",
    "myungjidong.loc[sell.index, '매매가'] = sell['가격']\n",
    "myungjidong['매매가'].fillna('-', inplace=True)\n",
    "myungjidong.head(2)"
   ]
  },
  {
   "cell_type": "code",
   "execution_count": null,
   "id": "48f81a04-1e2e-4a95-9bb5-a6fa856923df",
   "metadata": {},
   "outputs": [],
   "source": [
    "# 보증금, 월세 값 0 대신 -으로 변경\n",
    "myungjidong['보증금'] = myungjidong['보증금'].replace(0, '-')\n",
    "myungjidong['월세'] = myungjidong['월세'].replace(0, '-')\n",
    "myungjidong.head(2)"
   ]
  },
  {
   "cell_type": "code",
   "execution_count": null,
   "id": "1d42763c-b349-4001-88ec-77be95f5aa82",
   "metadata": {},
   "outputs": [],
   "source": [
    "for i in range(1, 11):\n",
    "    myungjidong['보증금'] = myungjidong['보증금'].replace(i, f'{i}0000')\n",
    "    \n",
    "myungjidong.head(2)"
   ]
  },
  {
   "cell_type": "code",
   "execution_count": null,
   "id": "e8d9bb44-e9d7-4776-a818-c3a2f3c08802",
   "metadata": {},
   "outputs": [],
   "source": [
    "# 필요한 칼럼만 가져오기\n",
    "myungjidong = myungjidong[['순번','구분','타입','계약면적(㎡)','전용면적(㎡)','대지면적(㎡)','매매가','보증금','월세','주소','명칭']]\n",
    "myungjidong.head()"
   ]
  },
  {
   "cell_type": "code",
   "execution_count": null,
   "id": "2296ad1c-1f30-42af-af4f-9bbbea0692db",
   "metadata": {},
   "outputs": [],
   "source": [
    "# 명칭 칼럼 이름 변경\n",
    "myungjidong = myungjidong.rename(columns={'명칭': '기타(세부주소)'})\n",
    "myungjidong = myungjidong.rename(columns={'보증금': '보증금 (단위: 만원)'})\n",
    "myungjidong = myungjidong.rename(columns={'월세': '월세(단위:만원)'})\n",
    "myungjidong.head()"
   ]
  },
  {
   "cell_type": "code",
   "execution_count": null,
   "id": "22a6355f-f8fa-497f-b621-289567ea78b1",
   "metadata": {},
   "outputs": [],
   "source": [
    "# 타입별 정렬하기\n",
    "myungjidong = myungjidong.sort_values(by='타입', ascending=False)\n",
    "myungjidong.head()"
   ]
  },
  {
   "cell_type": "code",
   "execution_count": null,
   "id": "4332b640-8a93-4a98-8f10-26c4e04653f0",
   "metadata": {},
   "outputs": [],
   "source": [
    "# 순번 자동화\n",
    "myungjidong.reset_index(drop=True, inplace=True)\n",
    "myungjidong['순번'] = myungjidong.index + 1\n",
    "myungjidong.head()"
   ]
  },
  {
   "cell_type": "code",
   "execution_count": null,
   "id": "47a25546-5e01-4928-bba8-a8936e321ee5",
   "metadata": {},
   "outputs": [],
   "source": [
    "# 파일 저장\n",
    "myungjidong.to_csv('../data/myungjidong0.1')"
   ]
  },
  {
   "cell_type": "markdown",
   "id": "aa0aabf8-dcbd-441f-b915-ea4955505b4f",
   "metadata": {},
   "source": [
    "### 4. 신호동 크롤링 및 데이터 정제"
   ]
  },
  {
   "cell_type": "code",
   "execution_count": null,
   "id": "7adf4e6e-4477-48f7-b045-8693f135b587",
   "metadata": {},
   "outputs": [],
   "source": [
    "# 필요한 라이브러리 로드 및 옵션 지정\n",
    "from selenium import webdriver #Selenium의 웹 드라이버를 사용하기 위한 모듈을 임포트\n",
    "from selenium.webdriver.common.by import By #Selenium에서 사용하는 By 클래스를 임포트합. 웹 요소를 검색하는데 사용.\n",
    "from selenium.webdriver.common.keys import Keys #키보드 입력 제어를 위해 Keys 클래스 임포트\n",
    "from selenium.webdriver.chrome.service import Service #Chrome 드라이버 서비스를 사용하기 위한 모듈 임포트\n",
    "from selenium.webdriver.chrome.options import Options #Chrome 드라이버 옵션을 설정하기 위한 클래스 임포트\n",
    "from webdriver_manager.chrome import ChromeDriverManager #Chrome 드라이버를 자동으로 설치 및 관리하는데 사용되는 드라이버 매니저 임포트\n",
    "from bs4 import BeautifulSoup #Beautiful soup 크롤링을위해\n",
    "import pandas as pd\n",
    "import requests #request 사용을 위해\n",
    "import re #정규표현을  \n",
    "import time #timesleep을 위해 사용\n",
    "import numpy as np\n",
    "myOption = Options() #옵션객체 변수지정\n",
    "myOption.add_argument(\"--start-maximized\") #크롬 드라이버 창 최대화\n",
    "myOption.add_argument(\"--incognito\") #크롬 드라이버 시크릿모드로 진행\n",
    "myOption.add_experimental_option(\"excludeSwitches\", [\"enable-automation\"]) #드라이버 시작시 불필요문구 미표시되도록 설정\n",
    "myOption.add_experimental_option(\"excludeSwitches\", [\"enable-logging\"]) #터미널상의 불필요문구 미표시되도록 설정\n",
    "myOption.add_experimental_option(\"detach\", True) #드라이버 자동꺼짐 방지"
   ]
  },
  {
   "cell_type": "code",
   "execution_count": null,
   "id": "11ca56a3-b4e2-427f-8ca8-d6900738d8bb",
   "metadata": {},
   "outputs": [],
   "source": [
    "#드라이버 세팅\n",
    "myService = Service(ChromeDriverManager().install()) #크롬드라이버 설치\n",
    "myDriver = webdriver.Chrome(service=myService, options=myOption) #드라이버 서비스 및 옵션 지정"
   ]
  },
  {
   "cell_type": "code",
   "execution_count": null,
   "id": "ad81b72f-19f6-4ec2-ae05-d4510c3a2e54",
   "metadata": {},
   "outputs": [],
   "source": [
    "#신호동\n",
    "targetUrl = \"https://new.land.naver.com/offices?ms=35.0674,128.8751,16&a=GJCG:TJ:SMS:SG&e=RETAIL&h=165\"\n",
    "myDriver.get(targetUrl) #타겟링크로부터 정보수신\n",
    "time.sleep(4)\n",
    "print(f\"{myDriver.current_url} 접속완료\")"
   ]
  },
  {
   "cell_type": "code",
   "execution_count": null,
   "id": "ee148eae-36fb-4ca5-b550-9eb44c6f0f8c",
   "metadata": {},
   "outputs": [],
   "source": [
    "#데이터프레임 필드값으로 활용할 빈리스트 생성\n",
    "idx_list = list()  #데이터프레임 순번\n",
    "detailTitle_list = list() #판매제목 \n",
    "detailPrc_list = list()  #가격 리스트\n",
    "type_list = list()  #타입 리스트\n",
    "full_Addr_list = list() #풀 주소 리스트\n",
    "area_list = list() #면적"
   ]
  },
  {
   "cell_type": "code",
   "execution_count": null,
   "id": "1a826b01-7718-405b-b0cd-65bee5eab66d",
   "metadata": {},
   "outputs": [],
   "source": [
    "total_items = len(myDriver.find_elements(By.XPATH, '//*[@id=\"listContents1\"]/div/div/div[1]/div'))\n",
    "total_items"
   ]
  },
  {
   "cell_type": "code",
   "execution_count": null,
   "id": "d9e72258-8a14-4335-9769-25894ef93745",
   "metadata": {},
   "outputs": [],
   "source": [
    "number_idx = 0\n",
    "\n",
    "# Iterate through all items\n",
    "for i in range(1, total_items + 1):\n",
    "    # 순번\n",
    "    number_idx += 1  \n",
    "    idx_list.append(number_idx)\n",
    "\n",
    "    # 동적으로 XPath를 생성\n",
    "    element_xpath = f'//*[@id=\"listContents1\"]/div/div/div[1]/div[{i}]'\n",
    "    \n",
    "    # 좌측바 메뉴 클릭\n",
    "    leftMenu = myDriver.find_element(By.XPATH, value=element_xpath).click()\n",
    "    time.sleep(4)\n",
    "    \n",
    "    # 나머지 코드\n",
    "    webCurrentStatus = myDriver.page_source\n",
    "    myParser = BeautifulSoup(webCurrentStatus, \"html.parser\")\n",
    "    side_Menu = myParser.select(\"div.detail_contents.is-article\")\n",
    "    \n",
    "    for i in side_Menu:\n",
    "        # ↓ try 블록 내에서 데이터를 추출하는 코드\n",
    "        detailTitle = i.select_one(\"div.detail_fixed > div.main_info_area > div.info_title_wrap\").text\n",
    "        detailType = i.select_one(\"div.detail_fixed > div.main_info_area > div.info_article_price > span.type\").text\n",
    "        detailPrc = i.select_one(\"div.detail_fixed > div.main_info_area > div.info_article_price > span.price\").text\n",
    "        detailAddr = i.select_one(\"div.detail_box--summary > table.info_table_wrap > tbody > tr.info_table_item > td.table_td\").text\n",
    "        detailArea = i.select_one(\"div.main_info_area > div.info_article_feature\").text\n",
    "        full_Addr = detailAddr + \" \" + detailTitle  # 주소 + 매물명 합침\n",
    "        \n",
    "        # ↓ 위에서 추출한 데이터를 빈리스트에 추가\n",
    "        area_list.append(detailArea)\n",
    "        detailTitle_list.append(detailTitle)\n",
    "        type_list.append(detailType)\n",
    "        detailPrc_list.append(detailPrc)\n",
    "        full_Addr_list.append(full_Addr)"
   ]
  },
  {
   "cell_type": "code",
   "execution_count": null,
   "id": "cd8f81cb-2731-43cd-a6c5-9571dddfc5cc",
   "metadata": {},
   "outputs": [],
   "source": [
    "# 데이터프레임 생성\n",
    "storagePlace = pd.DataFrame(\n",
    "    {\n",
    "     \"순번\" : idx_list,\n",
    "     \"명칭\" : detailTitle_list,\n",
    "     \"타입\" : type_list,\n",
    "     \"가격\" : detailPrc_list,\n",
    "     \"주소\" : full_Addr_list,\n",
    "     \"면적(㎡)\" : area_list\n",
    "    } \n",
    ")"
   ]
  },
  {
   "cell_type": "code",
   "execution_count": null,
   "id": "3bb6f943-6d2c-4bae-9c47-62d26946c339",
   "metadata": {},
   "outputs": [],
   "source": [
    "#전처리를 위해 빈리스트 생성\n",
    "deposit_list = list()\n",
    "monthly_fee_list = list()\n",
    "\n",
    "storagePlace[\"보증금\"] = \" \" #신규 필드 생성\n",
    "storagePlace[\"월세\"] = \" \" #신규 필드 생성\n",
    "storagePlace[\"계약면적(㎡)\"] = \" \" #신규 필드 생성\n",
    "storagePlace[\"전용면적(㎡)\"] = \" \" #신규 필드 생성\n",
    "storagePlace[\"대지면적(㎡)\"] = \" \" #신규 필드 생성\n",
    "storagePlace = storagePlace[['순번', '명칭', '타입', '면적(㎡)', '계약면적(㎡)', '전용면적(㎡)', '대지면적(㎡)','가격', '보증금', '월세', '주소']]  #필드순번지정\n",
    "\n",
    "storagePlace"
   ]
  },
  {
   "cell_type": "code",
   "execution_count": null,
   "id": "17106480-c5a6-43c6-a069-fb3eaa50c6d1",
   "metadata": {},
   "outputs": [],
   "source": [
    "for i in range(len(storagePlace)):\n",
    "    if \"/\" in storagePlace.loc[i,\"가격\"]:\n",
    "        storagePlace.loc[i,\"보증금\"] = storagePlace.loc[i,\"가격\"].split('/')[0].replace(',','').replace('억','')\n",
    "        storagePlace.loc[i,\"월세\"] = storagePlace.loc[i,\"가격\"].split('/')[1].replace(',','').replace('억','')\n",
    "    else:\n",
    "        storagePlace.loc[i,\"보증금\"] = 0\n",
    "        storagePlace.loc[i,\"월세\"] = 0\n",
    "    \n",
    "    if storagePlace.loc[i,\"주소\"][-1] == \"층\":\n",
    "        storagePlace.loc[i,\"주소\"] = storagePlace.loc[i,\"주소\"][:-2]\n",
    "    elif storagePlace.loc[i,\"주소\"][-1] == \"대\":\n",
    "        storagePlace.loc[i,\"주소\"] = storagePlace.loc[i,\"주소\"][:-2]\n",
    "        \n",
    "    if \":\" in storagePlace.loc[i, \"면적(㎡)\"]:\n",
    "        storagePlace.loc[i, \"면적(㎡)\"] = storagePlace.loc[i, \"면적(㎡)\"].split(\":\")[2]\n",
    "    else:\n",
    "        storagePlace.loc[i, \"면적(㎡)\"] = \"\"  # Handle the case where \":\" is not present\n",
    "\n",
    "    if \"/\" in storagePlace.loc[i,\"면적(㎡)\"]: \n",
    "        storagePlace.loc[i,\"계약면적(㎡)\"] = storagePlace.loc[i,\"면적(㎡)\"].split('/')[0].replace(\"㎡\",\"\")\n",
    "        storagePlace.loc[i,\"전용면적(㎡)\"] = storagePlace.loc[i,\"면적(㎡)\"].split('/')[1].replace(\"㎡\",\"\")\n",
    "        storagePlace.loc[i,\"대지면적(㎡)\"] = \"-\"\n",
    "    else:\n",
    "        storagePlace.loc[i,\"계약면적(㎡)\"] = \"-\"\n",
    "        storagePlace.loc[i,\"전용면적(㎡)\"] = \"-\"\n",
    "        storagePlace.loc[i,\"대지면적(㎡)\"] = storagePlace.loc[i,\"면적(㎡)\"].replace(\"㎡\",\"\")\n",
    "\n",
    "    storagePlace.loc[i, \"보증금\"] = pd.to_numeric(storagePlace.loc[i, \"보증금\"], errors='coerce')\n",
    "    storagePlace.loc[i, \"월세\"] = pd.to_numeric(storagePlace.loc[i, \"월세\"], errors='coerce')"
   ]
  },
  {
   "cell_type": "code",
   "execution_count": null,
   "id": "7db04ad0-2593-4b19-a2a9-bfbbb0b4d9e0",
   "metadata": {},
   "outputs": [],
   "source": [
    "storagePlace.head(2)"
   ]
  },
  {
   "cell_type": "code",
   "execution_count": null,
   "id": "afec417e-733e-41ea-b2c8-4b6571453298",
   "metadata": {},
   "outputs": [],
   "source": [
    "storagePlace['보증금'].fillna(0, inplace=True)\n",
    "\n",
    "# Convert columns to integers\n",
    "storagePlace['보증금'] = storagePlace['보증금'].astype(int)\n",
    "storagePlace['월세'] = storagePlace['월세'].astype(int)\n",
    "storagePlace['월세'] = storagePlace['월세'] * 10000\n",
    "\n",
    "# Loop to handle the specific case where '보증금' is 4\n",
    "for i in range(len(storagePlace)):\n",
    "    if storagePlace.loc[i, \"보증금\"] == 4:\n",
    "        storagePlace.loc[i, \"보증금\"] = storagePlace.loc[i, \"보증금\"] * 100000000\n",
    "\n",
    "storagePlace.head(2)"
   ]
  },
  {
   "cell_type": "code",
   "execution_count": null,
   "id": "08e4f40d-9cf1-47fc-9754-7c6490931c0a",
   "metadata": {},
   "outputs": [],
   "source": [
    "# 크롤링 파일 저장\n",
    "shinhodong.to_csv('../data/shinhodong0.1')"
   ]
  },
  {
   "cell_type": "code",
   "execution_count": null,
   "id": "7651a1ea-0271-4b6a-b489-1d684dbe5dbc",
   "metadata": {},
   "outputs": [],
   "source": [
    "# 크롤링 파일 불러오기\n",
    "shinhodong = pd.read_csv('../data/신호동0.1.csv')"
   ]
  },
  {
   "cell_type": "code",
   "execution_count": null,
   "id": "4752de97-3bb3-42d0-8900-8844ee7a0a2c",
   "metadata": {},
   "outputs": [],
   "source": [
    "# 면적 컬럼에 값 상이한 것 삭제\n",
    "for i in range(len(shinhodong)):\n",
    "    if shinhodong['전용면적(㎡)'][i] == '연 면적':\n",
    "        shinhodong = shinhodong.drop(i)\n",
    "       \n",
    "shinhodong = shinhodong.reset_index(drop=True)\n",
    "shinhodong.head(2)"
   ]
  },
  {
   "cell_type": "code",
   "execution_count": null,
   "id": "8c7bf6b4-bceb-4610-9982-3c6516f94111",
   "metadata": {},
   "outputs": [],
   "source": [
    "# 매매가 칼럼 추가하고 매매 타입 유형에 대해 가격 칼럼 값을 매매가에 기입\n",
    "sell = shinhodong[shinhodong['타입'] == '매매']\n",
    "\n",
    "shinhodong.loc[sell.index, '매매가'] = sell['가격']\n",
    "shinhodong['매매가'].fillna('-', inplace=True)\n",
    "shinhodong.head(2)"
   ]
  },
  {
   "cell_type": "code",
   "execution_count": null,
   "id": "42fc85da-975a-41a3-8c29-d1758863efe2",
   "metadata": {},
   "outputs": [],
   "source": [
    "# 보증금, 월세 값 0 대신 -으로 변경\n",
    "shinhodong['보증금'] = shinhodong['보증금'].replace(0, '-')\n",
    "shinhodong['월세'] = shinhodong['월세'].replace(0, '-')\n",
    "shinhodong.head(2)"
   ]
  },
  {
   "cell_type": "code",
   "execution_count": null,
   "id": "2c16c4e7-cacc-4b5f-8ce4-5f0fe77d286d",
   "metadata": {},
   "outputs": [],
   "source": [
    "# 구분 컬럼 추가\n",
    "shinhodong['구분']='신호동'\n",
    "shinhodong.head(2)"
   ]
  },
  {
   "cell_type": "code",
   "execution_count": null,
   "id": "6134f8d1-cccf-4bb4-95c8-b9d257d16d68",
   "metadata": {},
   "outputs": [],
   "source": [
    "# 필요한 칼럼만 가져오기\n",
    "shinhodong = shinhodong[['순번','구분','타입','계약면적(㎡)','전용면적(㎡)','대지면적(㎡)','매매가','보증금','월세','주소','명칭']]\n",
    "shinhodong.head()"
   ]
  },
  {
   "cell_type": "code",
   "execution_count": null,
   "id": "040d5353-36e6-4a7a-aa3a-645de1e64788",
   "metadata": {},
   "outputs": [],
   "source": [
    "# 보증금 값 변경 : 1억을 만원 단위로 표시\n",
    "shinhodong['보증금'] = shinhodong['보증금'].replace(1, '10000')\n",
    "shinhodong.head(2)"
   ]
  },
  {
   "cell_type": "code",
   "execution_count": null,
   "id": "0f37c3cc-9d08-4f84-879a-708075a61787",
   "metadata": {},
   "outputs": [],
   "source": [
    "# 명칭 칼럼 이름 변경\n",
    "shinhodong = shinhodong.rename(columns={'명칭': '기타(세부주소)'})\n",
    "shinhodong = shinhodong.rename(columns={'보증금': '보증금 (단위: 만원)'})\n",
    "shinhodong = shinhodong.rename(columns={'월세': '월세(단위:만원)'})\n",
    "shinhodong.head(2)"
   ]
  },
  {
   "cell_type": "code",
   "execution_count": null,
   "id": "072b9cb5-e3d0-47dc-a117-6af0e016fce1",
   "metadata": {},
   "outputs": [],
   "source": [
    "# 타입별 분류\n",
    "shinhodong_sorted = shinhodong.sort_values(by='타입', ascending=False)\n",
    "shinhodong_sorted.head()"
   ]
  },
  {
   "cell_type": "code",
   "execution_count": null,
   "id": "fd0d623f-89eb-44b5-b31d-c807b3b7df7d",
   "metadata": {},
   "outputs": [],
   "source": [
    "# 순번 열 자동화\n",
    "shinhodong_sorted.reset_index(drop=True, inplace=True)\n",
    "shinhodong_sorted['순번'] = shinhodong_sorted.index + 1\n",
    "shinhodong_sorted.head()"
   ]
  },
  {
   "cell_type": "code",
   "execution_count": null,
   "id": "60f6d0b1-024e-4253-9831-048949db4b0b",
   "metadata": {},
   "outputs": [],
   "source": [
    "# 데이터 정제 파일 저장\n",
    "shinhodong_sorted.to_csv('../data/shinhodong0.1')"
   ]
  },
  {
   "cell_type": "markdown",
   "id": "e95dbae3-f610-4d2b-aba7-cf00e4ba333c",
   "metadata": {},
   "source": [
    "### 5. 송정동 크롤링 및 데이터 정제"
   ]
  },
  {
   "cell_type": "code",
   "execution_count": null,
   "id": "2dbfd794-3563-4b70-9f12-5cbb5a80c1cc",
   "metadata": {},
   "outputs": [],
   "source": [
    "# 라이브러리 로드\n",
    "from selenium import webdriver #Selenium의 웹 드라이버를 사용하기 위한 모듈을 임포트\n",
    "from selenium.webdriver.common.by import By #Selenium에서 사용하는 By 클래스를 임포트합. 웹 요소를 검색하는데 사용.\n",
    "from selenium.webdriver.common.keys import Keys #키보드 입력 제어를 위해 Keys 클래스 임포트\n",
    "from selenium.webdriver.chrome.service import Service #Chrome 드라이버 서비스를 사용하기 위한 모듈 임포트\n",
    "from selenium.webdriver.chrome.options import Options #Chrome 드라이버 옵션을 설정하기 위한 클래스 임포트\n",
    "from webdriver_manager.chrome import ChromeDriverManager #Chrome 드라이버를 자동으로 설치 및 관리하는데 사용되는 드라이버 매니저 임포트\n",
    "from bs4 import BeautifulSoup #Beautiful soup 크롤링을위해\n",
    "import pandas as pd\n",
    "import requests #request 사용을 위해\n",
    "import re #정규표현을  \n",
    "import time #timesleep을 위해 사용\n",
    "import numpy as np\n",
    "# 셀레니움 옵션 지정\n",
    "myOption = Options() #옵션객체 변수지정\n",
    "myOption.add_argument(\"--start-maximized\") #크롬 드라이버 창 최대화\n",
    "myOption.add_argument(\"--incognito\") #크롬 드라이버 시크릿모드로 진행\n",
    "myOption.add_experimental_option(\"excludeSwitches\", [\"enable-automation\"]) #드라이버 시작시 불필요문구 미표시되도록 설정\n",
    "myOption.add_experimental_option(\"excludeSwitches\", [\"enable-logging\"]) #터미널상의 불필요문구 미표시되도록 설정\n",
    "myOption.add_experimental_option(\"detach\", True) #드라이버 자동꺼짐 방지\n",
    "#드라이버 세팅\n",
    "myService = Service(ChromeDriverManager().install()) #크롬드라이버 설치\n",
    "myDriver = webdriver.Chrome(service=myService, options=myOption) #드라이버 서비스 및 옵션 지정"
   ]
  },
  {
   "cell_type": "code",
   "execution_count": null,
   "id": "287295c4-f528-45a4-85c8-e5bf22f6127b",
   "metadata": {},
   "outputs": [],
   "source": [
    "#송정동\n",
    "targetUrl = \"https://new.land.naver.com/offices?ms=35.0988529,128.8437712,16&a=GJCG:TJ:SMS:SG&e=RETAIL&h=165&articleNo=2409482413\"\n",
    "myDriver.get(targetUrl) #타겟링크로부터 정보수신\n",
    "time.sleep(4)\n",
    "print(f\"{myDriver.current_url} 접속완료\")"
   ]
  },
  {
   "cell_type": "code",
   "execution_count": null,
   "id": "f9356d3c-76ee-4fb1-b6a8-44496912f954",
   "metadata": {},
   "outputs": [],
   "source": [
    "total_items = len(myDriver.find_elements(By.XPATH, '//*[@id=\"listContents1\"]/div/div/div[1]/div'))\n",
    "total_items"
   ]
  },
  {
   "cell_type": "code",
   "execution_count": null,
   "id": "ca37108f-11e5-4435-9298-f5123d13e33a",
   "metadata": {},
   "outputs": [],
   "source": [
    "#데이터프레임 필드값으로 활용할 빈리스트 생성\n",
    "idx_list = list()  #데이터프레임 순번\n",
    "detailTitle_list = list() #판매제목 \n",
    "detailPrc_list = list()  #가격 리스트\n",
    "type_list = list()  #타입 리스트\n",
    "full_Addr_list = list() #풀 주소 리스트\n",
    "area_list = list() #면적"
   ]
  },
  {
   "cell_type": "code",
   "execution_count": null,
   "id": "5986b507-3952-40e6-9a92-dfd456f0fc0a",
   "metadata": {},
   "outputs": [],
   "source": [
    "number_idx = 0\n",
    "\n",
    "# Iterate through all items\n",
    "for i in range(1, total_items + 1):\n",
    "    # 순번\n",
    "    number_idx += 1  \n",
    "    idx_list.append(number_idx)\n",
    "\n",
    "    # 동적으로 XPath를 생성\n",
    "    element_xpath = f'//*[@id=\"listContents1\"]/div/div/div[1]/div[{i}]'\n",
    "    \n",
    "    # 좌측바 메뉴 클릭\n",
    "    leftMenu = myDriver.find_element(By.XPATH, value=element_xpath).click()\n",
    "    time.sleep(4)\n",
    "    \n",
    "    # 나머지 코드\n",
    "    webCurrentStatus = myDriver.page_source\n",
    "    myParser = BeautifulSoup(webCurrentStatus, \"html.parser\")\n",
    "    side_Menu = myParser.select(\"div.detail_contents.is-article\")\n",
    "    \n",
    "    for i in side_Menu:\n",
    "        # ↓ try 블록 내에서 데이터를 추출하는 코드\n",
    "        detailTitle = i.select_one(\"div.detail_fixed > div.main_info_area > div.info_title_wrap\").text\n",
    "        detailType = i.select_one(\"div.detail_fixed > div.main_info_area > div.info_article_price > span.type\").text\n",
    "        detailPrc = i.select_one(\"div.detail_fixed > div.main_info_area > div.info_article_price > span.price\").text\n",
    "        detailAddr = i.select_one(\"div.detail_box--summary > table.info_table_wrap > tbody > tr.info_table_item > td.table_td\").text\n",
    "        detailArea = i.select_one(\"div.main_info_area > div.info_article_feature\").text\n",
    "        full_Addr = detailAddr + \" \" + detailTitle  # 주소 + 매물명 합침\n",
    "        \n",
    "        # ↓ 위에서 추출한 데이터를 빈리스트에 추가\n",
    "        area_list.append(detailArea)\n",
    "        detailTitle_list.append(detailTitle)\n",
    "        type_list.append(detailType)\n",
    "        detailPrc_list.append(detailPrc)\n",
    "        full_Addr_list.append(full_Addr)"
   ]
  },
  {
   "cell_type": "code",
   "execution_count": null,
   "id": "c2c55c0f-3a58-4048-bb56-1235a7624741",
   "metadata": {},
   "outputs": [],
   "source": [
    "# 데이터프레임 생성\n",
    "storagePlace = pd.DataFrame(\n",
    "    {\n",
    "     \"순번\" : idx_list,\n",
    "     \"명칭\" : detailTitle_list,\n",
    "     \"타입\" : type_list,\n",
    "     \"가격\" : detailPrc_list,\n",
    "     \"주소\" : full_Addr_list,\n",
    "     \"면적(㎡)\" : area_list\n",
    "    } \n",
    ")"
   ]
  },
  {
   "cell_type": "code",
   "execution_count": null,
   "id": "dd63fed6-ed35-44bb-9877-0e8a632c36d6",
   "metadata": {},
   "outputs": [],
   "source": [
    "#전처리를 위해 빈리스트 생성\n",
    "deposit_list = list()\n",
    "monthly_fee_list = list()\n",
    "\n",
    "storagePlace[\"보증금\"] = \" \" #신규 필드 생성\n",
    "storagePlace[\"월세\"] = \" \" #신규 필드 생성\n",
    "storagePlace[\"계약면적(㎡)\"] = \" \" #신규 필드 생성\n",
    "storagePlace[\"전용면적(㎡)\"] = \" \" #신규 필드 생성\n",
    "storagePlace[\"대지면적(㎡)\"] = \" \" #신규 필드 생성\n",
    "storagePlace = storagePlace[['순번', '명칭', '타입', '면적(㎡)', '계약면적(㎡)', '전용면적(㎡)', '대지면적(㎡)','가격', '보증금', '월세', '주소']]  #필드순번지정\n",
    "\n",
    "storagePlace"
   ]
  },
  {
   "cell_type": "code",
   "execution_count": null,
   "id": "99f31032-8105-423b-94b2-fdd4c6e7e85a",
   "metadata": {},
   "outputs": [],
   "source": [
    "for i in range(len(storagePlace)):\n",
    "    if \"/\" in storagePlace.loc[i,\"가격\"]:\n",
    "        storagePlace.loc[i,\"보증금\"] = storagePlace.loc[i,\"가격\"].split('/')[0].replace(',','').replace('억','')\n",
    "        storagePlace.loc[i,\"월세\"] = storagePlace.loc[i,\"가격\"].split('/')[1].replace(',','').replace('억','')\n",
    "    else:\n",
    "        storagePlace.loc[i,\"보증금\"] = 0\n",
    "        storagePlace.loc[i,\"월세\"] = 0\n",
    "    \n",
    "    if storagePlace.loc[i,\"주소\"][-1] == \"층\":\n",
    "        storagePlace.loc[i,\"주소\"] = storagePlace.loc[i,\"주소\"][:-2]\n",
    "    elif storagePlace.loc[i,\"주소\"][-1] == \"대\":\n",
    "        storagePlace.loc[i,\"주소\"] = storagePlace.loc[i,\"주소\"][:-2]\n",
    "        \n",
    "    if \":\" in storagePlace.loc[i, \"면적(㎡)\"]:\n",
    "        storagePlace.loc[i, \"면적(㎡)\"] = storagePlace.loc[i, \"면적(㎡)\"].split(\":\")[2]\n",
    "    else:\n",
    "        storagePlace.loc[i, \"면적(㎡)\"] = \"\"  # Handle the case where \":\" is not present\n",
    "\n",
    "    if \"/\" in storagePlace.loc[i,\"면적(㎡)\"]: \n",
    "        storagePlace.loc[i,\"계약면적(㎡)\"] = storagePlace.loc[i,\"면적(㎡)\"].split('/')[0].replace(\"㎡\",\"\")\n",
    "        storagePlace.loc[i,\"전용면적(㎡)\"] = storagePlace.loc[i,\"면적(㎡)\"].split('/')[1].replace(\"㎡\",\"\")\n",
    "        storagePlace.loc[i,\"대지면적(㎡)\"] = \"-\"\n",
    "    else:\n",
    "        storagePlace.loc[i,\"계약면적(㎡)\"] = \"-\"\n",
    "        storagePlace.loc[i,\"전용면적(㎡)\"] = \"-\"\n",
    "        storagePlace.loc[i,\"대지면적(㎡)\"] = storagePlace.loc[i,\"면적(㎡)\"].replace(\"㎡\",\"\")\n",
    "\n",
    "    storagePlace.loc[i, \"보증금\"] = pd.to_numeric(storagePlace.loc[i, \"보증금\"], errors='coerce')\n",
    "    storagePlace.loc[i, \"월세\"] = pd.to_numeric(storagePlace.loc[i, \"월세\"], errors='coerce')"
   ]
  },
  {
   "cell_type": "code",
   "execution_count": null,
   "id": "577e6b24-1a36-403a-b6ff-e0fd67bd171f",
   "metadata": {},
   "outputs": [],
   "source": [
    "# 크롤링 파일 저장\n",
    "storagePlace.to_csv('../data/songjeongdong0.1')"
   ]
  },
  {
   "cell_type": "code",
   "execution_count": null,
   "id": "6066ca4f-610a-4249-b337-f48dbc948ad4",
   "metadata": {},
   "outputs": [],
   "source": [
    "# 크롤링 파일 불러오기\n",
    "songjeongdong = pd.read_csv('../data/songjeongdong0.1')"
   ]
  },
  {
   "cell_type": "code",
   "execution_count": null,
   "id": "7724eba8-218c-4fa8-9e47-38a2f6c9482e",
   "metadata": {},
   "outputs": [],
   "source": [
    "# 매매 타입 유형은 가격값을 매매가라는 새로운 칼럼에 기입\n",
    "sell = songjeongdong[songjeongdong['타입'] == '매매']\n",
    "songjeongdong.loc[sell.index, '매매가'] = sell['가격']\n",
    "songjeongdong['매매가'].fillna('-', inplace=True)"
   ]
  },
  {
   "cell_type": "code",
   "execution_count": null,
   "id": "06a72194-148d-431e-af51-7055486f0b84",
   "metadata": {},
   "outputs": [],
   "source": [
    "# 구분 칼럼에 송정동 값 기입\n",
    "songjeongdong['구분']='송정동'\n",
    "songjeongdong.head(2)"
   ]
  },
  {
   "cell_type": "code",
   "execution_count": null,
   "id": "3b7c8c61-4b4d-4ab9-ab4d-219060cb3c16",
   "metadata": {},
   "outputs": [],
   "source": [
    "# 필요한 칼럼만 불러오기\n",
    "songjeongdong = songjeongdong[['순번','구분','타입','계약면적(㎡)','전용면적(㎡)','대지면적(㎡)','매매가','보증금','월세','주소','명칭']]\n",
    "songjeongdong.head(2)"
   ]
  },
  {
   "cell_type": "code",
   "execution_count": null,
   "id": "76c9b8df-46c3-489b-b92b-25d8516b829b",
   "metadata": {},
   "outputs": [],
   "source": [
    "# 칼럼값 변경\n",
    "songjeongdong = songjeongdong.rename(columns={'명칭': '기타(세부주소)'})\n",
    "songjeongdong = songjeongdong.rename(columns={'보증금': '보증금 (단위: 만원)'})\n",
    "songjeongdong = songjeongdong.rename(columns={'월세': '월세(단위:만원)'})\n",
    "songjeongdong.head()"
   ]
  },
  {
   "cell_type": "code",
   "execution_count": null,
   "id": "5212d4ee-2999-4a93-9b72-1ddd85186ef5",
   "metadata": {},
   "outputs": [],
   "source": [
    "songjeongdong.to_csv('../data/songjeongdong0.2.csv')"
   ]
  },
  {
   "cell_type": "markdown",
   "id": "34134b0b-85a0-4b69-9f1a-f62a1bb05179",
   "metadata": {},
   "source": [
    "### 6. 성북동 크롤링 및 데이터 정제"
   ]
  },
  {
   "cell_type": "code",
   "execution_count": 68,
   "id": "0fcd4ff9-8b32-4a11-9359-ecada0adfb47",
   "metadata": {},
   "outputs": [],
   "source": [
    "# 라이브러리 로드\n",
    "from selenium import webdriver #Selenium의 웹 드라이버를 사용하기 위한 모듈을 임포트\n",
    "from selenium.webdriver.common.by import By #Selenium에서 사용하는 By 클래스를 임포트합. 웹 요소를 검색하는데 사용.\n",
    "from selenium.webdriver.common.keys import Keys #키보드 입력 제어를 위해 Keys 클래스 임포트\n",
    "from selenium.webdriver.chrome.service import Service #Chrome 드라이버 서비스를 사용하기 위한 모듈 임포트\n",
    "from selenium.webdriver.chrome.options import Options #Chrome 드라이버 옵션을 설정하기 위한 클래스 임포트\n",
    "from webdriver_manager.chrome import ChromeDriverManager #Chrome 드라이버를 자동으로 설치 및 관리하는데 사용되는 드라이버 매니저 임포트\n",
    "from bs4 import BeautifulSoup #Beautiful soup 크롤링을위해\n",
    "import pandas as pd\n",
    "import requests #request 사용을 위해\n",
    "import re #정규표현을  \n",
    "import time #timesleep을 위해 사용\n",
    "import numpy as np\n",
    "# 셀레니움 옵션 지정\n",
    "myOption = Options() #옵션객체 변수지정\n",
    "myOption.add_argument(\"--start-maximized\") #크롬 드라이버 창 최대화\n",
    "myOption.add_argument(\"--incognito\") #크롬 드라이버 시크릿모드로 진행\n",
    "myOption.add_experimental_option(\"excludeSwitches\", [\"enable-automation\"]) #드라이버 시작시 불필요문구 미표시되도록 설정\n",
    "myOption.add_experimental_option(\"excludeSwitches\", [\"enable-logging\"]) #터미널상의 불필요문구 미표시되도록 설정\n",
    "myOption.add_experimental_option(\"detach\", True) #드라이버 자동꺼짐 방지\n",
    "#드라이버 세팅\n",
    "myService = Service(ChromeDriverManager().install()) #크롬드라이버 설치\n",
    "myDriver = webdriver.Chrome(service=myService, options=myOption) #드라이버 서비스 및 옵션 지정"
   ]
  },
  {
   "cell_type": "code",
   "execution_count": 69,
   "id": "962646a1-c9c6-4b0e-b688-0978b15837e7",
   "metadata": {},
   "outputs": [
    {
     "name": "stdout",
     "output_type": "stream",
     "text": [
      "https://new.land.naver.com/offices?ms=35.096834,128.8435352,16&a=GJCG:TJ:SMS:SG&e=RETAIL&h=165&articleNo=2409482413 접속완료\n"
     ]
    }
   ],
   "source": [
    "#송정동\n",
    "targetUrl = \"https://new.land.naver.com/offices?ms=35.0849,128.8338,16&a=GJCG:TJ:SMS:SG&e=RETAIL&h=165\"\n",
    "myDriver.get(targetUrl) #타겟링크로부터 정보수신\n",
    "time.sleep(4)\n",
    "print(f\"{myDriver.current_url} 접속완료\")"
   ]
  },
  {
   "cell_type": "code",
   "execution_count": null,
   "id": "d696de77-386d-47e0-b8ab-8fa5a0090f3c",
   "metadata": {},
   "outputs": [],
   "source": [
    "total_items = len(myDriver.find_elements(By.XPATH, '//*[@id=\"listContents1\"]/div/div/div[1]/div'))\n",
    "total_items"
   ]
  },
  {
   "cell_type": "code",
   "execution_count": null,
   "id": "864df088-9256-4e0b-98d1-3cb055d8db7a",
   "metadata": {},
   "outputs": [],
   "source": [
    "#데이터프레임 필드값으로 활용할 빈리스트 생성\n",
    "idx_list = list()  #데이터프레임 순번\n",
    "detailTitle_list = list() #판매제목 \n",
    "detailPrc_list = list()  #가격 리스트\n",
    "type_list = list()  #타입 리스트\n",
    "full_Addr_list = list() #풀 주소 리스트\n",
    "area_list = list() #면적"
   ]
  },
  {
   "cell_type": "code",
   "execution_count": null,
   "id": "97d1db5a-5240-48e6-a055-a7dcaf64daab",
   "metadata": {},
   "outputs": [],
   "source": [
    "number_idx = 0\n",
    "\n",
    "# Iterate through all items\n",
    "for i in range(1, total_items + 1):\n",
    "    # 순번\n",
    "    number_idx += 1  \n",
    "    idx_list.append(number_idx)\n",
    "\n",
    "    # 동적으로 XPath를 생성\n",
    "    element_xpath = f'//*[@id=\"listContents1\"]/div/div/div[1]/div[{i}]'\n",
    "    \n",
    "    # 좌측바 메뉴 클릭\n",
    "    leftMenu = myDriver.find_element(By.XPATH, value=element_xpath).click()\n",
    "    time.sleep(4)\n",
    "    \n",
    "    # 나머지 코드\n",
    "    webCurrentStatus = myDriver.page_source\n",
    "    myParser = BeautifulSoup(webCurrentStatus, \"html.parser\")\n",
    "    side_Menu = myParser.select(\"div.detail_contents.is-article\")\n",
    "    \n",
    "    for i in side_Menu:\n",
    "        # ↓ try 블록 내에서 데이터를 추출하는 코드\n",
    "        detailTitle = i.select_one(\"div.detail_fixed > div.main_info_area > div.info_title_wrap\").text\n",
    "        detailType = i.select_one(\"div.detail_fixed > div.main_info_area > div.info_article_price > span.type\").text\n",
    "        detailPrc = i.select_one(\"div.detail_fixed > div.main_info_area > div.info_article_price > span.price\").text\n",
    "        detailAddr = i.select_one(\"div.detail_box--summary > table.info_table_wrap > tbody > tr.info_table_item > td.table_td\").text\n",
    "        detailArea = i.select_one(\"div.main_info_area > div.info_article_feature\").text\n",
    "        full_Addr = detailAddr + \" \" + detailTitle  # 주소 + 매물명 합침\n",
    "        \n",
    "        # ↓ 위에서 추출한 데이터를 빈리스트에 추가\n",
    "        area_list.append(detailArea)\n",
    "        detailTitle_list.append(detailTitle)\n",
    "        type_list.append(detailType)\n",
    "        detailPrc_list.append(detailPrc)\n",
    "        full_Addr_list.append(full_Addr)"
   ]
  },
  {
   "cell_type": "code",
   "execution_count": null,
   "id": "9922645f-4000-4f32-925e-eaae4bdce195",
   "metadata": {},
   "outputs": [],
   "source": [
    "# 데이터프레임 생성\n",
    "storagePlace = pd.DataFrame(\n",
    "    {\n",
    "     \"순번\" : idx_list,\n",
    "     \"명칭\" : detailTitle_list,\n",
    "     \"타입\" : type_list,\n",
    "     \"가격\" : detailPrc_list,\n",
    "     \"주소\" : full_Addr_list,\n",
    "     \"면적(㎡)\" : area_list\n",
    "    } \n",
    ")"
   ]
  },
  {
   "cell_type": "code",
   "execution_count": null,
   "id": "b3fc32c7-2cda-4d93-84c5-86f46c5b2b75",
   "metadata": {},
   "outputs": [],
   "source": [
    "#전처리를 위해 빈리스트 생성\n",
    "deposit_list = list()\n",
    "monthly_fee_list = list()\n",
    "\n",
    "storagePlace[\"보증금\"] = \" \" #신규 필드 생성\n",
    "storagePlace[\"월세\"] = \" \" #신규 필드 생성\n",
    "storagePlace[\"계약면적(㎡)\"] = \" \" #신규 필드 생성\n",
    "storagePlace[\"전용면적(㎡)\"] = \" \" #신규 필드 생성\n",
    "storagePlace[\"대지면적(㎡)\"] = \" \" #신규 필드 생성\n",
    "storagePlace = storagePlace[['순번', '명칭', '타입', '면적(㎡)', '계약면적(㎡)', '전용면적(㎡)', '대지면적(㎡)','가격', '보증금', '월세', '주소']]  #필드순번지정\n",
    "\n",
    "storagePlace"
   ]
  },
  {
   "cell_type": "code",
   "execution_count": null,
   "id": "f19cd174-e026-43fb-8b53-bf6621fcb1ad",
   "metadata": {},
   "outputs": [],
   "source": [
    "for i in range(len(storagePlace)):\n",
    "    if \"/\" in storagePlace.loc[i,\"가격\"]:\n",
    "        storagePlace.loc[i,\"보증금\"] = storagePlace.loc[i,\"가격\"].split('/')[0].replace(',','').replace('억','')\n",
    "        storagePlace.loc[i,\"월세\"] = storagePlace.loc[i,\"가격\"].split('/')[1].replace(',','').replace('억','')\n",
    "    else:\n",
    "        storagePlace.loc[i,\"보증금\"] = 0\n",
    "        storagePlace.loc[i,\"월세\"] = 0\n",
    "    \n",
    "    if storagePlace.loc[i,\"주소\"][-1] == \"층\":\n",
    "        storagePlace.loc[i,\"주소\"] = storagePlace.loc[i,\"주소\"][:-2]\n",
    "    elif storagePlace.loc[i,\"주소\"][-1] == \"대\":\n",
    "        storagePlace.loc[i,\"주소\"] = storagePlace.loc[i,\"주소\"][:-2]\n",
    "        \n",
    "    if \":\" in storagePlace.loc[i, \"면적(㎡)\"]:\n",
    "        storagePlace.loc[i, \"면적(㎡)\"] = storagePlace.loc[i, \"면적(㎡)\"].split(\":\")[2]\n",
    "    else:\n",
    "        storagePlace.loc[i, \"면적(㎡)\"] = \"\"  # Handle the case where \":\" is not present\n",
    "\n",
    "    if \"/\" in storagePlace.loc[i,\"면적(㎡)\"]: \n",
    "        storagePlace.loc[i,\"계약면적(㎡)\"] = storagePlace.loc[i,\"면적(㎡)\"].split('/')[0].replace(\"㎡\",\"\")\n",
    "        storagePlace.loc[i,\"전용면적(㎡)\"] = storagePlace.loc[i,\"면적(㎡)\"].split('/')[1].replace(\"㎡\",\"\")\n",
    "        storagePlace.loc[i,\"대지면적(㎡)\"] = \"-\"\n",
    "    else:\n",
    "        storagePlace.loc[i,\"계약면적(㎡)\"] = \"-\"\n",
    "        storagePlace.loc[i,\"전용면적(㎡)\"] = \"-\"\n",
    "        storagePlace.loc[i,\"대지면적(㎡)\"] = storagePlace.loc[i,\"면적(㎡)\"].replace(\"㎡\",\"\")\n",
    "\n",
    "    storagePlace.loc[i, \"보증금\"] = pd.to_numeric(storagePlace.loc[i, \"보증금\"], errors='coerce')\n",
    "    storagePlace.loc[i, \"월세\"] = pd.to_numeric(storagePlace.loc[i, \"월세\"], errors='coerce')"
   ]
  },
  {
   "cell_type": "code",
   "execution_count": null,
   "id": "4dbc59f6-e31d-4203-a5f1-5d64fd33bf5a",
   "metadata": {},
   "outputs": [],
   "source": [
    "# 크롤링 파일 저장\n",
    "storagePlace.to_csv('../data/Sungbookdong')"
   ]
  },
  {
   "cell_type": "code",
   "execution_count": null,
   "id": "035d3944-2484-4fb7-b947-8692c06ea1a0",
   "metadata": {},
   "outputs": [],
   "source": [
    "# 크롤링 저장한 파일 불러오기\n",
    "sungbookdong = pd.read_csv('../data/Sungbookdong.csv')"
   ]
  },
  {
   "cell_type": "code",
   "execution_count": null,
   "id": "00c12210-6165-43d2-b6cc-0156bbeb720d",
   "metadata": {},
   "outputs": [],
   "source": [
    "# 컬럼 데이터 오류 값 삭제\n",
    "for i in range(len(sungbookdong)):\n",
    "    if sungbookdong.loc[i, '전용면적(㎡)'] == '연 면적':\n",
    "        sungbookdong = sungbookdong.drop(i)\n",
    "       \n",
    "sungbookdong = sungbookdong.reset_index(drop=True)\n",
    "sungbookdong.head(2)"
   ]
  },
  {
   "cell_type": "code",
   "execution_count": null,
   "id": "4600d49e-2ca4-4166-bd28-5b92123b920e",
   "metadata": {},
   "outputs": [],
   "source": [
    "# 매매가 칼럼 추가하고 매매 타입 유형에 대해 가격 칼럼 값을 매매가에 기입\n",
    "sell = sungbookdong[sungbookdong['타입'] == '매매']\n",
    "\n",
    "sungbookdong.loc[sell.index, '매매가'] = sell['가격']\n",
    "sungbookdong['매매가'].fillna('-', inplace=True)\n",
    "sungbookdong.head(2)"
   ]
  },
  {
   "cell_type": "code",
   "execution_count": null,
   "id": "b9d1e5c4-0901-4b8d-bdc5-50045925eb8a",
   "metadata": {},
   "outputs": [],
   "source": [
    "# 구분 컬럼 추가\n",
    "sungbookdong['구분']='성북동'\n",
    "sungbookdong.head(2)"
   ]
  },
  {
   "cell_type": "code",
   "execution_count": null,
   "id": "b3bea679-eba9-414b-a3ea-b1708e80bdd4",
   "metadata": {},
   "outputs": [],
   "source": [
    "# 필요한 칼럼만 가져오기\n",
    "sungbookdong = sungbookdong[['순번','구분','타입','계약면적(㎡)','전용면적(㎡)','대지면적(㎡)','매매가','보증금','월세','주소','명칭']]\n",
    "sungbookdong.head(2)"
   ]
  },
  {
   "cell_type": "code",
   "execution_count": null,
   "id": "24c73afc-8fc1-43c7-877b-433aca2a3a4b",
   "metadata": {},
   "outputs": [],
   "source": [
    "sungbookdong = sungbookdong.rename(columns={'명칭': '기타(세부주소)'})\n",
    "sungbookdong = sungbookdong.rename(columns={'보증금': '보증금 (단위: 만원)'})\n",
    "sungbookdong = sungbookdong.rename(columns={'월세': '월세(단위:만원)'})\n",
    "sungbookdong.head()"
   ]
  },
  {
   "cell_type": "code",
   "execution_count": null,
   "id": "e1dc2ba7-d9bd-49b4-850f-b51679b5075e",
   "metadata": {},
   "outputs": [],
   "source": [
    "# 크롤링한 파일 저장하기\n",
    "sungbookdong.to_csv('../data/sungbookdong0.1.csv')"
   ]
  }
 ],
 "metadata": {
  "kernelspec": {
   "display_name": "Python 3 (ipykernel)",
   "language": "python",
   "name": "python3"
  },
  "language_info": {
   "codemirror_mode": {
    "name": "ipython",
    "version": 3
   },
   "file_extension": ".py",
   "mimetype": "text/x-python",
   "name": "python",
   "nbconvert_exporter": "python",
   "pygments_lexer": "ipython3",
   "version": "3.11.7"
  }
 },
 "nbformat": 4,
 "nbformat_minor": 5
}
