{
 "cells": [
  {
   "cell_type": "markdown",
   "id": "d3496d2c-0f67-4a37-9bb7-291804de0b5b",
   "metadata": {},
   "source": [
    "#### 1. 육류 가공식품 크롤링"
   ]
  },
  {
   "cell_type": "code",
   "execution_count": null,
   "id": "90d9b412-11c4-422f-b1d8-b6f29045b44a",
   "metadata": {},
   "outputs": [],
   "source": [
    "# 라이브러리 로드\n",
    "from selenium import webdriver #Selenium의 웹 드라이버를 사용하기 위한 모듈을 임포트\n",
    "from selenium.webdriver.common.by import By #Selenium에서 사용하는 By 클래스를 임포트합. 웹 요소를 검색하는데 사용.\n",
    "from selenium.webdriver.common.keys import Keys #키보드 입력 제어를 위해 Keys 클래스 임포트\n",
    "from selenium.webdriver.chrome.service import Service #Chrome 드라이버 서비스를 사용하기 위한 모듈 임포트\n",
    "from selenium.webdriver.chrome.options import Options #Chrome 드라이버 옵션을 설정하기 위한 클래스 임포트\n",
    "from webdriver_manager.chrome import ChromeDriverManager #Chrome 드라이버를 자동으로 설치 및 관리하는데 사용되는 드라이버 매니저 임포트\n",
    "from bs4 import BeautifulSoup #Beautiful soup 크롤링을위해\n",
    "import pandas as pd\n",
    "import requests #request 사용을 위해\n",
    "import re #정규표현을  \n",
    "import time #timesleep을 위해 사용\n",
    "import numpy as np\n",
    "import selenium\n",
    "import pandas as pd"
   ]
  },
  {
   "cell_type": "code",
   "execution_count": null,
   "id": "3b1363e2-c9a2-4ee1-84fd-aa1ba48774ae",
   "metadata": {},
   "outputs": [],
   "source": [
    "#브라우저 꺼짐 방지\n",
    "chrome_options = Options()\n",
    "chrome_options.add_experimental_option('detach', True)\n",
    "#불필요한 에러 메서지 없애기\n",
    "chrome_options.add_experimental_option('excludeSwitches',['enable-logging'])"
   ]
  },
  {
   "cell_type": "code",
   "execution_count": null,
   "id": "4b0a09f5-7ae2-4461-94e4-e7f7653bb4ba",
   "metadata": {},
   "outputs": [],
   "source": [
    "service = Service(executable_path = ChromeDriverManager().install())\n",
    "driver = webdriver.Chrome(service=service, options=chrome_options)"
   ]
  },
  {
   "cell_type": "code",
   "execution_count": null,
   "id": "04509203-7120-4d85-93f5-6741a19da715",
   "metadata": {},
   "outputs": [],
   "source": [
    "url = \"https://dart.fss.or.kr/dsae001/main.do\"\n",
    "driver.get(url)\n",
    "driver.maximize_window()\n",
    "driver.implicitly_wait(5)"
   ]
  },
  {
   "cell_type": "code",
   "execution_count": null,
   "id": "b63efc59-31d1-4da7-adc1-63e5e292efbe",
   "metadata": {},
   "outputs": [],
   "source": [
    "# 업종별 탭\n",
    "upjong_btn=driver.find_element(By.CSS_SELECTOR,'#businessTab > a')\n",
    "upjong_btn.click()\n",
    "\n",
    "# 최상위 분류 \n",
    "type_btn_1=driver.find_element(By.CSS_SELECTOR,'#root4646 > i')\n",
    "\n",
    "type_btn_1.click()\n",
    "time.sleep(1)\n",
    "\n",
    "# 두 번째 상위 분류 \n",
    "type_btn_2=driver.find_element(By.XPATH,'//*[@id=\"46\"]/i')\n",
    "type_btn_2.click()\n",
    "time.sleep(1)\n",
    "\n",
    "# 세 번째 상위 분류 \n",
    "type_btn_3=driver.find_element(By.XPATH,'//*[@id=\"463\"]/i')\n",
    "type_btn_3.click()\n",
    "time.sleep(1)\n",
    "\n",
    "# 네 번재 상위 분류 \n",
    "type_btn_4=driver.find_element(By.XPATH,'//*[@id=\"4632\"]/i')\n",
    "type_btn_4.click()\n",
    "time.sleep(1)\n",
    "\n",
    "# 마지막 분류\n",
    "type_btn_end=driver.find_element(By.XPATH,'//*[@id=\"46321_anchor\"]')\n",
    "type_btn_end.click()\n",
    "time.sleep(1)\n",
    "time.sleep(3)"
   ]
  },
  {
   "cell_type": "code",
   "execution_count": null,
   "id": "6509233b-943e-4df1-94ba-3ec58c3ae851",
   "metadata": {},
   "outputs": [],
   "source": [
    "# 빈 리스트 생성\n",
    "table_list=[]\n",
    "com_name = []"
   ]
  },
  {
   "cell_type": "code",
   "execution_count": null,
   "id": "fa3c476c-e19d-4f22-b694-b48e66c078e2",
   "metadata": {},
   "outputs": [],
   "source": [
    "page_list=driver.find_elements(By.CSS_SELECTOR,'#listContents > div.psWrap > div.pageSkip > ul > li')\n",
    "comp_list=driver.find_elements(By.XPATH,'//*[@id=\"corpTabel\"]/tbody/tr')"
   ]
  },
  {
   "cell_type": "code",
   "execution_count": null,
   "id": "4780761a-444c-4ec2-98de-1757dc67b072",
   "metadata": {},
   "outputs": [],
   "source": [
    "for j in range(len(comp_list)):\n",
    "    driver.find_element(By.XPATH,f'//*[@id=\"corpTabel\"]/tbody/tr[{j+1}]/td[1]/span/a').click()\n",
    "    time.sleep(1)\n",
    "    html=driver.page_source\n",
    "    soup=BeautifulSoup(html,'html.parser')\n",
    "    time.sleep(1)\n",
    "    inform_table=soup.select('#corpDetailTabel > tbody')[0]\n",
    "    table_list.append(inform_table)\n",
    "    time.sleep(1)\n",
    "    comp_name=[]\n",
    "    owner_name=[]\n",
    "    address=[]\n",
    "    home_page=[]\n",
    "    phone_num=[]\n",
    "    fax_num=[]\n",
    "    comp_type=[]\n",
    "    start_date=[]\n",
    "    data_list=[]\n",
    "for j in table_list:\n",
    "    comp_name.append(j.select('tr>td')[2].text.strip())\n",
    "    owner_name.append(j.select('tr>td')[4].text.split('\\n')[0].lstrip())\n",
    "    address.append(j.select('tr>td')[8].text.strip())\n",
    "    home_page.append(j.select('tr>td')[9].text.strip())\n",
    "    phone_num.append(j.select('tr>td')[11].text)\n",
    "    fax_num.append(j.select('tr>td')[12].text)\n",
    "    comp_type.append(j.select('tr>td')[13].text)\n",
    "    start_date.append(pd.to_datetime(j.select('tr>td')[14].text,format='%Y-%m-%d'))\n",
    "driver.close()"
   ]
  },
  {
   "cell_type": "code",
   "execution_count": null,
   "id": "d3cfa644-8478-421d-8c83-e70fb32d297a",
   "metadata": {},
   "outputs": [],
   "source": [
    "# 데이터프레임 생성\n",
    "\n",
    "df_raw=pd.DataFrame({\n",
    "    '회사명':comp_name,\n",
    "    '대표자명':owner_name,\n",
    "    '주소':address,\n",
    "    '홈페이지':home_page,\n",
    "    '전화번호':phone_num,\n",
    "    '팩스번호':fax_num,\n",
    "    '업종':comp_type,\n",
    "    '설립일':start_date\n",
    "    })\n",
    "\n",
    "pork_done_df=df_raw\n",
    "pork_done_df\n"
   ]
  },
  {
   "cell_type": "code",
   "execution_count": null,
   "id": "d7a1e7e4-5616-4176-bbb1-b2281614d7cf",
   "metadata": {},
   "outputs": [],
   "source": [
    "# 육류 가공식품 데이터 저장\n",
    "pork_done_df.to_csv('../data/육류 가공식품 도매기업.csv')"
   ]
  },
  {
   "cell_type": "markdown",
   "id": "71b08521-8e4b-42c0-a822-ab5c5f656700",
   "metadata": {},
   "source": [
    "#### 2. 수산물 가공식품 크롤링"
   ]
  },
  {
   "cell_type": "code",
   "execution_count": null,
   "id": "c6e8933b-7191-436f-b618-f65ca4a673a4",
   "metadata": {},
   "outputs": [],
   "source": [
    "# 라이브러리 로드\n",
    "from selenium import webdriver #Selenium의 웹 드라이버를 사용하기 위한 모듈을 임포트\n",
    "from selenium.webdriver.common.by import By #Selenium에서 사용하는 By 클래스를 임포트합. 웹 요소를 검색하는데 사용.\n",
    "from selenium.webdriver.common.keys import Keys #키보드 입력 제어를 위해 Keys 클래스 임포트\n",
    "from selenium.webdriver.chrome.service import Service #Chrome 드라이버 서비스를 사용하기 위한 모듈 임포트\n",
    "from selenium.webdriver.chrome.options import Options #Chrome 드라이버 옵션을 설정하기 위한 클래스 임포트\n",
    "from webdriver_manager.chrome import ChromeDriverManager #Chrome 드라이버를 자동으로 설치 및 관리하는데 사용되는 드라이버 매니저 임포트\n",
    "from bs4 import BeautifulSoup #Beautiful soup 크롤링을위해\n",
    "import pandas as pd\n",
    "import requests #request 사용을 위해\n",
    "import re #정규표현을  \n",
    "import time #timesleep을 위해 사용\n",
    "import numpy as np\n",
    "import selenium\n",
    "import pandas as pd"
   ]
  },
  {
   "cell_type": "code",
   "execution_count": null,
   "id": "921f0273-6b5e-40b5-a5c3-19f999ac683a",
   "metadata": {},
   "outputs": [],
   "source": [
    "#브라우저 꺼짐 방지\n",
    "chrome_options = Options()\n",
    "chrome_options.add_experimental_option('detach', True)\n",
    "#불필요한 에러 메서지 없애기\n",
    "chrome_options.add_experimental_option('excludeSwitches',['enable-logging'])"
   ]
  },
  {
   "cell_type": "code",
   "execution_count": null,
   "id": "7271ce02-b94b-4921-98eb-045bd3bc4ac3",
   "metadata": {},
   "outputs": [],
   "source": [
    "service = Service(executable_path = ChromeDriverManager().install())\n",
    "driver = webdriver.Chrome(service=service, options=chrome_options)"
   ]
  },
  {
   "cell_type": "code",
   "execution_count": null,
   "id": "8f503125-0028-4e81-bd1a-47d2a95d74a7",
   "metadata": {},
   "outputs": [],
   "source": [
    "url = \"https://dart.fss.or.kr/dsae001/main.do\"\n",
    "driver.get(url)\n",
    "driver.maximize_window()\n",
    "driver.implicitly_wait(5)"
   ]
  },
  {
   "cell_type": "code",
   "execution_count": null,
   "id": "f35c943b-6015-47b8-8c51-6e4123047ab5",
   "metadata": {},
   "outputs": [],
   "source": [
    "# 업종별 탭\n",
    "upjong_btn=driver.find_element(By.CSS_SELECTOR,'#businessTab > a')\n",
    "upjong_btn.click()\n",
    "\n",
    "# 최상위 분류 \n",
    "type_btn_1=driver.find_element(By.CSS_SELECTOR,'#root4646 > i')\n",
    "\n",
    "type_btn_1.click()\n",
    "time.sleep(1)\n",
    "\n",
    "# 두 번째 상위 분류 \n",
    "type_btn_2=driver.find_element(By.XPATH,'//*[@id=\"46\"]/i')\n",
    "type_btn_2.click()\n",
    "time.sleep(1)\n",
    "\n",
    "# 세 번째 상위 분류 \n",
    "type_btn_3=driver.find_element(By.XPATH,'//*[@id=\"463\"]/i')\n",
    "type_btn_3.click()\n",
    "time.sleep(1)\n",
    "\n",
    "# 네 번재 상위 분류 \n",
    "type_btn_4=driver.find_element(By.XPATH,'//*[@id=\"4632\"]/i')\n",
    "type_btn_4.click()\n",
    "time.sleep(1)\n",
    "\n",
    "# 마지막 분류\n",
    "type_btn_end=driver.find_element(By.XPATH,'//*[@id=\"46329_anchor\"]')\n",
    "type_btn_end.click()\n",
    "time.sleep(1)\n",
    "time.sleep(3)"
   ]
  },
  {
   "cell_type": "code",
   "execution_count": null,
   "id": "81e572f5-3f29-4682-983f-91f41e0a708f",
   "metadata": {},
   "outputs": [],
   "source": [
    "# 빈 리스트 생성\n",
    "table_list=[]\n",
    "com_name = []"
   ]
  },
  {
   "cell_type": "code",
   "execution_count": null,
   "id": "d076fc89-0d6e-49d0-9ec4-42f9fec13e71",
   "metadata": {},
   "outputs": [],
   "source": [
    "page_list=driver.find_elements(By.CSS_SELECTOR,'#listContents > div.psWrap > div.pageSkip > ul > li')\n",
    "comp_list=driver.find_elements(By.XPATH,'//*[@id=\"corpTabel\"]/tbody/tr')"
   ]
  },
  {
   "cell_type": "code",
   "execution_count": null,
   "id": "90baa9d0-f2e7-43a6-a49b-8010e7ed8b03",
   "metadata": {},
   "outputs": [],
   "source": [
    "for j in range(len(comp_list)):\n",
    "    driver.find_element(By.XPATH,f'//*[@id=\"corpTabel\"]/tbody/tr[{j+1}]/td[1]/span/a').click()\n",
    "    time.sleep(1)\n",
    "    html=driver.page_source\n",
    "    soup=BeautifulSoup(html,'html.parser')\n",
    "    time.sleep(1)\n",
    "    inform_table=soup.select('#corpDetailTabel > tbody')[0]\n",
    "    table_list.append(inform_table)\n",
    "    time.sleep(1)\n",
    "    comp_name=[]\n",
    "    owner_name=[]\n",
    "    address=[]\n",
    "    home_page=[]\n",
    "    phone_num=[]\n",
    "    fax_num=[]\n",
    "    comp_type=[]\n",
    "    start_date=[]\n",
    "    data_list=[]\n",
    "for j in table_list:\n",
    "    comp_name.append(j.select('tr>td')[2].text.strip())\n",
    "    owner_name.append(j.select('tr>td')[4].text.split('\\n')[0].lstrip())\n",
    "    address.append(j.select('tr>td')[8].text.strip())\n",
    "    home_page.append(j.select('tr>td')[9].text.strip())\n",
    "    phone_num.append(j.select('tr>td')[11].text)\n",
    "    fax_num.append(j.select('tr>td')[12].text)\n",
    "    comp_type.append(j.select('tr>td')[13].text)\n",
    "    start_date.append(pd.to_datetime(j.select('tr>td')[14].text,format='%Y-%m-%d'))\n",
    "driver.close()"
   ]
  },
  {
   "cell_type": "code",
   "execution_count": null,
   "id": "5f73b753-f5aa-4d68-98f5-b7f76c32f7b8",
   "metadata": {},
   "outputs": [],
   "source": [
    "# 데이터프레임 생성\n",
    "\n",
    "df_raw=pd.DataFrame({\n",
    "    '회사명':comp_name,\n",
    "    '대표자명':owner_name,\n",
    "    '주소':address,\n",
    "    '홈페이지':home_page,\n",
    "    '전화번호':phone_num,\n",
    "    '팩스번호':fax_num,\n",
    "    '업종':comp_type,\n",
    "    '설립일':start_date\n",
    "    })\n",
    "\n",
    "sf_df = df_raw\n",
    "sf_df"
   ]
  },
  {
   "cell_type": "code",
   "execution_count": null,
   "id": "a1c53714-22ee-49a9-a4fb-14fa17038888",
   "metadata": {},
   "outputs": [],
   "source": [
    "# 육류 가공식품 데이터 저장\n",
    "sf_df.to_csv('../data/수산물 가공식품 도매기업.csv')"
   ]
  },
  {
   "cell_type": "markdown",
   "id": "bd58ec57-8bac-4e13-852a-f2b022d73276",
   "metadata": {},
   "source": [
    "#### 3. 빵류, 과자류, 당류, 초콜릿 도매업 크롤링"
   ]
  },
  {
   "cell_type": "code",
   "execution_count": null,
   "id": "35ae9d2d-3fdf-45b4-9780-6507084404c8",
   "metadata": {},
   "outputs": [],
   "source": [
    "# 라이브러리 로드\n",
    "from selenium import webdriver #Selenium의 웹 드라이버를 사용하기 위한 모듈을 임포트\n",
    "from selenium.webdriver.common.by import By #Selenium에서 사용하는 By 클래스를 임포트합. 웹 요소를 검색하는데 사용.\n",
    "from selenium.webdriver.common.keys import Keys #키보드 입력 제어를 위해 Keys 클래스 임포트\n",
    "from selenium.webdriver.chrome.service import Service #Chrome 드라이버 서비스를 사용하기 위한 모듈 임포트\n",
    "from selenium.webdriver.chrome.options import Options #Chrome 드라이버 옵션을 설정하기 위한 클래스 임포트\n",
    "from webdriver_manager.chrome import ChromeDriverManager #Chrome 드라이버를 자동으로 설치 및 관리하는데 사용되는 드라이버 매니저 임포트\n",
    "from bs4 import BeautifulSoup #Beautiful soup 크롤링을위해\n",
    "import pandas as pd\n",
    "import requests #request 사용을 위해\n",
    "import re #정규표현을  \n",
    "import time #timesleep을 위해 사용\n",
    "import numpy as np\n",
    "import selenium\n",
    "import pandas as pd"
   ]
  },
  {
   "cell_type": "code",
   "execution_count": null,
   "id": "cc08d99f-fad6-4241-b32d-6d0f837d7838",
   "metadata": {},
   "outputs": [],
   "source": [
    "#브라우저 꺼짐 방지\n",
    "chrome_options = Options()\n",
    "chrome_options.add_experimental_option('detach', True)\n",
    "#불필요한 에러 메서지 없애기\n",
    "chrome_options.add_experimental_option('excludeSwitches',['enable-logging'])"
   ]
  },
  {
   "cell_type": "code",
   "execution_count": null,
   "id": "53649d21-b317-4bb9-b78b-45d04c33b2c4",
   "metadata": {},
   "outputs": [],
   "source": [
    "service = Service(executable_path = ChromeDriverManager().install())\n",
    "driver = webdriver.Chrome(service=service, options=chrome_options)"
   ]
  },
  {
   "cell_type": "code",
   "execution_count": null,
   "id": "67fd6ef1-4635-4c0d-b752-a38a2e184f00",
   "metadata": {},
   "outputs": [],
   "source": [
    "url = \"https://dart.fss.or.kr/dsae001/main.do\"\n",
    "driver.get(url)\n",
    "driver.maximize_window()\n",
    "driver.implicitly_wait(5)"
   ]
  },
  {
   "cell_type": "code",
   "execution_count": null,
   "id": "4393ec44-3573-4443-8c63-482b23e05f34",
   "metadata": {},
   "outputs": [],
   "source": [
    "# 업종별 탭\n",
    "upjong_btn=driver.find_element(By.CSS_SELECTOR,'#businessTab > a')\n",
    "upjong_btn.click()\n",
    "\n",
    "# 최상위 분류 \n",
    "type_btn_1=driver.find_element(By.CSS_SELECTOR,'#root4646 > i')\n",
    "\n",
    "type_btn_1.click()\n",
    "time.sleep(1)\n",
    "\n",
    "# 두 번째 상위 분류 \n",
    "type_btn_2=driver.find_element(By.XPATH,'//*[@id=\"46\"]/i')\n",
    "type_btn_2.click()\n",
    "time.sleep(1)\n",
    "\n",
    "# 세 번째 상위 분류 \n",
    "type_btn_3=driver.find_element(By.XPATH,'//*[@id=\"463\"]/i')\n",
    "type_btn_3.click()\n",
    "time.sleep(1)\n",
    "\n",
    "# 네 번재 상위 분류 \n",
    "type_btn_4=driver.find_element(By.XPATH,'//*[@id=\"4632\"]/i')\n",
    "type_btn_4.click()\n",
    "time.sleep(1)\n",
    "\n",
    "# 마지막 분류\n",
    "type_btn_end=driver.find_element(By.XPATH,'//*[@id=\"46323_anchor\"]')\n",
    "type_btn_end.click()\n",
    "time.sleep(1)\n",
    "time.sleep(3)"
   ]
  },
  {
   "cell_type": "code",
   "execution_count": null,
   "id": "4e32ebb0-a278-4aaf-93c3-adb0d2b72ea3",
   "metadata": {},
   "outputs": [],
   "source": [
    "# 빈 리스트 생성\n",
    "table_list=[]\n",
    "com_name = []"
   ]
  },
  {
   "cell_type": "code",
   "execution_count": null,
   "id": "a229ae29-ed7b-4e12-9578-a2f652cff7a8",
   "metadata": {},
   "outputs": [],
   "source": [
    "page_list=driver.find_elements(By.CSS_SELECTOR,'#listContents > div.psWrap > div.pageSkip > ul > li')\n",
    "comp_list=driver.find_elements(By.XPATH,'//*[@id=\"corpTabel\"]/tbody/tr')"
   ]
  },
  {
   "cell_type": "code",
   "execution_count": null,
   "id": "e8d5f8f3-b62e-48b1-8757-6817c17e8ade",
   "metadata": {},
   "outputs": [],
   "source": [
    "for j in range(len(comp_list)):\n",
    "    driver.find_element(By.XPATH,f'//*[@id=\"corpTabel\"]/tbody/tr[{j+1}]/td[1]/span/a').click()\n",
    "    time.sleep(1)\n",
    "    html=driver.page_source\n",
    "    soup=BeautifulSoup(html,'html.parser')\n",
    "    time.sleep(1)\n",
    "    inform_table=soup.select('#corpDetailTabel > tbody')[0]\n",
    "    table_list.append(inform_table)\n",
    "    time.sleep(1)\n",
    "    comp_name=[]\n",
    "    owner_name=[]\n",
    "    address=[]\n",
    "    home_page=[]\n",
    "    phone_num=[]\n",
    "    fax_num=[]\n",
    "    comp_type=[]\n",
    "    start_date=[]\n",
    "    data_list=[]\n",
    "for j in table_list:\n",
    "    comp_name.append(j.select('tr>td')[2].text.strip())\n",
    "    owner_name.append(j.select('tr>td')[4].text.split('\\n')[0].lstrip())\n",
    "    address.append(j.select('tr>td')[8].text.strip())\n",
    "    home_page.append(j.select('tr>td')[9].text.strip())\n",
    "    phone_num.append(j.select('tr>td')[11].text)\n",
    "    fax_num.append(j.select('tr>td')[12].text)\n",
    "    comp_type.append(j.select('tr>td')[13].text)\n",
    "    start_date.append(pd.to_datetime(j.select('tr>td')[14].text,format='%Y-%m-%d'))\n",
    "driver.close()"
   ]
  },
  {
   "cell_type": "code",
   "execution_count": null,
   "id": "001b96f1-caf2-4cd0-abdc-c8f20859aadd",
   "metadata": {},
   "outputs": [],
   "source": [
    "# 데이터프레임 생성\n",
    "\n",
    "df_raw=pd.DataFrame({\n",
    "    '회사명':comp_name,\n",
    "    '대표자명':owner_name,\n",
    "    '주소':address,\n",
    "    '홈페이지':home_page,\n",
    "    '전화번호':phone_num,\n",
    "    '팩스번호':fax_num,\n",
    "    '업종':comp_type,\n",
    "    '설립일':start_date\n",
    "    })\n",
    "\n",
    "bread_df = df_raw\n",
    "bread_df"
   ]
  },
  {
   "cell_type": "code",
   "execution_count": null,
   "id": "937731dd-e7ed-4aa3-9368-be5dd80ff141",
   "metadata": {},
   "outputs": [],
   "source": [
    "# 빵류, 과자류 가공식품 데이터 저장\n",
    "bread_df.to_csv('../data/빵류, 과자류 도매기업.csv')"
   ]
  },
  {
   "cell_type": "markdown",
   "id": "1e9ab524-8c23-4f5c-bcf7-8cd2ff3d4b98",
   "metadata": {},
   "source": [
    "#### 4. 낙농품 및 동식물성 유지 도매업 크롤링"
   ]
  },
  {
   "cell_type": "code",
   "execution_count": null,
   "id": "99a4fdff-460d-4ad9-b16e-20b22b0fe37b",
   "metadata": {},
   "outputs": [],
   "source": [
    "# 라이브러리 로드\n",
    "from selenium import webdriver #Selenium의 웹 드라이버를 사용하기 위한 모듈을 임포트\n",
    "from selenium.webdriver.common.by import By #Selenium에서 사용하는 By 클래스를 임포트합. 웹 요소를 검색하는데 사용.\n",
    "from selenium.webdriver.common.keys import Keys #키보드 입력 제어를 위해 Keys 클래스 임포트\n",
    "from selenium.webdriver.chrome.service import Service #Chrome 드라이버 서비스를 사용하기 위한 모듈 임포트\n",
    "from selenium.webdriver.chrome.options import Options #Chrome 드라이버 옵션을 설정하기 위한 클래스 임포트\n",
    "from webdriver_manager.chrome import ChromeDriverManager #Chrome 드라이버를 자동으로 설치 및 관리하는데 사용되는 드라이버 매니저 임포트\n",
    "from bs4 import BeautifulSoup #Beautiful soup 크롤링을위해\n",
    "import pandas as pd\n",
    "import requests #request 사용을 위해\n",
    "import re #정규표현을  \n",
    "import time #timesleep을 위해 사용\n",
    "import numpy as np\n",
    "import selenium\n",
    "import pandas as pd"
   ]
  },
  {
   "cell_type": "code",
   "execution_count": null,
   "id": "c1751940-9216-4823-a2ad-950f9f28fd73",
   "metadata": {},
   "outputs": [],
   "source": [
    "#브라우저 꺼짐 방지\n",
    "chrome_options = Options()\n",
    "chrome_options.add_experimental_option('detach', True)\n",
    "#불필요한 에러 메서지 없애기\n",
    "chrome_options.add_experimental_option('excludeSwitches',['enable-logging'])"
   ]
  },
  {
   "cell_type": "code",
   "execution_count": null,
   "id": "a6cb940f-e59e-40a6-bd7c-c2b00c82b907",
   "metadata": {},
   "outputs": [],
   "source": [
    "service = Service(executable_path = ChromeDriverManager().install())\n",
    "driver = webdriver.Chrome(service=service, options=chrome_options)"
   ]
  },
  {
   "cell_type": "code",
   "execution_count": null,
   "id": "1b87fe1f-5d5f-4417-8de9-e448ec11cce1",
   "metadata": {},
   "outputs": [],
   "source": [
    "url = \"https://dart.fss.or.kr/dsae001/main.do\"\n",
    "driver.get(url)\n",
    "driver.maximize_window()\n",
    "driver.implicitly_wait(5)"
   ]
  },
  {
   "cell_type": "code",
   "execution_count": null,
   "id": "5d0336b8-5f21-43c5-8e31-a0212eb2edc3",
   "metadata": {},
   "outputs": [],
   "source": [
    "# 업종별 탭\n",
    "upjong_btn=driver.find_element(By.CSS_SELECTOR,'#businessTab > a')\n",
    "upjong_btn.click()\n",
    "\n",
    "# 최상위 분류 \n",
    "type_btn_1=driver.find_element(By.CSS_SELECTOR,'#root4646 > i')\n",
    "type_btn_1.click()\n",
    "time.sleep(1)\n",
    "\n",
    "# 두 번째 상위 분류 \n",
    "type_btn_2=driver.find_element(By.XPATH,'//*[@id=\"46\"]/i')\n",
    "type_btn_2.click()\n",
    "time.sleep(1)\n",
    "\n",
    "# 세 번째 상위 분류 \n",
    "type_btn_3=driver.find_element(By.XPATH,'//*[@id=\"463\"]/i')\n",
    "type_btn_3.click()\n",
    "time.sleep(1)\n",
    "\n",
    "# 네 번재 상위 분류 \n",
    "type_btn_4=driver.find_element(By.XPATH,'//*[@id=\"4632\"]/i')\n",
    "type_btn_4.click()\n",
    "time.sleep(1)\n",
    "\n",
    "# 마지막 분류\n",
    "type_btn_end=driver.find_element(By.XPATH,'//*[@id=\"46324_anchor\"]')\n",
    "type_btn_end.click()\n",
    "time.sleep(1)\n",
    "time.sleep(3)"
   ]
  },
  {
   "cell_type": "code",
   "execution_count": null,
   "id": "7755494e-588c-4798-b741-0d8762431b1d",
   "metadata": {},
   "outputs": [],
   "source": [
    "# 빈 리스트 생성\n",
    "table_list=[]\n",
    "com_name = []"
   ]
  },
  {
   "cell_type": "code",
   "execution_count": null,
   "id": "4c0537fe-26cb-429a-bcfd-8d7aaee28c62",
   "metadata": {},
   "outputs": [],
   "source": [
    "page_list=driver.find_elements(By.CSS_SELECTOR,'#listContents > div.psWrap > div.pageSkip > ul > li')\n",
    "comp_list=driver.find_elements(By.XPATH,'//*[@id=\"corpTabel\"]/tbody/tr')"
   ]
  },
  {
   "cell_type": "code",
   "execution_count": null,
   "id": "08f79ad5-ff90-4987-ac50-b58f14bace15",
   "metadata": {},
   "outputs": [],
   "source": [
    "for j in range(len(comp_list)):\n",
    "    driver.find_element(By.XPATH,f'//*[@id=\"corpTabel\"]/tbody/tr[{j+1}]/td[1]/span/a').click()\n",
    "    time.sleep(1)\n",
    "    html=driver.page_source\n",
    "    soup=BeautifulSoup(html,'html.parser')\n",
    "    time.sleep(1)\n",
    "    inform_table=soup.select('#corpDetailTabel > tbody')[0]\n",
    "    table_list.append(inform_table)\n",
    "    time.sleep(1)\n",
    "    comp_name=[]\n",
    "    owner_name=[]\n",
    "    address=[]\n",
    "    home_page=[]\n",
    "    phone_num=[]\n",
    "    fax_num=[]\n",
    "    comp_type=[]\n",
    "    start_date=[]\n",
    "    data_list=[]\n",
    "for j in table_list:\n",
    "    comp_name.append(j.select('tr>td')[2].text.strip())\n",
    "    owner_name.append(j.select('tr>td')[4].text.split('\\n')[0].lstrip())\n",
    "    address.append(j.select('tr>td')[8].text.strip())\n",
    "    home_page.append(j.select('tr>td')[9].text.strip())\n",
    "    phone_num.append(j.select('tr>td')[11].text)\n",
    "    fax_num.append(j.select('tr>td')[12].text)\n",
    "    comp_type.append(j.select('tr>td')[13].text)\n",
    "    start_date.append(pd.to_datetime(j.select('tr>td')[14].text,format='%Y-%m-%d'))\n",
    "driver.close()"
   ]
  },
  {
   "cell_type": "code",
   "execution_count": null,
   "id": "5f06ab37-92ec-474f-a084-d65f1fd67407",
   "metadata": {},
   "outputs": [],
   "source": [
    "# 데이터프레임 생성\n",
    "\n",
    "df_raw=pd.DataFrame({\n",
    "    '회사명':comp_name,\n",
    "    '대표자명':owner_name,\n",
    "    '주소':address,\n",
    "    '홈페이지':home_page,\n",
    "    '전화번호':phone_num,\n",
    "    '팩스번호':fax_num,\n",
    "    '업종':comp_type,\n",
    "    '설립일':start_date\n",
    "    })\n",
    "\n",
    "milk_df = df_raw\n",
    "milk_df"
   ]
  },
  {
   "cell_type": "code",
   "execution_count": null,
   "id": "42d92925-d026-4a4c-990c-02fd74b24409",
   "metadata": {},
   "outputs": [],
   "source": [
    "# 낙농품 및 동식물성 유지 도매업 데이터 저장\n",
    "milk_df.to_csv('../data/낙농품 및 동식물성 유지 도매기업.csv')"
   ]
  },
  {
   "cell_type": "markdown",
   "id": "08131be5-9e6a-457d-adda-09890ec2b9fc",
   "metadata": {},
   "source": [
    "#### 5. 커피 및 차류 도매업 크롤링"
   ]
  },
  {
   "cell_type": "code",
   "execution_count": null,
   "id": "2f5d06c6-f1c5-4dbd-939e-fb239d2b4396",
   "metadata": {},
   "outputs": [],
   "source": [
    "# 라이브러리 로드\n",
    "from selenium import webdriver #Selenium의 웹 드라이버를 사용하기 위한 모듈을 임포트\n",
    "from selenium.webdriver.common.by import By #Selenium에서 사용하는 By 클래스를 임포트합. 웹 요소를 검색하는데 사용.\n",
    "from selenium.webdriver.common.keys import Keys #키보드 입력 제어를 위해 Keys 클래스 임포트\n",
    "from selenium.webdriver.chrome.service import Service #Chrome 드라이버 서비스를 사용하기 위한 모듈 임포트\n",
    "from selenium.webdriver.chrome.options import Options #Chrome 드라이버 옵션을 설정하기 위한 클래스 임포트\n",
    "from webdriver_manager.chrome import ChromeDriverManager #Chrome 드라이버를 자동으로 설치 및 관리하는데 사용되는 드라이버 매니저 임포트\n",
    "from bs4 import BeautifulSoup #Beautiful soup 크롤링을위해\n",
    "import pandas as pd\n",
    "import requests #request 사용을 위해\n",
    "import re #정규표현을  \n",
    "import time #timesleep을 위해 사용\n",
    "import numpy as np\n",
    "import selenium\n",
    "import pandas as pd"
   ]
  },
  {
   "cell_type": "code",
   "execution_count": null,
   "id": "d4e30af4-f827-49a6-854f-e2e2040f060a",
   "metadata": {},
   "outputs": [],
   "source": [
    "#브라우저 꺼짐 방지\n",
    "chrome_options = Options()\n",
    "chrome_options.add_experimental_option('detach', True)\n",
    "#불필요한 에러 메서지 없애기\n",
    "chrome_options.add_experimental_option('excludeSwitches',['enable-logging'])"
   ]
  },
  {
   "cell_type": "code",
   "execution_count": null,
   "id": "092a05e2-19e1-4ef2-9477-17dd081b9866",
   "metadata": {},
   "outputs": [],
   "source": [
    "service = Service(executable_path = ChromeDriverManager().install())\n",
    "driver = webdriver.Chrome(service=service, options=chrome_options)"
   ]
  },
  {
   "cell_type": "code",
   "execution_count": null,
   "id": "7e6a464e-2a9e-45bd-9105-ff1957d702c2",
   "metadata": {},
   "outputs": [],
   "source": [
    "url = \"https://dart.fss.or.kr/dsae001/main.do\"\n",
    "driver.get(url)\n",
    "driver.maximize_window()\n",
    "driver.implicitly_wait(5)"
   ]
  },
  {
   "cell_type": "code",
   "execution_count": null,
   "id": "5dfcfd99-f3ff-4400-bbc2-d2aac452598a",
   "metadata": {},
   "outputs": [],
   "source": [
    "# 업종별 탭\n",
    "upjong_btn=driver.find_element(By.CSS_SELECTOR,'#businessTab > a')\n",
    "upjong_btn.click()\n",
    "\n",
    "# 최상위 분류 \n",
    "type_btn_1=driver.find_element(By.CSS_SELECTOR,'#root4646 > i')\n",
    "type_btn_1.click()\n",
    "time.sleep(1)\n",
    "\n",
    "# 두 번째 상위 분류 \n",
    "type_btn_2=driver.find_element(By.XPATH,'//*[@id=\"46\"]/i')\n",
    "type_btn_2.click()\n",
    "time.sleep(1)\n",
    "\n",
    "# 세 번째 상위 분류 \n",
    "type_btn_3=driver.find_element(By.XPATH,'//*[@id=\"463\"]/i')\n",
    "type_btn_3.click()\n",
    "time.sleep(1)\n",
    "\n",
    "# 네 번재 상위 분류 \n",
    "type_btn_4=driver.find_element(By.XPATH,'//*[@id=\"4632\"]/i')\n",
    "type_btn_4.click()\n",
    "time.sleep(1)\n",
    "\n",
    "# 마지막 분류\n",
    "type_btn_end=driver.find_element(By.XPATH,'//*[@id=\"46325_anchor\"]')\n",
    "type_btn_end.click()\n",
    "time.sleep(1)\n",
    "time.sleep(3)"
   ]
  },
  {
   "cell_type": "code",
   "execution_count": null,
   "id": "c0baad44-9110-4a65-b25c-521c9464cebd",
   "metadata": {},
   "outputs": [],
   "source": [
    "# 빈 리스트 생성\n",
    "table_list=[]\n",
    "com_name = []"
   ]
  },
  {
   "cell_type": "code",
   "execution_count": null,
   "id": "027e440a-e805-403d-a582-1730818d6359",
   "metadata": {},
   "outputs": [],
   "source": [
    "page_list=driver.find_elements(By.CSS_SELECTOR,'#listContents > div.psWrap > div.pageSkip > ul > li')\n",
    "comp_list=driver.find_elements(By.XPATH,'//*[@id=\"corpTabel\"]/tbody/tr')"
   ]
  },
  {
   "cell_type": "code",
   "execution_count": null,
   "id": "ec9bff1c-64e2-4574-8e1e-f61866d609c9",
   "metadata": {},
   "outputs": [],
   "source": [
    "for j in range(len(comp_list)):\n",
    "    driver.find_element(By.XPATH,f'//*[@id=\"corpTabel\"]/tbody/tr[{j+1}]/td[1]/span/a').click()\n",
    "    time.sleep(1)\n",
    "    html=driver.page_source\n",
    "    soup=BeautifulSoup(html,'html.parser')\n",
    "    time.sleep(1)\n",
    "    inform_table=soup.select('#corpDetailTabel > tbody')[0]\n",
    "    table_list.append(inform_table)\n",
    "    time.sleep(1)\n",
    "    comp_name=[]\n",
    "    owner_name=[]\n",
    "    address=[]\n",
    "    home_page=[]\n",
    "    phone_num=[]\n",
    "    fax_num=[]\n",
    "    comp_type=[]\n",
    "    start_date=[]\n",
    "    data_list=[]\n",
    "for j in table_list:\n",
    "    comp_name.append(j.select('tr>td')[2].text.strip())\n",
    "    owner_name.append(j.select('tr>td')[4].text.split('\\n')[0].lstrip())\n",
    "    address.append(j.select('tr>td')[8].text.strip())\n",
    "    home_page.append(j.select('tr>td')[9].text.strip())\n",
    "    phone_num.append(j.select('tr>td')[11].text)\n",
    "    fax_num.append(j.select('tr>td')[12].text)\n",
    "    comp_type.append(j.select('tr>td')[13].text)\n",
    "    start_date.append(pd.to_datetime(j.select('tr>td')[14].text,format='%Y-%m-%d'))\n",
    "driver.close()"
   ]
  },
  {
   "cell_type": "code",
   "execution_count": null,
   "id": "ef10bc4a-31b0-4357-af73-eb10d92c5132",
   "metadata": {},
   "outputs": [],
   "source": [
    "# 데이터프레임 생성\n",
    "\n",
    "df_raw=pd.DataFrame({\n",
    "    '회사명':comp_name,\n",
    "    '대표자명':owner_name,\n",
    "    '주소':address,\n",
    "    '홈페이지':home_page,\n",
    "    '전화번호':phone_num,\n",
    "    '팩스번호':fax_num,\n",
    "    '업종':comp_type,\n",
    "    '설립일':start_date\n",
    "    })\n",
    "\n",
    "coffee_df = df_raw\n",
    "coffee_df"
   ]
  },
  {
   "cell_type": "code",
   "execution_count": null,
   "id": "ec5d4da6-f9e7-4d09-9547-cc17741bf0cf",
   "metadata": {},
   "outputs": [],
   "source": [
    "# 낙농품 및 동식물성 유지 도매업 데이터 저장\n",
    "coffee_df.to_csv('../data/낙농품 및 동식물성 유지 도매기업.csv')"
   ]
  },
  {
   "cell_type": "markdown",
   "id": "56ce02dd-da73-4f98-a0d5-086fbe324516",
   "metadata": {},
   "source": [
    "#### 6. 조미료 도매업 크롤링"
   ]
  },
  {
   "cell_type": "code",
   "execution_count": null,
   "id": "aa20ce41-6109-4b60-b7a4-6aa0d0e08c8c",
   "metadata": {},
   "outputs": [],
   "source": [
    "# 라이브러리 로드\n",
    "from selenium import webdriver #Selenium의 웹 드라이버를 사용하기 위한 모듈을 임포트\n",
    "from selenium.webdriver.common.by import By #Selenium에서 사용하는 By 클래스를 임포트합. 웹 요소를 검색하는데 사용.\n",
    "from selenium.webdriver.common.keys import Keys #키보드 입력 제어를 위해 Keys 클래스 임포트\n",
    "from selenium.webdriver.chrome.service import Service #Chrome 드라이버 서비스를 사용하기 위한 모듈 임포트\n",
    "from selenium.webdriver.chrome.options import Options #Chrome 드라이버 옵션을 설정하기 위한 클래스 임포트\n",
    "from webdriver_manager.chrome import ChromeDriverManager #Chrome 드라이버를 자동으로 설치 및 관리하는데 사용되는 드라이버 매니저 임포트\n",
    "from bs4 import BeautifulSoup #Beautiful soup 크롤링을위해\n",
    "import pandas as pd\n",
    "import requests #request 사용을 위해\n",
    "import re #정규표현을  \n",
    "import time #timesleep을 위해 사용\n",
    "import numpy as np\n",
    "import selenium\n",
    "import pandas as pd"
   ]
  },
  {
   "cell_type": "code",
   "execution_count": null,
   "id": "5daaa962-c5f4-405b-be2b-5187b759883e",
   "metadata": {},
   "outputs": [],
   "source": [
    "#브라우저 꺼짐 방지\n",
    "chrome_options = Options()\n",
    "chrome_options.add_experimental_option('detach', True)\n",
    "#불필요한 에러 메서지 없애기\n",
    "chrome_options.add_experimental_option('excludeSwitches',['enable-logging'])"
   ]
  },
  {
   "cell_type": "code",
   "execution_count": null,
   "id": "82e2a8e0-a7c7-4805-a8d6-4a73887e0e89",
   "metadata": {},
   "outputs": [],
   "source": [
    "service = Service(executable_path = ChromeDriverManager().install())\n",
    "driver = webdriver.Chrome(service=service, options=chrome_options)"
   ]
  },
  {
   "cell_type": "code",
   "execution_count": null,
   "id": "e7aff1e1-95d9-4bdc-9729-13d7fd51c80d",
   "metadata": {},
   "outputs": [],
   "source": [
    "url = \"https://dart.fss.or.kr/dsae001/main.do\"\n",
    "driver.get(url)\n",
    "driver.maximize_window()\n",
    "driver.implicitly_wait(5)"
   ]
  },
  {
   "cell_type": "code",
   "execution_count": null,
   "id": "94e756db-621e-4724-953b-cc12477f6622",
   "metadata": {},
   "outputs": [],
   "source": [
    "# 업종별 탭\n",
    "upjong_btn=driver.find_element(By.CSS_SELECTOR,'#businessTab > a')\n",
    "upjong_btn.click()\n",
    "\n",
    "# 최상위 분류 \n",
    "type_btn_1=driver.find_element(By.CSS_SELECTOR,'#root4646 > i')\n",
    "type_btn_1.click()\n",
    "time.sleep(1)\n",
    "\n",
    "# 두 번째 상위 분류 \n",
    "type_btn_2=driver.find_element(By.XPATH,'//*[@id=\"46\"]/i')\n",
    "type_btn_2.click()\n",
    "time.sleep(1)\n",
    "\n",
    "# 세 번째 상위 분류 \n",
    "type_btn_3=driver.find_element(By.XPATH,'//*[@id=\"463\"]/i')\n",
    "type_btn_3.click()\n",
    "time.sleep(1)\n",
    "\n",
    "# 네 번재 상위 분류 \n",
    "type_btn_4=driver.find_element(By.XPATH,'//*[@id=\"4632\"]/i')\n",
    "type_btn_4.click()\n",
    "time.sleep(1)\n",
    "\n",
    "# 마지막 분류\n",
    "type_btn_end=driver.find_element(By.XPATH,'//*[@id=\"46326_anchor\"]')\n",
    "type_btn_end.click()\n",
    "time.sleep(1)\n",
    "time.sleep(3)"
   ]
  },
  {
   "cell_type": "code",
   "execution_count": null,
   "id": "994175e4-d79a-431a-bb64-365924c3738f",
   "metadata": {},
   "outputs": [],
   "source": [
    "# 빈 리스트 생성\n",
    "table_list=[]\n",
    "com_name = []"
   ]
  },
  {
   "cell_type": "code",
   "execution_count": null,
   "id": "43c5a00e-0cc1-421d-a9bf-00f2c1429296",
   "metadata": {},
   "outputs": [],
   "source": [
    "page_list=driver.find_elements(By.CSS_SELECTOR,'#listContents > div.psWrap > div.pageSkip > ul > li')\n",
    "comp_list=driver.find_elements(By.XPATH,'//*[@id=\"corpTabel\"]/tbody/tr')"
   ]
  },
  {
   "cell_type": "code",
   "execution_count": null,
   "id": "cba8182a-1fc2-4176-8bec-62fe51860929",
   "metadata": {},
   "outputs": [],
   "source": [
    "for j in range(len(comp_list)):\n",
    "    driver.find_element(By.XPATH,f'//*[@id=\"corpTabel\"]/tbody/tr[{j+1}]/td[1]/span/a').click()\n",
    "    time.sleep(1)\n",
    "    html=driver.page_source\n",
    "    soup=BeautifulSoup(html,'html.parser')\n",
    "    time.sleep(1)\n",
    "    inform_table=soup.select('#corpDetailTabel > tbody')[0]\n",
    "    table_list.append(inform_table)\n",
    "    time.sleep(1)\n",
    "    comp_name=[]\n",
    "    owner_name=[]\n",
    "    address=[]\n",
    "    home_page=[]\n",
    "    phone_num=[]\n",
    "    fax_num=[]\n",
    "    comp_type=[]\n",
    "    start_date=[]\n",
    "    data_list=[]\n",
    "for j in table_list:\n",
    "    comp_name.append(j.select('tr>td')[2].text.strip())\n",
    "    owner_name.append(j.select('tr>td')[4].text.split('\\n')[0].lstrip())\n",
    "    address.append(j.select('tr>td')[8].text.strip())\n",
    "    home_page.append(j.select('tr>td')[9].text.strip())\n",
    "    phone_num.append(j.select('tr>td')[11].text)\n",
    "    fax_num.append(j.select('tr>td')[12].text)\n",
    "    comp_type.append(j.select('tr>td')[13].text)\n",
    "    start_date.append(pd.to_datetime(j.select('tr>td')[14].text,format='%Y-%m-%d'))\n",
    "driver.close()"
   ]
  },
  {
   "cell_type": "code",
   "execution_count": null,
   "id": "659053c2-e43e-4ecc-b2ba-0566bc709b73",
   "metadata": {},
   "outputs": [],
   "source": [
    "# 데이터프레임 생성\n",
    "\n",
    "df_raw=pd.DataFrame({\n",
    "    '회사명':comp_name,\n",
    "    '대표자명':owner_name,\n",
    "    '주소':address,\n",
    "    '홈페이지':home_page,\n",
    "    '전화번호':phone_num,\n",
    "    '팩스번호':fax_num,\n",
    "    '업종':comp_type,\n",
    "    '설립일':start_date\n",
    "    })\n",
    "\n",
    "con_df = df_raw\n",
    "con_df"
   ]
  },
  {
   "cell_type": "code",
   "execution_count": null,
   "id": "887948b1-4985-47bb-b6ee-996b84518fc2",
   "metadata": {},
   "outputs": [],
   "source": [
    "# 조미료 도매업 데이터 저장\n",
    "con_df.to_csv('../data/조미료 도매기업.csv')"
   ]
  },
  {
   "cell_type": "markdown",
   "id": "73db6275-d918-460d-b4af-7cb36e4f7464",
   "metadata": {},
   "source": [
    "#### 7. 기타 가공식품 도매업 크롤링"
   ]
  },
  {
   "cell_type": "code",
   "execution_count": null,
   "id": "116fd726-76cd-46b1-86d5-afedf62cea71",
   "metadata": {},
   "outputs": [],
   "source": [
    "# 라이브러리 로드\n",
    "from selenium import webdriver #Selenium의 웹 드라이버를 사용하기 위한 모듈을 임포트\n",
    "from selenium.webdriver.common.by import By #Selenium에서 사용하는 By 클래스를 임포트합. 웹 요소를 검색하는데 사용.\n",
    "from selenium.webdriver.common.keys import Keys #키보드 입력 제어를 위해 Keys 클래스 임포트\n",
    "from selenium.webdriver.chrome.service import Service #Chrome 드라이버 서비스를 사용하기 위한 모듈 임포트\n",
    "from selenium.webdriver.chrome.options import Options #Chrome 드라이버 옵션을 설정하기 위한 클래스 임포트\n",
    "from webdriver_manager.chrome import ChromeDriverManager #Chrome 드라이버를 자동으로 설치 및 관리하는데 사용되는 드라이버 매니저 임포트\n",
    "from bs4 import BeautifulSoup #Beautiful soup 크롤링을위해\n",
    "import pandas as pd\n",
    "import requests #request 사용을 위해\n",
    "import re #정규표현을  \n",
    "import time #timesleep을 위해 사용\n",
    "import numpy as np\n",
    "import selenium\n",
    "import pandas as pd"
   ]
  },
  {
   "cell_type": "code",
   "execution_count": null,
   "id": "30c39a8e-cba6-4fa8-a56e-08ad776f2adb",
   "metadata": {},
   "outputs": [],
   "source": [
    "#브라우저 꺼짐 방지\n",
    "chrome_options = Options()\n",
    "chrome_options.add_experimental_option('detach', True)\n",
    "#불필요한 에러 메서지 없애기\n",
    "chrome_options.add_experimental_option('excludeSwitches',['enable-logging'])"
   ]
  },
  {
   "cell_type": "code",
   "execution_count": null,
   "id": "af20b8ec-dcd2-4698-9ee0-350f7fde6aba",
   "metadata": {},
   "outputs": [],
   "source": [
    "service = Service(executable_path = ChromeDriverManager().install())\n",
    "driver = webdriver.Chrome(service=service, options=chrome_options)"
   ]
  },
  {
   "cell_type": "code",
   "execution_count": null,
   "id": "399f1b98-0053-484b-9329-e2cd4a7422c8",
   "metadata": {},
   "outputs": [],
   "source": [
    "url = \"https://dart.fss.or.kr/dsae001/main.do\"\n",
    "driver.get(url)\n",
    "driver.maximize_window()\n",
    "driver.implicitly_wait(5)"
   ]
  },
  {
   "cell_type": "code",
   "execution_count": null,
   "id": "cbc75d1a-6b7f-4910-8331-a67dc600684c",
   "metadata": {},
   "outputs": [],
   "source": [
    "# 업종별 탭\n",
    "upjong_btn=driver.find_element(By.CSS_SELECTOR,'#businessTab > a')\n",
    "upjong_btn.click()\n",
    "\n",
    "# 최상위 분류 \n",
    "type_btn_1=driver.find_element(By.CSS_SELECTOR,'#root4646 > i')\n",
    "type_btn_1.click()\n",
    "time.sleep(1)\n",
    "\n",
    "# 두 번째 상위 분류 \n",
    "type_btn_2=driver.find_element(By.XPATH,'//*[@id=\"46\"]/i')\n",
    "type_btn_2.click()\n",
    "time.sleep(1)\n",
    "\n",
    "# 세 번째 상위 분류 \n",
    "type_btn_3=driver.find_element(By.XPATH,'//*[@id=\"463\"]/i')\n",
    "type_btn_3.click()\n",
    "time.sleep(1)\n",
    "\n",
    "# 네 번재 상위 분류 \n",
    "type_btn_4=driver.find_element(By.XPATH,'//*[@id=\"4632\"]/i')\n",
    "type_btn_4.click()\n",
    "time.sleep(1)\n",
    "\n",
    "# 마지막 분류\n",
    "type_btn_end=driver.find_element(By.XPATH,'//*[@id=\"46329_anchor\"]')\n",
    "type_btn_end.click()\n",
    "time.sleep(1)\n",
    "time.sleep(3)"
   ]
  },
  {
   "cell_type": "code",
   "execution_count": null,
   "id": "ae6dbdda-c2f9-46ae-83ca-0ac55bf9ee1f",
   "metadata": {},
   "outputs": [],
   "source": [
    "# 빈 리스트 생성\n",
    "table_list=[]\n",
    "com_name = []\n",
    "table1_list=[]"
   ]
  },
  {
   "cell_type": "code",
   "execution_count": null,
   "id": "3e988806-9d9f-4165-afa1-6f009fe1f81f",
   "metadata": {},
   "outputs": [],
   "source": [
    "page_list=driver.find_elements(By.CSS_SELECTOR,'#listContents > div.psWrap > div.pageSkip > ul > li')\n",
    "comp_list=driver.find_elements(By.XPATH,'//*[@id=\"corpTabel\"]/tbody/tr')"
   ]
  },
  {
   "cell_type": "code",
   "execution_count": null,
   "id": "2ab1da55-b791-4724-bb90-55d6f5dc8a43",
   "metadata": {},
   "outputs": [],
   "source": [
    "# 1페이지 크롤링\n",
    "for j in range(len(comp_list)):\n",
    "    driver.find_element(By.XPATH,f'//*[@id=\"corpTabel\"]/tbody/tr[{j+1}]/td[1]/span/a').click()\n",
    "    time.sleep(1)\n",
    "    html=driver.page_source\n",
    "    soup=BeautifulSoup(html,'html.parser')\n",
    "    time.sleep(1)\n",
    "    inform_table=soup.select('#corpDetailTabel > tbody')[0]\n",
    "    table_list.append(inform_table)\n",
    "    time.sleep(1)"
   ]
  },
  {
   "cell_type": "code",
   "execution_count": null,
   "id": "b1d4a578-37e5-4457-8c58-7ff18553e7a0",
   "metadata": {},
   "outputs": [],
   "source": [
    "# 2페이지 크롤링\n",
    "for j in range(len(comp_list)):\n",
    "    driver.find_element(By.XPATH,f'//*[@id=\"corpTabel\"]/tbody/tr[{j+1}]/td[1]/span/a').click()\n",
    "    time.sleep(1)\n",
    "    html=driver.page_source\n",
    "    soup=BeautifulSoup(html,'html.parser')\n",
    "    time.sleep(1)\n",
    "    inform_table=soup.select('#corpDetailTabel > tbody')[0]\n",
    "    table1_list.append(inform_table)\n",
    "    time.sleep(1)"
   ]
  },
  {
   "cell_type": "code",
   "execution_count": null,
   "id": "4ba7a296-c547-465b-bd6f-cd36090713f0",
   "metadata": {},
   "outputs": [],
   "source": [
    "# 빈 리스트 생성\n",
    "comp_name=[]\n",
    "owner_name=[]\n",
    "address=[]\n",
    "home_page=[]\n",
    "phone_num=[]\n",
    "fax_num=[]\n",
    "comp_type=[]\n",
    "start_date=[]\n",
    "ata_list=[]"
   ]
  },
  {
   "cell_type": "code",
   "execution_count": null,
   "id": "c5eb457c-13f1-4d16-aaf3-9703e5d8aad3",
   "metadata": {},
   "outputs": [],
   "source": [
    "# 1페이지 데이터프레임 생성\n",
    "for j in table_list:\n",
    "    comp_name.append(j.select('tr>td')[2].text.strip())\n",
    "    owner_name.append(j.select('tr>td')[4].text.split('\\n')[0].lstrip())\n",
    "    address.append(j.select('tr>td')[8].text.strip())\n",
    "    home_page.append(j.select('tr>td')[9].text.strip())\n",
    "    phone_num.append(j.select('tr>td')[11].text)\n",
    "    fax_num.append(j.select('tr>td')[12].text)\n",
    "    comp_type.append(j.select('tr>td')[13].text)\n",
    "    start_date.append(pd.to_datetime(j.select('tr>td')[14].text,format='%Y-%m-%d'))"
   ]
  },
  {
   "cell_type": "code",
   "execution_count": null,
   "id": "77a52f40-fd61-49dc-a80f-f4e1b4538a61",
   "metadata": {},
   "outputs": [],
   "source": [
    "# 1페이지 데이터프레임 생성\n",
    "for j in table1_list:\n",
    "    comp_name.append(j.select('tr>td')[2].text.strip())\n",
    "    owner_name.append(j.select('tr>td')[4].text.split('\\n')[0].lstrip())\n",
    "    address.append(j.select('tr>td')[8].text.strip())\n",
    "    home_page.append(j.select('tr>td')[9].text.strip())\n",
    "    phone_num.append(j.select('tr>td')[11].text)\n",
    "    fax_num.append(j.select('tr>td')[12].text)\n",
    "    comp_type.append(j.select('tr>td')[13].text)\n",
    "    start_date.append(pd.to_datetime(j.select('tr>td')[14].text,format='%Y-%m-%d'))"
   ]
  },
  {
   "cell_type": "code",
   "execution_count": null,
   "id": "982d3cf6-7d8b-4faa-bfeb-ac137259e01e",
   "metadata": {},
   "outputs": [],
   "source": [
    "df_raw=pd.DataFrame({\n",
    "    '회사명':comp_name,\n",
    "    '대표자명':owner_name,\n",
    "    '주소':address,\n",
    "    '홈페이지':home_page,\n",
    "    '전화번호':phone_num,\n",
    "    '팩스번호':fax_num,\n",
    "    '업종':comp_type,\n",
    "    '설립일':start_date\n",
    "    })\n",
    "\n",
    "etc_df=df_raw\n",
    "etc_df"
   ]
  },
  {
   "cell_type": "code",
   "execution_count": null,
   "id": "d1a179d1-5855-4545-93de-c2cb9bc6304e",
   "metadata": {},
   "outputs": [],
   "source": [
    "df_raw=pd.DataFrame({\n",
    "    '회사명':comp_name,\n",
    "    '대표자명':owner_name,\n",
    "    '주소':address,\n",
    "    '홈페이지':home_page,\n",
    "    '전화번호':phone_num,\n",
    "    '팩스번호':fax_num,\n",
    "    '업종':comp_type,\n",
    "    '설립일':start_date\n",
    "    })\n",
    "\n",
    "etc_df1=df_raw\n",
    "etc_df1"
   ]
  },
  {
   "cell_type": "code",
   "execution_count": null,
   "id": "1e87054e-0ba4-485e-b11b-713e41f0b6c5",
   "metadata": {},
   "outputs": [],
   "source": [
    "# 1페이지, 2페이지 concat으로 데이터 병합\n",
    "df = pd.concat([etc_df, etc_df1])\n",
    "df.reset_index(inplace=True)\n",
    "df = df.drop_duplicates()\n",
    "del df['index']\n",
    "df"
   ]
  },
  {
   "cell_type": "code",
   "execution_count": null,
   "id": "cabb3b0a-8718-4e57-8d29-b4fdf11a25b6",
   "metadata": {},
   "outputs": [],
   "source": [
    "df.to_csv('../data/기타 도매기업.csv')"
   ]
  },
  {
   "cell_type": "code",
   "execution_count": null,
   "id": "42eb8560-39f0-41f6-8f58-131666f1bb8c",
   "metadata": {},
   "outputs": [],
   "source": []
  }
 ],
 "metadata": {
  "kernelspec": {
   "display_name": "Python 3 (ipykernel)",
   "language": "python",
   "name": "python3"
  },
  "language_info": {
   "codemirror_mode": {
    "name": "ipython",
    "version": 3
   },
   "file_extension": ".py",
   "mimetype": "text/x-python",
   "name": "python",
   "nbconvert_exporter": "python",
   "pygments_lexer": "ipython3",
   "version": "3.11.7"
  }
 },
 "nbformat": 4,
 "nbformat_minor": 5
}
