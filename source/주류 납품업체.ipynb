{
 "cells": [
  {
   "cell_type": "markdown",
   "id": "b112bab5",
   "metadata": {},
   "source": [
    "## 주류 납품업체 리스트"
   ]
  },
  {
   "cell_type": "markdown",
   "id": "af9a3ecf",
   "metadata": {},
   "source": [
    "### 1) 라이브러리 호출"
   ]
  },
  {
   "cell_type": "code",
   "execution_count": 1,
   "id": "77048c44",
   "metadata": {},
   "outputs": [],
   "source": [
    "from selenium import webdriver\n",
    "from selenium.webdriver.chrome.service import Service\n",
    "from selenium.webdriver.chrome.options import Options\n",
    "from selenium.webdriver.common.by import By\n",
    "from selenium.webdriver.common.keys import Keys\n",
    "import urllib.request\n",
    "import time\n",
    "# 크롬 드라이버 자동 업데이트\n",
    "from webdriver_manager.chrome import ChromeDriverManager\n",
    "# 브라우저 꺼짐 방지\n",
    "chrome_options = Options()\n",
    "chrome_options.add_experimental_option(\"detach\", True)\n",
    "# 불필요한 에러 메시지 없애기\n",
    "chrome_options.add_experimental_option(\"excludeSwitches\", [\"enable-logging\"])\n",
    "service = Service(executable_path=ChromeDriverManager().install())\n",
    "driver = webdriver.Chrome(options=chrome_options)"
   ]
  },
  {
   "cell_type": "markdown",
   "id": "3fe4e62a",
   "metadata": {},
   "source": [
    "### 2) beautifulSoup을 이용한 크롤링"
   ]
  },
  {
   "cell_type": "code",
   "execution_count": 47,
   "id": "9fd70f43",
   "metadata": {},
   "outputs": [],
   "source": [
    "driver.get('https://www.google.com/maps/search/%EB%B6%80%EC%82%B0+%EC%A3%BC%EB%A5%98+%EB%82%A9%ED%92%88%EC%97%85%EC%B2%B4?entry=ttu')\n",
    "from bs4 import BeautifulSoup\n",
    "import re\n",
    "html= driver.page_source\n",
    "soup=BeautifulSoup(html,'html.parser')\n",
    "dev = driver.find_elements(By.CLASS_NAME, 'UaQhfb.fontBodyMedium')"
   ]
  },
  {
   "cell_type": "markdown",
   "id": "cb54f3e6",
   "metadata": {},
   "source": [
    "### 3)split()으로 데이터 정제하기"
   ]
  },
  {
   "cell_type": "code",
   "execution_count": 51,
   "id": "bce241fd",
   "metadata": {},
   "outputs": [
    {
     "data": {
      "text/plain": [
       "[['해성주류', '주류 도매업체 · 수안동 40-14', '010-9665-2676'],\n",
       " ['삼덕주류판매(주)', '주류 도매업체 · 하단동 887-3', '051-205-2455'],\n",
       " ['세계주류할인점', '주류 도매업체 · 괘법동 533-4', '051-315-5954'],\n",
       " ['(합자)세일주류', '주류 도매업체 · 거제동', '051-803-3511'],\n",
       " ['세계주류전문점', '주류 도매업체 · 괘법동 582-7', '051-314-4477'],\n",
       " ['(주)대송주류', '주류 도매업체 · 송정동 129-3'],\n",
       " ['세계주류할인점', '주류 판매점 · 괘법동 553-4', '051-314-9995'],\n",
       " ['(주)오션수입주류', '주류 도매업체 · 용당동 454-30번지 1층 남구 부산광역시 KR', '051-626-9060'],\n",
       " ['(주)동남', '주류 도매업체 · 망미제2동 472-2', '051-758-0431'],\n",
       " ['(주)부덕종합주류', '주류 도매업체', '영업 중 ⋅ 오후 6:00에 영업 종료 · 051-505-1513'],\n",
       " ['(자)대원주류', '주류 도매업체 · 거제동 210-2번지 연제구 부산광역시 KR', '051-505-6652'],\n",
       " ['(주)범창주류', '주류 도매업체 · 철마면 임기리 810-3번지', '051-531-5700'],\n",
       " ['창성주류판매(주)', '주류 도매업체', '051-531-8000'],\n",
       " ['(주)남성주류', '주류 도매업체 · 괘법동 452번지', '영업 중 ⋅ 오전 12:00에 영업 종료 · 051-204-6661'],\n",
       " ['(주)해동주류', '주류 도매업체', '지금 영업 중 · 051-741-4134'],\n",
       " ['해성주류', '· 수안동 40-14', '051-556-6161'],\n",
       " ['(자)신세계수입주류', '주류 도매업체 · 남산동 968-5번지 금정구 부산광역시 KR', '051-501-8044'],\n",
       " ['세계주류할인점', '051-806-8850'],\n",
       " ['주류상회be부산시청점', '술집 · 연산동 번지 2층 1360-17', '010-2961-1367'],\n",
       " ['(주)남영', '제조업체 · 대저1동 580-14', '지금 영업 중 · 051-972-7989']]"
      ]
     },
     "execution_count": 51,
     "metadata": {},
     "output_type": "execute_result"
    }
   ],
   "source": [
    "company_info=[]\n",
    "for i in range(len(dev)):\n",
    "    a=dev[i].text.split('\\n')\n",
    "    del a[1]\n",
    "    company_info.append(a)\n",
    "company_info"
   ]
  },
  {
   "cell_type": "markdown",
   "id": "3cd76430",
   "metadata": {},
   "source": [
    "### 4) 크롤링한 데이터로 데이터프레임 만들기"
   ]
  },
  {
   "cell_type": "code",
   "execution_count": 54,
   "id": "b916e17c",
   "metadata": {},
   "outputs": [
    {
     "data": {
      "text/html": [
       "<div>\n",
       "<style scoped>\n",
       "    .dataframe tbody tr th:only-of-type {\n",
       "        vertical-align: middle;\n",
       "    }\n",
       "\n",
       "    .dataframe tbody tr th {\n",
       "        vertical-align: top;\n",
       "    }\n",
       "\n",
       "    .dataframe thead th {\n",
       "        text-align: right;\n",
       "    }\n",
       "</style>\n",
       "<table border=\"1\" class=\"dataframe\">\n",
       "  <thead>\n",
       "    <tr style=\"text-align: right;\">\n",
       "      <th></th>\n",
       "      <th>납품업체명</th>\n",
       "      <th>주소</th>\n",
       "      <th>tel</th>\n",
       "    </tr>\n",
       "  </thead>\n",
       "  <tbody>\n",
       "    <tr>\n",
       "      <th>0</th>\n",
       "      <td>해성주류</td>\n",
       "      <td>주류 도매업체 · 수안동 40-14</td>\n",
       "      <td>010-9665-2676</td>\n",
       "    </tr>\n",
       "    <tr>\n",
       "      <th>1</th>\n",
       "      <td>삼덕주류판매(주)</td>\n",
       "      <td>주류 도매업체 · 하단동 887-3</td>\n",
       "      <td>051-205-2455</td>\n",
       "    </tr>\n",
       "    <tr>\n",
       "      <th>2</th>\n",
       "      <td>세계주류할인점</td>\n",
       "      <td>주류 도매업체 · 괘법동 533-4</td>\n",
       "      <td>051-315-5954</td>\n",
       "    </tr>\n",
       "    <tr>\n",
       "      <th>3</th>\n",
       "      <td>(합자)세일주류</td>\n",
       "      <td>주류 도매업체 · 거제동</td>\n",
       "      <td>051-803-3511</td>\n",
       "    </tr>\n",
       "    <tr>\n",
       "      <th>4</th>\n",
       "      <td>세계주류전문점</td>\n",
       "      <td>주류 도매업체 · 괘법동 582-7</td>\n",
       "      <td>051-314-4477</td>\n",
       "    </tr>\n",
       "    <tr>\n",
       "      <th>5</th>\n",
       "      <td>(주)대송주류</td>\n",
       "      <td>주류 도매업체 · 송정동 129-3</td>\n",
       "      <td>None</td>\n",
       "    </tr>\n",
       "    <tr>\n",
       "      <th>6</th>\n",
       "      <td>세계주류할인점</td>\n",
       "      <td>주류 판매점 · 괘법동 553-4</td>\n",
       "      <td>051-314-9995</td>\n",
       "    </tr>\n",
       "    <tr>\n",
       "      <th>7</th>\n",
       "      <td>(주)오션수입주류</td>\n",
       "      <td>주류 도매업체 · 용당동 454-30번지 1층 남구 부산광역시 KR</td>\n",
       "      <td>051-626-9060</td>\n",
       "    </tr>\n",
       "    <tr>\n",
       "      <th>8</th>\n",
       "      <td>(주)동남</td>\n",
       "      <td>주류 도매업체 · 망미제2동 472-2</td>\n",
       "      <td>051-758-0431</td>\n",
       "    </tr>\n",
       "    <tr>\n",
       "      <th>9</th>\n",
       "      <td>(주)부덕종합주류</td>\n",
       "      <td>주류 도매업체</td>\n",
       "      <td>영업 중 ⋅ 오후 6:00에 영업 종료 · 051-505-1513</td>\n",
       "    </tr>\n",
       "    <tr>\n",
       "      <th>10</th>\n",
       "      <td>(자)대원주류</td>\n",
       "      <td>주류 도매업체 · 거제동 210-2번지 연제구 부산광역시 KR</td>\n",
       "      <td>051-505-6652</td>\n",
       "    </tr>\n",
       "    <tr>\n",
       "      <th>11</th>\n",
       "      <td>(주)범창주류</td>\n",
       "      <td>주류 도매업체 · 철마면 임기리 810-3번지</td>\n",
       "      <td>051-531-5700</td>\n",
       "    </tr>\n",
       "    <tr>\n",
       "      <th>12</th>\n",
       "      <td>창성주류판매(주)</td>\n",
       "      <td>주류 도매업체</td>\n",
       "      <td>051-531-8000</td>\n",
       "    </tr>\n",
       "    <tr>\n",
       "      <th>13</th>\n",
       "      <td>(주)남성주류</td>\n",
       "      <td>주류 도매업체 · 괘법동 452번지</td>\n",
       "      <td>영업 중 ⋅ 오전 12:00에 영업 종료 · 051-204-6661</td>\n",
       "    </tr>\n",
       "    <tr>\n",
       "      <th>14</th>\n",
       "      <td>(주)해동주류</td>\n",
       "      <td>주류 도매업체</td>\n",
       "      <td>지금 영업 중 · 051-741-4134</td>\n",
       "    </tr>\n",
       "    <tr>\n",
       "      <th>15</th>\n",
       "      <td>해성주류</td>\n",
       "      <td>· 수안동 40-14</td>\n",
       "      <td>051-556-6161</td>\n",
       "    </tr>\n",
       "    <tr>\n",
       "      <th>16</th>\n",
       "      <td>(자)신세계수입주류</td>\n",
       "      <td>주류 도매업체 · 남산동 968-5번지 금정구 부산광역시 KR</td>\n",
       "      <td>051-501-8044</td>\n",
       "    </tr>\n",
       "    <tr>\n",
       "      <th>17</th>\n",
       "      <td>세계주류할인점</td>\n",
       "      <td>051-806-8850</td>\n",
       "      <td>None</td>\n",
       "    </tr>\n",
       "    <tr>\n",
       "      <th>18</th>\n",
       "      <td>주류상회be부산시청점</td>\n",
       "      <td>술집 · 연산동 번지 2층 1360-17</td>\n",
       "      <td>010-2961-1367</td>\n",
       "    </tr>\n",
       "    <tr>\n",
       "      <th>19</th>\n",
       "      <td>(주)남영</td>\n",
       "      <td>제조업체 · 대저1동 580-14</td>\n",
       "      <td>지금 영업 중 · 051-972-7989</td>\n",
       "    </tr>\n",
       "  </tbody>\n",
       "</table>\n",
       "</div>"
      ],
      "text/plain": [
       "          납품업체명                                     주소  \\\n",
       "0          해성주류                    주류 도매업체 · 수안동 40-14   \n",
       "1     삼덕주류판매(주)                    주류 도매업체 · 하단동 887-3   \n",
       "2       세계주류할인점                    주류 도매업체 · 괘법동 533-4   \n",
       "3      (합자)세일주류                          주류 도매업체 · 거제동   \n",
       "4       세계주류전문점                    주류 도매업체 · 괘법동 582-7   \n",
       "5       (주)대송주류                    주류 도매업체 · 송정동 129-3   \n",
       "6       세계주류할인점                     주류 판매점 · 괘법동 553-4   \n",
       "7     (주)오션수입주류  주류 도매업체 · 용당동 454-30번지 1층 남구 부산광역시 KR   \n",
       "8         (주)동남                  주류 도매업체 · 망미제2동 472-2   \n",
       "9     (주)부덕종합주류                                주류 도매업체   \n",
       "10      (자)대원주류     주류 도매업체 · 거제동 210-2번지 연제구 부산광역시 KR   \n",
       "11      (주)범창주류              주류 도매업체 · 철마면 임기리 810-3번지   \n",
       "12    창성주류판매(주)                                주류 도매업체   \n",
       "13      (주)남성주류                    주류 도매업체 · 괘법동 452번지   \n",
       "14      (주)해동주류                                주류 도매업체   \n",
       "15         해성주류                            · 수안동 40-14   \n",
       "16   (자)신세계수입주류     주류 도매업체 · 남산동 968-5번지 금정구 부산광역시 KR   \n",
       "17      세계주류할인점                           051-806-8850   \n",
       "18  주류상회be부산시청점                 술집 · 연산동 번지 2층 1360-17   \n",
       "19        (주)남영                     제조업체 · 대저1동 580-14   \n",
       "\n",
       "                                      tel  \n",
       "0                           010-9665-2676  \n",
       "1                            051-205-2455  \n",
       "2                            051-315-5954  \n",
       "3                            051-803-3511  \n",
       "4                            051-314-4477  \n",
       "5                                    None  \n",
       "6                            051-314-9995  \n",
       "7                            051-626-9060  \n",
       "8                            051-758-0431  \n",
       "9    영업 중 ⋅ 오후 6:00에 영업 종료 · 051-505-1513  \n",
       "10                           051-505-6652  \n",
       "11                           051-531-5700  \n",
       "12                           051-531-8000  \n",
       "13  영업 중 ⋅ 오전 12:00에 영업 종료 · 051-204-6661  \n",
       "14                 지금 영업 중 · 051-741-4134  \n",
       "15                           051-556-6161  \n",
       "16                           051-501-8044  \n",
       "17                                   None  \n",
       "18                          010-2961-1367  \n",
       "19                 지금 영업 중 · 051-972-7989  "
      ]
     },
     "execution_count": 54,
     "metadata": {},
     "output_type": "execute_result"
    }
   ],
   "source": [
    "import pandas as pd\n",
    "df=pd.DataFrame(company_info, columns=['납품업체명', '주소', 'tel'])\n",
    "df"
   ]
  },
  {
   "cell_type": "markdown",
   "id": "379a40da",
   "metadata": {},
   "source": [
    "### 5) tel, 주소 칼럼 데이터 정제하기"
   ]
  },
  {
   "cell_type": "code",
   "execution_count": 61,
   "id": "6ae65d17",
   "metadata": {},
   "outputs": [
    {
     "data": {
      "text/plain": [
       "[['주류 도매업체', '수안동 40-14'],\n",
       " ['주류 도매업체', '하단동 887-3'],\n",
       " ['주류 도매업체', '괘법동 533-4'],\n",
       " ['주류 도매업체', '거제동'],\n",
       " ['주류 도매업체', '괘법동 582-7'],\n",
       " ['주류 도매업체', '송정동 129-3'],\n",
       " ['주류 판매점', '괘법동 553-4'],\n",
       " ['주류 도매업체', '용당동 454-30번지 1층 남구 부산광역시 KR'],\n",
       " ['주류 도매업체', '망미제2동 472-2'],\n",
       " ['주류 도매업체'],\n",
       " ['주류 도매업체', '거제동 210-2번지 연제구 부산광역시 KR'],\n",
       " ['주류 도매업체', '철마면 임기리 810-3번지'],\n",
       " ['주류 도매업체'],\n",
       " ['주류 도매업체', '괘법동 452번지'],\n",
       " ['주류 도매업체'],\n",
       " ['· 수안동 40-14'],\n",
       " ['주류 도매업체', '남산동 968-5번지 금정구 부산광역시 KR'],\n",
       " ['051-806-8850'],\n",
       " ['술집', '연산동 번지 2층 1360-17'],\n",
       " ['제조업체', '대저1동 580-14']]"
      ]
     },
     "execution_count": 61,
     "metadata": {},
     "output_type": "execute_result"
    }
   ],
   "source": [
    "# . 을 기준으로 split 해주기\n",
    "example=[]\n",
    "for i in range(len(df['주소'])):\n",
    "    a=df['주소'][i].split(' · ')\n",
    "    example.append(a)\n",
    "\n",
    "#주소만 가져오기\n",
    "examples=[]\n",
    "for i in range(len(example)):\n",
    "    a=example[i][-1]\n",
    "    examples.append(a)\n",
    "examples\n",
    "\n",
    "a= df.loc[19]['tel'].split(' · ')[-1]\n",
    "\n",
    "df=df.drop('index',axis=1)\n",
    "df=df.drop(5, axis=0)"
   ]
  },
  {
   "cell_type": "markdown",
   "id": "779b6fc3",
   "metadata": {},
   "source": [
    "### 6) 엑셀파일로 저장하기"
   ]
  },
  {
   "cell_type": "code",
   "execution_count": 117,
   "id": "44468b34",
   "metadata": {},
   "outputs": [],
   "source": [
    "df.to_excel('C:/Users/tnseh/Downloads/부산 주류 납품업체 리스트.xlsx')"
   ]
  }
 ],
 "metadata": {
  "kernelspec": {
   "display_name": "Python 3 (ipykernel)",
   "language": "python",
   "name": "python3"
  },
  "language_info": {
   "codemirror_mode": {
    "name": "ipython",
    "version": 3
   },
   "file_extension": ".py",
   "mimetype": "text/x-python",
   "name": "python",
   "nbconvert_exporter": "python",
   "pygments_lexer": "ipython3",
   "version": "3.11.5"
  }
 },
 "nbformat": 4,
 "nbformat_minor": 5
}
